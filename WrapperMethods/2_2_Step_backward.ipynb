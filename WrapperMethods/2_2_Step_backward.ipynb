{
  "nbformat": 4,
  "nbformat_minor": 0,
  "metadata": {
    "kernelspec": {
      "display_name": "Python 3",
      "language": "python",
      "name": "python3"
    },
    "language_info": {
      "codemirror_mode": {
        "name": "ipython",
        "version": 3
      },
      "file_extension": ".py",
      "mimetype": "text/x-python",
      "name": "python",
      "nbconvert_exporter": "python",
      "pygments_lexer": "ipython3",
      "version": "3.6.1"
    },
    "toc": {
      "nav_menu": {},
      "number_sections": true,
      "sideBar": true,
      "skip_h1_title": false,
      "toc_cell": false,
      "toc_position": {},
      "toc_section_display": "block",
      "toc_window_display": true
    },
    "colab": {
      "name": "2.2 Step_backward.ipynb",
      "provenance": []
    }
  },
  "cells": [
    {
      "cell_type": "markdown",
      "metadata": {
        "id": "b_271AUyWg5m",
        "colab_type": "text"
      },
      "source": [
        "### Step backward feature selection\n",
        "\n",
        "Sequential feature selection algorithms are a family of greedy search algorithms that are used to reduce an initial d-dimensional feature space to a k-dimensional feature subspace where k < d.\n",
        "\n",
        "Step backward feature selection starts by fitting a model using all features. Then it removes one feature. It will remove the one that produces the highest performing algorithm for a certain evaluation criteria. In the second step, it will remove a second feature, the one that again produces the best performing algorithm. And it proceeds, removing feature after feature, until a certain criteria is met.\n",
        "\n",
        "The pre-set criteria can be the roc_auc for classification and the r squared for regression for example. \n",
        "\n",
        "This selection procedure is called greedy, because it evaluates all possible n, and then n-1 and n-2 and so on feature combinations. Therefore, it is quite computationally expensive, and sometimes, if feature space is big, even unfeasible.\n",
        "\n",
        "There is a special package for python that implements this type of feature selection: mlxtend.\n",
        "\n",
        "In the mlxtend implementation of the step backward feature selection, the stopping criteria is an arbitrarily set number of features. So the search will finish when we reach the desired number of selected features. \n",
        "\n",
        "This is somewhat arbitrary because we may be selecting a subopimal number of features, or likewise, a high number of features. \n",
        "\n",
        "Here I will use the Step backward feature selection algorithm from mlxtend in a classification (Paribas) and regression (House Price) dataset."
      ]
    },
    {
      "cell_type": "code",
      "metadata": {
        "id": "_Z_NFOdwWg5x",
        "colab_type": "code",
        "colab": {}
      },
      "source": [
        "import pandas as pd\n",
        "import numpy as np\n",
        "\n",
        "import matplotlib.pyplot as plt\n",
        "import seaborn as sns\n",
        "%matplotlib inline\n",
        "\n",
        "from sklearn.model_selection import train_test_split\n",
        "\n",
        "from sklearn.ensemble import RandomForestRegressor, RandomForestClassifier\n",
        "from sklearn.metrics import roc_auc_score\n",
        "\n",
        "from mlxtend.feature_selection import SequentialFeatureSelector as SFS"
      ],
      "execution_count": null,
      "outputs": []
    },
    {
      "cell_type": "code",
      "metadata": {
        "id": "fl-a87Z8Wg6e",
        "colab_type": "code",
        "colab": {},
        "outputId": "ad01d45d-0d1a-4e61-c7ad-1d0d543c9f08"
      },
      "source": [
        "# load dataset\n",
        "data = pd.read_csv('paribas.csv', nrows=50000)\n",
        "data.shape"
      ],
      "execution_count": null,
      "outputs": [
        {
          "output_type": "execute_result",
          "data": {
            "text/plain": [
              "(50000, 133)"
            ]
          },
          "metadata": {
            "tags": []
          },
          "execution_count": 2
        }
      ]
    },
    {
      "cell_type": "code",
      "metadata": {
        "id": "LpkOVMu7Wg61",
        "colab_type": "code",
        "colab": {},
        "outputId": "5a0e3a66-8b50-4796-da5e-f219c48fb556"
      },
      "source": [
        "data.head()"
      ],
      "execution_count": null,
      "outputs": [
        {
          "output_type": "execute_result",
          "data": {
            "text/html": [
              "<div>\n",
              "<style>\n",
              "    .dataframe thead tr:only-child th {\n",
              "        text-align: right;\n",
              "    }\n",
              "\n",
              "    .dataframe thead th {\n",
              "        text-align: left;\n",
              "    }\n",
              "\n",
              "    .dataframe tbody tr th {\n",
              "        vertical-align: top;\n",
              "    }\n",
              "</style>\n",
              "<table border=\"1\" class=\"dataframe\">\n",
              "  <thead>\n",
              "    <tr style=\"text-align: right;\">\n",
              "      <th></th>\n",
              "      <th>ID</th>\n",
              "      <th>target</th>\n",
              "      <th>v1</th>\n",
              "      <th>v2</th>\n",
              "      <th>v3</th>\n",
              "      <th>v4</th>\n",
              "      <th>v5</th>\n",
              "      <th>v6</th>\n",
              "      <th>v7</th>\n",
              "      <th>v8</th>\n",
              "      <th>...</th>\n",
              "      <th>v122</th>\n",
              "      <th>v123</th>\n",
              "      <th>v124</th>\n",
              "      <th>v125</th>\n",
              "      <th>v126</th>\n",
              "      <th>v127</th>\n",
              "      <th>v128</th>\n",
              "      <th>v129</th>\n",
              "      <th>v130</th>\n",
              "      <th>v131</th>\n",
              "    </tr>\n",
              "  </thead>\n",
              "  <tbody>\n",
              "    <tr>\n",
              "      <th>0</th>\n",
              "      <td>3</td>\n",
              "      <td>1</td>\n",
              "      <td>1.335739</td>\n",
              "      <td>8.727474</td>\n",
              "      <td>C</td>\n",
              "      <td>3.921026</td>\n",
              "      <td>7.915266</td>\n",
              "      <td>2.599278</td>\n",
              "      <td>3.176895</td>\n",
              "      <td>0.012941</td>\n",
              "      <td>...</td>\n",
              "      <td>8.000000</td>\n",
              "      <td>1.989780</td>\n",
              "      <td>0.035754</td>\n",
              "      <td>AU</td>\n",
              "      <td>1.804126</td>\n",
              "      <td>3.113719</td>\n",
              "      <td>2.024285</td>\n",
              "      <td>0</td>\n",
              "      <td>0.636365</td>\n",
              "      <td>2.857144</td>\n",
              "    </tr>\n",
              "    <tr>\n",
              "      <th>1</th>\n",
              "      <td>4</td>\n",
              "      <td>1</td>\n",
              "      <td>NaN</td>\n",
              "      <td>NaN</td>\n",
              "      <td>C</td>\n",
              "      <td>NaN</td>\n",
              "      <td>9.191265</td>\n",
              "      <td>NaN</td>\n",
              "      <td>NaN</td>\n",
              "      <td>2.301630</td>\n",
              "      <td>...</td>\n",
              "      <td>NaN</td>\n",
              "      <td>NaN</td>\n",
              "      <td>0.598896</td>\n",
              "      <td>AF</td>\n",
              "      <td>NaN</td>\n",
              "      <td>NaN</td>\n",
              "      <td>1.957825</td>\n",
              "      <td>0</td>\n",
              "      <td>NaN</td>\n",
              "      <td>NaN</td>\n",
              "    </tr>\n",
              "    <tr>\n",
              "      <th>2</th>\n",
              "      <td>5</td>\n",
              "      <td>1</td>\n",
              "      <td>0.943877</td>\n",
              "      <td>5.310079</td>\n",
              "      <td>C</td>\n",
              "      <td>4.410969</td>\n",
              "      <td>5.326159</td>\n",
              "      <td>3.979592</td>\n",
              "      <td>3.928571</td>\n",
              "      <td>0.019645</td>\n",
              "      <td>...</td>\n",
              "      <td>9.333333</td>\n",
              "      <td>2.477596</td>\n",
              "      <td>0.013452</td>\n",
              "      <td>AE</td>\n",
              "      <td>1.773709</td>\n",
              "      <td>3.922193</td>\n",
              "      <td>1.120468</td>\n",
              "      <td>2</td>\n",
              "      <td>0.883118</td>\n",
              "      <td>1.176472</td>\n",
              "    </tr>\n",
              "    <tr>\n",
              "      <th>3</th>\n",
              "      <td>6</td>\n",
              "      <td>1</td>\n",
              "      <td>0.797415</td>\n",
              "      <td>8.304757</td>\n",
              "      <td>C</td>\n",
              "      <td>4.225930</td>\n",
              "      <td>11.627438</td>\n",
              "      <td>2.097700</td>\n",
              "      <td>1.987549</td>\n",
              "      <td>0.171947</td>\n",
              "      <td>...</td>\n",
              "      <td>7.018256</td>\n",
              "      <td>1.812795</td>\n",
              "      <td>0.002267</td>\n",
              "      <td>CJ</td>\n",
              "      <td>1.415230</td>\n",
              "      <td>2.954381</td>\n",
              "      <td>1.990847</td>\n",
              "      <td>1</td>\n",
              "      <td>1.677108</td>\n",
              "      <td>1.034483</td>\n",
              "    </tr>\n",
              "    <tr>\n",
              "      <th>4</th>\n",
              "      <td>8</td>\n",
              "      <td>1</td>\n",
              "      <td>NaN</td>\n",
              "      <td>NaN</td>\n",
              "      <td>C</td>\n",
              "      <td>NaN</td>\n",
              "      <td>NaN</td>\n",
              "      <td>NaN</td>\n",
              "      <td>NaN</td>\n",
              "      <td>NaN</td>\n",
              "      <td>...</td>\n",
              "      <td>NaN</td>\n",
              "      <td>NaN</td>\n",
              "      <td>NaN</td>\n",
              "      <td>Z</td>\n",
              "      <td>NaN</td>\n",
              "      <td>NaN</td>\n",
              "      <td>NaN</td>\n",
              "      <td>0</td>\n",
              "      <td>NaN</td>\n",
              "      <td>NaN</td>\n",
              "    </tr>\n",
              "  </tbody>\n",
              "</table>\n",
              "<p>5 rows × 133 columns</p>\n",
              "</div>"
            ],
            "text/plain": [
              "   ID  target        v1        v2 v3        v4         v5        v6        v7  \\\n",
              "0   3       1  1.335739  8.727474  C  3.921026   7.915266  2.599278  3.176895   \n",
              "1   4       1       NaN       NaN  C       NaN   9.191265       NaN       NaN   \n",
              "2   5       1  0.943877  5.310079  C  4.410969   5.326159  3.979592  3.928571   \n",
              "3   6       1  0.797415  8.304757  C  4.225930  11.627438  2.097700  1.987549   \n",
              "4   8       1       NaN       NaN  C       NaN        NaN       NaN       NaN   \n",
              "\n",
              "         v8    ...         v122      v123      v124  v125      v126      v127  \\\n",
              "0  0.012941    ...     8.000000  1.989780  0.035754    AU  1.804126  3.113719   \n",
              "1  2.301630    ...          NaN       NaN  0.598896    AF       NaN       NaN   \n",
              "2  0.019645    ...     9.333333  2.477596  0.013452    AE  1.773709  3.922193   \n",
              "3  0.171947    ...     7.018256  1.812795  0.002267    CJ  1.415230  2.954381   \n",
              "4       NaN    ...          NaN       NaN       NaN     Z       NaN       NaN   \n",
              "\n",
              "       v128  v129      v130      v131  \n",
              "0  2.024285     0  0.636365  2.857144  \n",
              "1  1.957825     0       NaN       NaN  \n",
              "2  1.120468     2  0.883118  1.176472  \n",
              "3  1.990847     1  1.677108  1.034483  \n",
              "4       NaN     0       NaN       NaN  \n",
              "\n",
              "[5 rows x 133 columns]"
            ]
          },
          "metadata": {
            "tags": []
          },
          "execution_count": 3
        }
      ]
    },
    {
      "cell_type": "code",
      "metadata": {
        "id": "h6lsq4JWWg7G",
        "colab_type": "code",
        "colab": {},
        "outputId": "92c40a9e-8bc0-4435-f93d-393bded2dea9"
      },
      "source": [
        "# In practice, feature selection should be done after data pre-processing,\n",
        "# so ideally, all the categorical variables are encoded into numbers,\n",
        "# and then you can assess how deterministic they are of the target\n",
        "\n",
        "# here for simplicity I will use only numerical variables\n",
        "# select numerical columns:\n",
        "\n",
        "numerics = ['int16', 'int32', 'int64', 'float16', 'float32', 'float64']\n",
        "numerical_vars = list(data.select_dtypes(include=numerics).columns)\n",
        "data = data[numerical_vars]\n",
        "data.shape"
      ],
      "execution_count": null,
      "outputs": [
        {
          "output_type": "execute_result",
          "data": {
            "text/plain": [
              "(50000, 114)"
            ]
          },
          "metadata": {
            "tags": []
          },
          "execution_count": 4
        }
      ]
    },
    {
      "cell_type": "markdown",
      "metadata": {
        "id": "315mi_SHWg7T",
        "colab_type": "text"
      },
      "source": [
        "### Important\n",
        "\n",
        "In all feature selection procedures, it is good practice to select the features by examining only the training set. And this is to avoid overfit."
      ]
    },
    {
      "cell_type": "code",
      "metadata": {
        "id": "5odCGtASWg7W",
        "colab_type": "code",
        "colab": {},
        "outputId": "9996cb41-889b-4b6d-bbf0-0a6f5b4a88d7"
      },
      "source": [
        "# separate train and test sets\n",
        "X_train, X_test, y_train, y_test = train_test_split(\n",
        "    data.drop(labels=['target', 'ID'], axis=1),\n",
        "    data['target'],\n",
        "    test_size=0.3,\n",
        "    random_state=0)\n",
        "\n",
        "X_train.shape, X_test.shape"
      ],
      "execution_count": null,
      "outputs": [
        {
          "output_type": "execute_result",
          "data": {
            "text/plain": [
              "((35000, 112), (15000, 112))"
            ]
          },
          "metadata": {
            "tags": []
          },
          "execution_count": 5
        }
      ]
    },
    {
      "cell_type": "code",
      "metadata": {
        "id": "YPKIUXCLWg7i",
        "colab_type": "code",
        "colab": {},
        "outputId": "66a0cd61-cd34-418f-a7a3-04825f35cb21"
      },
      "source": [
        "# find and remove correlated features\n",
        "# in order to reduce the feature space a bit\n",
        "# so that the algorithm takes shorter to find\n",
        "# the features\n",
        "\n",
        "def correlation(dataset, threshold):\n",
        "    col_corr = set()  # Set of all the names of correlated columns\n",
        "    corr_matrix = dataset.corr()\n",
        "    for i in range(len(corr_matrix.columns)):\n",
        "        for j in range(i):\n",
        "            if abs(corr_matrix.iloc[i, j]) > threshold: # we are interested in absolute coeff value\n",
        "                colname = corr_matrix.columns[i]  # getting the name of column\n",
        "                col_corr.add(colname)\n",
        "    return col_corr\n",
        "\n",
        "corr_features = correlation(X_train, 0.8)\n",
        "print('correlated features: ', len(set(corr_features)) )"
      ],
      "execution_count": null,
      "outputs": [
        {
          "output_type": "stream",
          "text": [
            "correlated features:  55\n"
          ],
          "name": "stdout"
        }
      ]
    },
    {
      "cell_type": "code",
      "metadata": {
        "id": "tlHO6oBaWg7r",
        "colab_type": "code",
        "colab": {},
        "outputId": "71001f0b-1a4c-4d53-e713-669755af7091"
      },
      "source": [
        "# removed correlated  features\n",
        "X_train.drop(labels=corr_features, axis=1, inplace=True)\n",
        "X_test.drop(labels=corr_features, axis=1, inplace=True)\n",
        "\n",
        "X_train.shape, X_test.shape"
      ],
      "execution_count": null,
      "outputs": [
        {
          "output_type": "execute_result",
          "data": {
            "text/plain": [
              "((35000, 57), (15000, 57))"
            ]
          },
          "metadata": {
            "tags": []
          },
          "execution_count": 7
        }
      ]
    },
    {
      "cell_type": "code",
      "metadata": {
        "id": "bdh0C1JoWg70",
        "colab_type": "code",
        "colab": {},
        "outputId": "71bc5d97-8a3d-48d8-a1a5-fd9d007e5d98"
      },
      "source": [
        "# step backward feature selection\n",
        "# I indicate that I want to select 15 features from\n",
        "# the total, and that I want to select those features\n",
        "# based on the optimal roc_auc\n",
        "\n",
        "sfs1 = SFS(RandomForestClassifier(n_jobs=4), \n",
        "           k_features=15, \n",
        "           forward=False, \n",
        "           floating=False, \n",
        "           verbose=2,\n",
        "           scoring='roc_auc',\n",
        "           cv=3)\n",
        "\n",
        "sfs1 = sfs1.fit(np.array(X_train.fillna(0)), y_train)"
      ],
      "execution_count": null,
      "outputs": [
        {
          "output_type": "stream",
          "text": [
            "[Parallel(n_jobs=1)]: Done   1 out of   1 | elapsed:    2.1s remaining:    0.0s\n",
            "[Parallel(n_jobs=1)]: Done  57 out of  57 | elapsed:  2.4min finished\n",
            "\n",
            "[2018-01-26 22:53:37] Features: 56/15 -- score: 0.653913601935[Parallel(n_jobs=1)]: Done   1 out of   1 | elapsed:    2.2s remaining:    0.0s\n",
            "[Parallel(n_jobs=1)]: Done  56 out of  56 | elapsed:  2.3min finished\n",
            "\n",
            "[2018-01-26 22:55:53] Features: 55/15 -- score: 0.649696246383[Parallel(n_jobs=1)]: Done   1 out of   1 | elapsed:    3.0s remaining:    0.0s\n",
            "[Parallel(n_jobs=1)]: Done  55 out of  55 | elapsed:  2.3min finished\n",
            "\n",
            "[2018-01-26 22:58:09] Features: 54/15 -- score: 0.651055394118[Parallel(n_jobs=1)]: Done   1 out of   1 | elapsed:    2.2s remaining:    0.0s\n",
            "[Parallel(n_jobs=1)]: Done  54 out of  54 | elapsed:  2.9min finished\n",
            "\n",
            "[2018-01-26 23:01:05] Features: 53/15 -- score: 0.652220638929[Parallel(n_jobs=1)]: Done   1 out of   1 | elapsed:    4.1s remaining:    0.0s\n",
            "[Parallel(n_jobs=1)]: Done  53 out of  53 | elapsed:  3.6min finished\n",
            "\n",
            "[2018-01-26 23:04:41] Features: 52/15 -- score: 0.653526040335[Parallel(n_jobs=1)]: Done   1 out of   1 | elapsed:    3.2s remaining:    0.0s\n",
            "[Parallel(n_jobs=1)]: Done  52 out of  52 | elapsed:  3.2min finished\n",
            "\n",
            "[2018-01-26 23:07:53] Features: 51/15 -- score: 0.652073897408[Parallel(n_jobs=1)]: Done   1 out of   1 | elapsed:    3.2s remaining:    0.0s\n",
            "[Parallel(n_jobs=1)]: Done  51 out of  51 | elapsed:  3.0min finished\n",
            "\n",
            "[2018-01-26 23:10:56] Features: 50/15 -- score: 0.652048374077[Parallel(n_jobs=1)]: Done   1 out of   1 | elapsed:    3.1s remaining:    0.0s\n",
            "[Parallel(n_jobs=1)]: Done  50 out of  50 | elapsed:  2.3min finished\n",
            "\n",
            "[2018-01-26 23:13:16] Features: 49/15 -- score: 0.653395795539[Parallel(n_jobs=1)]: Done   1 out of   1 | elapsed:    2.3s remaining:    0.0s\n",
            "[Parallel(n_jobs=1)]: Done  49 out of  49 | elapsed:  2.0min finished\n",
            "\n",
            "[2018-01-26 23:15:16] Features: 48/15 -- score: 0.65078869447[Parallel(n_jobs=1)]: Done   1 out of   1 | elapsed:    2.3s remaining:    0.0s\n",
            "[Parallel(n_jobs=1)]: Done  48 out of  48 | elapsed:  1.9min finished\n",
            "\n",
            "[2018-01-26 23:17:13] Features: 47/15 -- score: 0.649827905119[Parallel(n_jobs=1)]: Done   1 out of   1 | elapsed:    2.2s remaining:    0.0s\n",
            "[Parallel(n_jobs=1)]: Done  47 out of  47 | elapsed:  1.9min finished\n",
            "\n",
            "[2018-01-26 23:19:09] Features: 46/15 -- score: 0.650546762032[Parallel(n_jobs=1)]: Done   1 out of   1 | elapsed:    2.2s remaining:    0.0s\n",
            "[Parallel(n_jobs=1)]: Done  46 out of  46 | elapsed:  1.9min finished\n",
            "\n",
            "[2018-01-26 23:21:00] Features: 45/15 -- score: 0.650538451021[Parallel(n_jobs=1)]: Done   1 out of   1 | elapsed:    2.3s remaining:    0.0s\n",
            "[Parallel(n_jobs=1)]: Done  45 out of  45 | elapsed:  1.8min finished\n",
            "\n",
            "[2018-01-26 23:22:49] Features: 44/15 -- score: 0.653101905987[Parallel(n_jobs=1)]: Done   1 out of   1 | elapsed:    2.2s remaining:    0.0s\n",
            "[Parallel(n_jobs=1)]: Done  44 out of  44 | elapsed:  1.8min finished\n",
            "\n",
            "[2018-01-26 23:24:34] Features: 43/15 -- score: 0.653076175768[Parallel(n_jobs=1)]: Done   1 out of   1 | elapsed:    2.3s remaining:    0.0s\n",
            "[Parallel(n_jobs=1)]: Done  43 out of  43 | elapsed:  1.7min finished\n",
            "\n",
            "[2018-01-26 23:26:18] Features: 42/15 -- score: 0.653738136371[Parallel(n_jobs=1)]: Done   1 out of   1 | elapsed:    2.2s remaining:    0.0s\n",
            "[Parallel(n_jobs=1)]: Done  42 out of  42 | elapsed:  1.7min finished\n",
            "\n",
            "[2018-01-26 23:28:01] Features: 41/15 -- score: 0.652535555306[Parallel(n_jobs=1)]: Done   1 out of   1 | elapsed:    2.5s remaining:    0.0s\n",
            "[Parallel(n_jobs=1)]: Done  41 out of  41 | elapsed:  1.6min finished\n",
            "\n",
            "[2018-01-26 23:29:38] Features: 40/15 -- score: 0.65244143939[Parallel(n_jobs=1)]: Done   1 out of   1 | elapsed:    2.6s remaining:    0.0s\n",
            "[Parallel(n_jobs=1)]: Done  40 out of  40 | elapsed:  1.6min finished\n",
            "\n",
            "[2018-01-26 23:31:14] Features: 39/15 -- score: 0.654076038125[Parallel(n_jobs=1)]: Done   1 out of   1 | elapsed:    2.5s remaining:    0.0s\n",
            "[Parallel(n_jobs=1)]: Done  39 out of  39 | elapsed:  1.5min finished\n",
            "\n",
            "[2018-01-26 23:32:48] Features: 38/15 -- score: 0.655592038776[Parallel(n_jobs=1)]: Done   1 out of   1 | elapsed:    2.2s remaining:    0.0s\n",
            "[Parallel(n_jobs=1)]: Done  38 out of  38 | elapsed:  1.5min finished\n",
            "\n",
            "[2018-01-26 23:34:18] Features: 37/15 -- score: 0.655765558637[Parallel(n_jobs=1)]: Done   1 out of   1 | elapsed:    2.1s remaining:    0.0s\n",
            "[Parallel(n_jobs=1)]: Done  37 out of  37 | elapsed:  1.5min finished\n",
            "\n",
            "[2018-01-26 23:35:45] Features: 36/15 -- score: 0.653487351635[Parallel(n_jobs=1)]: Done   1 out of   1 | elapsed:    1.9s remaining:    0.0s\n",
            "[Parallel(n_jobs=1)]: Done  36 out of  36 | elapsed:  1.3min finished\n",
            "\n",
            "[2018-01-26 23:37:03] Features: 35/15 -- score: 0.652812461524[Parallel(n_jobs=1)]: Done   1 out of   1 | elapsed:    2.1s remaining:    0.0s\n",
            "[Parallel(n_jobs=1)]: Done  35 out of  35 | elapsed:  1.3min finished\n",
            "\n",
            "[2018-01-26 23:38:18] Features: 34/15 -- score: 0.65296925494[Parallel(n_jobs=1)]: Done   1 out of   1 | elapsed:    2.0s remaining:    0.0s\n",
            "[Parallel(n_jobs=1)]: Done  34 out of  34 | elapsed:  1.2min finished\n",
            "\n",
            "[2018-01-26 23:39:30] Features: 33/15 -- score: 0.652726530629[Parallel(n_jobs=1)]: Done   1 out of   1 | elapsed:    1.8s remaining:    0.0s\n",
            "[Parallel(n_jobs=1)]: Done  33 out of  33 | elapsed:  1.2min finished\n",
            "\n",
            "[2018-01-26 23:40:41] Features: 32/15 -- score: 0.656348041396[Parallel(n_jobs=1)]: Done   1 out of   1 | elapsed:    2.0s remaining:    0.0s\n",
            "[Parallel(n_jobs=1)]: Done  32 out of  32 | elapsed:  1.1min finished\n",
            "\n",
            "[2018-01-26 23:41:49] Features: 31/15 -- score: 0.65464041354[Parallel(n_jobs=1)]: Done   1 out of   1 | elapsed:    2.1s remaining:    0.0s\n",
            "[Parallel(n_jobs=1)]: Done  31 out of  31 | elapsed:  1.1min finished\n",
            "\n",
            "[2018-01-26 23:42:55] Features: 30/15 -- score: 0.654810768789[Parallel(n_jobs=1)]: Done   1 out of   1 | elapsed:    1.8s remaining:    0.0s\n",
            "[Parallel(n_jobs=1)]: Done  30 out of  30 | elapsed:   56.9s finished\n",
            "\n",
            "[2018-01-26 23:43:52] Features: 29/15 -- score: 0.655560380794[Parallel(n_jobs=1)]: Done   1 out of   1 | elapsed:    2.0s remaining:    0.0s\n",
            "[Parallel(n_jobs=1)]: Done  29 out of  29 | elapsed:   59.2s finished\n",
            "\n",
            "[2018-01-26 23:44:51] Features: 28/15 -- score: 0.65300674606[Parallel(n_jobs=1)]: Done   1 out of   1 | elapsed:    2.0s remaining:    0.0s\n",
            "[Parallel(n_jobs=1)]: Done  28 out of  28 | elapsed:   54.5s finished\n",
            "\n",
            "[2018-01-26 23:45:46] Features: 27/15 -- score: 0.656563820493[Parallel(n_jobs=1)]: Done   1 out of   1 | elapsed:    2.0s remaining:    0.0s\n",
            "[Parallel(n_jobs=1)]: Done  27 out of  27 | elapsed:   52.7s finished\n",
            "\n",
            "[2018-01-26 23:46:39] Features: 26/15 -- score: 0.652602479694[Parallel(n_jobs=1)]: Done   1 out of   1 | elapsed:    2.1s remaining:    0.0s\n",
            "[Parallel(n_jobs=1)]: Done  26 out of  26 | elapsed:   55.5s finished\n",
            "\n",
            "[2018-01-26 23:47:34] Features: 25/15 -- score: 0.654321984725[Parallel(n_jobs=1)]: Done   1 out of   1 | elapsed:    1.8s remaining:    0.0s\n",
            "[Parallel(n_jobs=1)]: Done  25 out of  25 | elapsed:   45.4s finished\n",
            "\n",
            "[2018-01-26 23:48:20] Features: 24/15 -- score: 0.653438553492[Parallel(n_jobs=1)]: Done   1 out of   1 | elapsed:    1.8s remaining:    0.0s\n",
            "[Parallel(n_jobs=1)]: Done  24 out of  24 | elapsed:   44.2s finished\n",
            "\n",
            "[2018-01-26 23:49:04] Features: 23/15 -- score: 0.654151877917[Parallel(n_jobs=1)]: Done   1 out of   1 | elapsed:    2.0s remaining:    0.0s\n",
            "[Parallel(n_jobs=1)]: Done  23 out of  23 | elapsed:   42.2s finished\n",
            "\n",
            "[2018-01-26 23:49:46] Features: 22/15 -- score: 0.654716525897[Parallel(n_jobs=1)]: Done   1 out of   1 | elapsed:    1.7s remaining:    0.0s\n",
            "[Parallel(n_jobs=1)]: Done  22 out of  22 | elapsed:   39.7s finished\n",
            "\n",
            "[2018-01-26 23:50:26] Features: 21/15 -- score: 0.656349425802[Parallel(n_jobs=1)]: Done   1 out of   1 | elapsed:    1.5s remaining:    0.0s\n",
            "[Parallel(n_jobs=1)]: Done  21 out of  21 | elapsed:   36.6s finished\n",
            "\n",
            "[2018-01-26 23:51:03] Features: 20/15 -- score: 0.656620810135[Parallel(n_jobs=1)]: Done   1 out of   1 | elapsed:    1.7s remaining:    0.0s\n",
            "[Parallel(n_jobs=1)]: Done  20 out of  20 | elapsed:   35.2s finished\n",
            "\n",
            "[2018-01-26 23:51:38] Features: 19/15 -- score: 0.655447291291[Parallel(n_jobs=1)]: Done   1 out of   1 | elapsed:    1.7s remaining:    0.0s\n",
            "[Parallel(n_jobs=1)]: Done  19 out of  19 | elapsed:   33.4s finished\n",
            "\n"
          ],
          "name": "stderr"
        },
        {
          "output_type": "stream",
          "text": [
            "[2018-01-26 23:52:12] Features: 18/15 -- score: 0.656795924282[Parallel(n_jobs=1)]: Done   1 out of   1 | elapsed:    1.7s remaining:    0.0s\n",
            "[Parallel(n_jobs=1)]: Done  18 out of  18 | elapsed:   31.6s finished\n",
            "\n",
            "[2018-01-26 23:52:43] Features: 17/15 -- score: 0.658795089509[Parallel(n_jobs=1)]: Done   1 out of   1 | elapsed:    1.7s remaining:    0.0s\n",
            "[Parallel(n_jobs=1)]: Done  17 out of  17 | elapsed:   29.6s finished\n",
            "\n",
            "[2018-01-26 23:53:13] Features: 16/15 -- score: 0.656811243215[Parallel(n_jobs=1)]: Done   1 out of   1 | elapsed:    1.5s remaining:    0.0s\n",
            "[Parallel(n_jobs=1)]: Done  16 out of  16 | elapsed:   24.9s finished\n",
            "\n",
            "[2018-01-26 23:53:38] Features: 15/15 -- score: 0.657286195719"
          ],
          "name": "stderr"
        }
      ]
    },
    {
      "cell_type": "code",
      "metadata": {
        "id": "_u092PNSWg7-",
        "colab_type": "code",
        "colab": {}
      },
      "source": [
        "def run_randomForests(X_train, X_test, y_train, y_test):\n",
        "    rf = RandomForestClassifier(n_estimators=200, random_state=39, max_depth=4)\n",
        "    rf.fit(X_train, y_train)\n",
        "    print('Train set')\n",
        "    pred = rf.predict_proba(X_train)\n",
        "    print('Random Forests roc-auc: {}'.format(roc_auc_score(y_train, pred[:,1])))\n",
        "    print('Test set')\n",
        "    pred = rf.predict_proba(X_test)\n",
        "    print('Random Forests roc-auc: {}'.format(roc_auc_score(y_test, pred[:,1])))"
      ],
      "execution_count": null,
      "outputs": []
    },
    {
      "cell_type": "code",
      "metadata": {
        "id": "ylIK03uGWg8J",
        "colab_type": "code",
        "colab": {},
        "outputId": "cb9e9af4-a29b-4175-d369-5e876e93669b"
      },
      "source": [
        "selected_feat= X_train.columns[list(sfs1.k_feature_idx_)]\n",
        "selected_feat"
      ],
      "execution_count": null,
      "outputs": [
        {
          "output_type": "execute_result",
          "data": {
            "text/plain": [
              "Index(['v10', 'v14', 'v16', 'v33', 'v34', 'v36', 'v38', 'v39', 'v50', 'v59',\n",
              "       'v70', 'v80', 'v85', 'v120', 'v129'],\n",
              "      dtype='object')"
            ]
          },
          "metadata": {
            "tags": []
          },
          "execution_count": 10
        }
      ]
    },
    {
      "cell_type": "code",
      "metadata": {
        "id": "AZ6fya-YWg8U",
        "colab_type": "code",
        "colab": {},
        "outputId": "b79ef7b1-c772-47b2-83aa-ae21fce6ae9e"
      },
      "source": [
        "# evaluate performance of algorithm built\n",
        "# using selected features\n",
        "\n",
        "run_randomForests(X_train[selected_feat].fillna(0),\n",
        "                  X_test[selected_feat].fillna(0),\n",
        "                  y_train, y_test)"
      ],
      "execution_count": null,
      "outputs": [
        {
          "output_type": "stream",
          "text": [
            "Train set\n",
            "Random Forests roc-auc: 0.7129739106795756\n",
            "Test set\n",
            "Random Forests roc-auc: 0.6978252616185279\n"
          ],
          "name": "stdout"
        }
      ]
    },
    {
      "cell_type": "markdown",
      "metadata": {
        "id": "f93uCLbqWg8e",
        "colab_type": "text"
      },
      "source": [
        "### Regression"
      ]
    },
    {
      "cell_type": "code",
      "metadata": {
        "id": "imp_Csp2Wg8g",
        "colab_type": "code",
        "colab": {},
        "outputId": "7bca5816-0967-475a-d4c3-c5ad26f8026a"
      },
      "source": [
        "# load dataset\n",
        "data = pd.read_csv('houseprice.csv')\n",
        "data.shape"
      ],
      "execution_count": null,
      "outputs": [
        {
          "output_type": "execute_result",
          "data": {
            "text/plain": [
              "(1460, 81)"
            ]
          },
          "metadata": {
            "tags": []
          },
          "execution_count": 12
        }
      ]
    },
    {
      "cell_type": "code",
      "metadata": {
        "id": "71si06LrWg8r",
        "colab_type": "code",
        "colab": {},
        "outputId": "31a869dc-cd6b-4071-cd52-50fcee86ed76"
      },
      "source": [
        "# In practice, feature selection should be done after data pre-processing,\n",
        "# so ideally, all the categorical variables are encoded into numbers,\n",
        "# and then you can assess how deterministic they are of the target\n",
        "\n",
        "# here for simplicity I will use only numerical variables\n",
        "# select numerical columns:\n",
        "\n",
        "numerics = ['int16', 'int32', 'int64', 'float16', 'float32', 'float64']\n",
        "numerical_vars = list(data.select_dtypes(include=numerics).columns)\n",
        "data = data[numerical_vars]\n",
        "data.shape"
      ],
      "execution_count": null,
      "outputs": [
        {
          "output_type": "execute_result",
          "data": {
            "text/plain": [
              "(1460, 38)"
            ]
          },
          "metadata": {
            "tags": []
          },
          "execution_count": 13
        }
      ]
    },
    {
      "cell_type": "code",
      "metadata": {
        "id": "9SDiLeZlWg9D",
        "colab_type": "code",
        "colab": {},
        "outputId": "221cdf07-b24a-4487-d734-f6fc3748a689"
      },
      "source": [
        "# separate train and test sets\n",
        "X_train, X_test, y_train, y_test = train_test_split(\n",
        "    data.drop(labels=['SalePrice'], axis=1),\n",
        "    data['SalePrice'],\n",
        "    test_size=0.3,\n",
        "    random_state=0)\n",
        "\n",
        "X_train.shape, X_test.shape"
      ],
      "execution_count": null,
      "outputs": [
        {
          "output_type": "execute_result",
          "data": {
            "text/plain": [
              "((1022, 37), (438, 37))"
            ]
          },
          "metadata": {
            "tags": []
          },
          "execution_count": 14
        }
      ]
    },
    {
      "cell_type": "code",
      "metadata": {
        "id": "wUXdxxubWg9M",
        "colab_type": "code",
        "colab": {},
        "outputId": "481777f8-1f75-4076-d78c-ccc491a8502f"
      },
      "source": [
        "# find and remove correlated features\n",
        "# to reduce the feature space\n",
        "\n",
        "def correlation(dataset, threshold):\n",
        "    col_corr = set()  # Set of all the names of correlated columns\n",
        "    corr_matrix = dataset.corr()\n",
        "    for i in range(len(corr_matrix.columns)):\n",
        "        for j in range(i):\n",
        "            if abs(corr_matrix.iloc[i, j]) > threshold: # we are interested in absolute coeff value\n",
        "                colname = corr_matrix.columns[i]  # getting the name of column\n",
        "                col_corr.add(colname)\n",
        "    return col_corr\n",
        "\n",
        "corr_features = correlation(X_train, 0.8)\n",
        "print('correlated features: ', len(set(corr_features)) )"
      ],
      "execution_count": null,
      "outputs": [
        {
          "output_type": "stream",
          "text": [
            "correlated features:  3\n"
          ],
          "name": "stdout"
        }
      ]
    },
    {
      "cell_type": "code",
      "metadata": {
        "id": "0Th5gyjRWg9W",
        "colab_type": "code",
        "colab": {},
        "outputId": "38859b82-48ba-448a-9f0a-2b442fa432fa"
      },
      "source": [
        "# removed correlated  features\n",
        "X_train.drop(labels=corr_features, axis=1, inplace=True)\n",
        "X_test.drop(labels=corr_features, axis=1, inplace=True)\n",
        "\n",
        "X_train.shape, X_test.shape"
      ],
      "execution_count": null,
      "outputs": [
        {
          "output_type": "execute_result",
          "data": {
            "text/plain": [
              "((1022, 34), (438, 34))"
            ]
          },
          "metadata": {
            "tags": []
          },
          "execution_count": 16
        }
      ]
    },
    {
      "cell_type": "code",
      "metadata": {
        "id": "qczO1Q_6Wg9i",
        "colab_type": "code",
        "colab": {}
      },
      "source": [
        "X_train.fillna(0, inplace=True)"
      ],
      "execution_count": null,
      "outputs": []
    },
    {
      "cell_type": "code",
      "metadata": {
        "scrolled": true,
        "id": "xOq8a-UsWg9p",
        "colab_type": "code",
        "colab": {},
        "outputId": "659a4e89-a336-428b-e717-d6b077beb469"
      },
      "source": [
        "# step backward greedy selection algorithm\n",
        "\n",
        "sfs1 = SFS(RandomForestRegressor(), \n",
        "           k_features=10, \n",
        "           forward=False, \n",
        "           floating=False, \n",
        "           verbose=2,\n",
        "           scoring='r2',\n",
        "           cv=3)\n",
        "\n",
        "sfs1 = sfs1.fit(np.array(X_train), y_train)"
      ],
      "execution_count": null,
      "outputs": [
        {
          "output_type": "stream",
          "text": [
            "[Parallel(n_jobs=1)]: Done   1 out of   1 | elapsed:    0.2s remaining:    0.0s\n",
            "[Parallel(n_jobs=1)]: Done  34 out of  34 | elapsed:    9.1s finished\n",
            "\n",
            "[2018-01-26 23:53:56] Features: 33/10 -- score: 0.849090707497[Parallel(n_jobs=1)]: Done   1 out of   1 | elapsed:    0.2s remaining:    0.0s\n",
            "[Parallel(n_jobs=1)]: Done  33 out of  33 | elapsed:    8.3s finished\n",
            "\n",
            "[2018-01-26 23:54:04] Features: 32/10 -- score: 0.843538775467[Parallel(n_jobs=1)]: Done   1 out of   1 | elapsed:    0.1s remaining:    0.0s\n",
            "[Parallel(n_jobs=1)]: Done  32 out of  32 | elapsed:    8.0s finished\n",
            "\n",
            "[2018-01-26 23:54:12] Features: 31/10 -- score: 0.8429204786[Parallel(n_jobs=1)]: Done   1 out of   1 | elapsed:    0.1s remaining:    0.0s\n",
            "[Parallel(n_jobs=1)]: Done  31 out of  31 | elapsed:    7.5s finished\n",
            "\n",
            "[2018-01-26 23:54:20] Features: 30/10 -- score: 0.849566673814[Parallel(n_jobs=1)]: Done   1 out of   1 | elapsed:    0.2s remaining:    0.0s\n",
            "[Parallel(n_jobs=1)]: Done  30 out of  30 | elapsed:    7.3s finished\n",
            "\n",
            "[2018-01-26 23:54:27] Features: 29/10 -- score: 0.848930772637[Parallel(n_jobs=1)]: Done   1 out of   1 | elapsed:    0.1s remaining:    0.0s\n",
            "[Parallel(n_jobs=1)]: Done  29 out of  29 | elapsed:    6.7s finished\n",
            "\n",
            "[2018-01-26 23:54:34] Features: 28/10 -- score: 0.847980943922[Parallel(n_jobs=1)]: Done   1 out of   1 | elapsed:    0.2s remaining:    0.0s\n",
            "[Parallel(n_jobs=1)]: Done  28 out of  28 | elapsed:    6.5s finished\n",
            "\n",
            "[2018-01-26 23:54:41] Features: 27/10 -- score: 0.850130193374[Parallel(n_jobs=1)]: Done   1 out of   1 | elapsed:    0.1s remaining:    0.0s\n",
            "[Parallel(n_jobs=1)]: Done  27 out of  27 | elapsed:    5.9s finished\n",
            "\n",
            "[2018-01-26 23:54:47] Features: 26/10 -- score: 0.851805312317[Parallel(n_jobs=1)]: Done   1 out of   1 | elapsed:    0.1s remaining:    0.0s\n",
            "[Parallel(n_jobs=1)]: Done  26 out of  26 | elapsed:    5.7s finished\n",
            "\n",
            "[2018-01-26 23:54:53] Features: 25/10 -- score: 0.84625625593[Parallel(n_jobs=1)]: Done   1 out of   1 | elapsed:    0.1s remaining:    0.0s\n",
            "[Parallel(n_jobs=1)]: Done  25 out of  25 | elapsed:    5.1s finished\n",
            "\n",
            "[2018-01-26 23:54:58] Features: 24/10 -- score: 0.848996600072[Parallel(n_jobs=1)]: Done   1 out of   1 | elapsed:    0.1s remaining:    0.0s\n",
            "[Parallel(n_jobs=1)]: Done  24 out of  24 | elapsed:    5.1s finished\n",
            "\n",
            "[2018-01-26 23:55:03] Features: 23/10 -- score: 0.849561261956[Parallel(n_jobs=1)]: Done   1 out of   1 | elapsed:    0.0s remaining:    0.0s\n",
            "[Parallel(n_jobs=1)]: Done  23 out of  23 | elapsed:    4.4s finished\n",
            "\n",
            "[2018-01-26 23:55:08] Features: 22/10 -- score: 0.847630205174[Parallel(n_jobs=1)]: Done   1 out of   1 | elapsed:    0.1s remaining:    0.0s\n",
            "[Parallel(n_jobs=1)]: Done  22 out of  22 | elapsed:    4.1s finished\n",
            "\n",
            "[2018-01-26 23:55:12] Features: 21/10 -- score: 0.854279944016[Parallel(n_jobs=1)]: Done   1 out of   1 | elapsed:    0.1s remaining:    0.0s\n",
            "[Parallel(n_jobs=1)]: Done  21 out of  21 | elapsed:    3.9s finished\n",
            "\n",
            "[2018-01-26 23:55:16] Features: 20/10 -- score: 0.855120346838[Parallel(n_jobs=1)]: Done   1 out of   1 | elapsed:    0.1s remaining:    0.0s\n",
            "[Parallel(n_jobs=1)]: Done  20 out of  20 | elapsed:    3.8s finished\n",
            "\n",
            "[2018-01-26 23:55:20] Features: 19/10 -- score: 0.85759510729[Parallel(n_jobs=1)]: Done   1 out of   1 | elapsed:    0.0s remaining:    0.0s\n",
            "[Parallel(n_jobs=1)]: Done  19 out of  19 | elapsed:    3.2s finished\n",
            "\n",
            "[2018-01-26 23:55:23] Features: 18/10 -- score: 0.854101372698[Parallel(n_jobs=1)]: Done   1 out of   1 | elapsed:    0.0s remaining:    0.0s\n",
            "[Parallel(n_jobs=1)]: Done  18 out of  18 | elapsed:    3.1s finished\n",
            "\n",
            "[2018-01-26 23:55:26] Features: 17/10 -- score: 0.853928938748[Parallel(n_jobs=1)]: Done   1 out of   1 | elapsed:    0.0s remaining:    0.0s\n",
            "[Parallel(n_jobs=1)]: Done  17 out of  17 | elapsed:    2.8s finished\n",
            "\n",
            "[2018-01-26 23:55:29] Features: 16/10 -- score: 0.857443172298[Parallel(n_jobs=1)]: Done   1 out of   1 | elapsed:    0.1s remaining:    0.0s\n",
            "[Parallel(n_jobs=1)]: Done  16 out of  16 | elapsed:    2.6s finished\n",
            "\n",
            "[2018-01-26 23:55:32] Features: 15/10 -- score: 0.850638650723[Parallel(n_jobs=1)]: Done   1 out of   1 | elapsed:    0.1s remaining:    0.0s\n",
            "[Parallel(n_jobs=1)]: Done  15 out of  15 | elapsed:    2.4s finished\n",
            "\n",
            "[2018-01-26 23:55:34] Features: 14/10 -- score: 0.851332703332[Parallel(n_jobs=1)]: Done   1 out of   1 | elapsed:    0.1s remaining:    0.0s\n",
            "[Parallel(n_jobs=1)]: Done  14 out of  14 | elapsed:    2.3s finished\n",
            "\n",
            "[2018-01-26 23:55:37] Features: 13/10 -- score: 0.855888057848[Parallel(n_jobs=1)]: Done   1 out of   1 | elapsed:    0.1s remaining:    0.0s\n",
            "[Parallel(n_jobs=1)]: Done  13 out of  13 | elapsed:    1.9s finished\n",
            "\n",
            "[2018-01-26 23:55:39] Features: 12/10 -- score: 0.850635353974[Parallel(n_jobs=1)]: Done   1 out of   1 | elapsed:    0.0s remaining:    0.0s\n",
            "[Parallel(n_jobs=1)]: Done  12 out of  12 | elapsed:    1.7s finished\n",
            "\n",
            "[2018-01-26 23:55:41] Features: 11/10 -- score: 0.842172880838[Parallel(n_jobs=1)]: Done   1 out of   1 | elapsed:    0.0s remaining:    0.0s\n",
            "[Parallel(n_jobs=1)]: Done  11 out of  11 | elapsed:    1.4s finished\n",
            "\n",
            "[2018-01-26 23:55:42] Features: 10/10 -- score: 0.836709747241"
          ],
          "name": "stderr"
        }
      ]
    },
    {
      "cell_type": "code",
      "metadata": {
        "id": "lg1htt9jWg92",
        "colab_type": "code",
        "colab": {},
        "outputId": "186e057b-2eda-4ba9-c4f4-eed7af6437b1"
      },
      "source": [
        "sfs1.k_feature_idx_"
      ],
      "execution_count": null,
      "outputs": [
        {
          "output_type": "execute_result",
          "data": {
            "text/plain": [
              "(1, 4, 5, 6, 7, 9, 13, 14, 24, 32)"
            ]
          },
          "metadata": {
            "tags": []
          },
          "execution_count": 19
        }
      ]
    },
    {
      "cell_type": "code",
      "metadata": {
        "id": "ha-xmpPBWg98",
        "colab_type": "code",
        "colab": {},
        "outputId": "a733dc1d-e809-4c57-901d-6c75454b207a"
      },
      "source": [
        "X_train.columns[list(sfs1.k_feature_idx_)]"
      ],
      "execution_count": null,
      "outputs": [
        {
          "output_type": "execute_result",
          "data": {
            "text/plain": [
              "Index(['MSSubClass', 'OverallQual', 'OverallCond', 'YearBuilt', 'YearRemodAdd',\n",
              "       'BsmtFinSF1', '1stFlrSF', '2ndFlrSF', 'GarageCars', 'MoSold'],\n",
              "      dtype='object')"
            ]
          },
          "metadata": {
            "tags": []
          },
          "execution_count": 20
        }
      ]
    },
    {
      "cell_type": "markdown",
      "metadata": {
        "collapsed": true,
        "id": "hquYZwmLWg-H",
        "colab_type": "text"
      },
      "source": [
        "This is all for this lecture. I hope you enjoyed it, and see you in the next one!"
      ]
    },
    {
      "cell_type": "code",
      "metadata": {
        "id": "iZmqR-g9Wg-M",
        "colab_type": "code",
        "colab": {}
      },
      "source": [
        ""
      ],
      "execution_count": null,
      "outputs": []
    }
  ]
}