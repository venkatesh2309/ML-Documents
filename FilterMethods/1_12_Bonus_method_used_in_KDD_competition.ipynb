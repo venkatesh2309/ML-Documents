{
  "nbformat": 4,
  "nbformat_minor": 0,
  "metadata": {
    "kernelspec": {
      "display_name": "Python 3",
      "language": "python",
      "name": "python3"
    },
    "language_info": {
      "codemirror_mode": {
        "name": "ipython",
        "version": 3
      },
      "file_extension": ".py",
      "mimetype": "text/x-python",
      "name": "python",
      "nbconvert_exporter": "python",
      "pygments_lexer": "ipython3",
      "version": "3.6.1"
    },
    "toc": {
      "nav_menu": {},
      "number_sections": true,
      "sideBar": true,
      "skip_h1_title": false,
      "toc_cell": false,
      "toc_position": {},
      "toc_section_display": "block",
      "toc_window_display": true
    },
    "colab": {
      "name": "1.12 Bonus_method_used_in_KDD_competition.ipynb",
      "provenance": []
    }
  },
  "cells": [
    {
      "cell_type": "markdown",
      "metadata": {
        "id": "aXcAn5-wmeJe",
        "colab_type": "text"
      },
      "source": [
        "## Bonus: Method used in KDD 2009 competition\n",
        "\n",
        "I will describe the feature selection approach undertaken by data scientists at the University of Melbourne for the [KDD 2009](http://www.kdd.org/kdd-cup/view/kdd-cup-2009) data science competition. The task consisted in predicting churn based on a dataset with a huge number of features.\n",
        "\n",
        "The authors describe this procedure as an aggressive non-parametric feature selection procedure, that is based in contemplating the relationship between the feature and the target. Therefore, this method should be classified as a filter method.\n",
        "\n",
        "**The procedure consists in the following steps**:\n",
        "\n",
        "For each categorical variable:\n",
        "\n",
        "    1) Separate into train and test\n",
        "\n",
        "    2) Determine the mean value of the target within each label of the categorical variable using the train set\n",
        "\n",
        "    3) Use that mean target value per label as the prediction in the test set and calculate the roc-auc.\n",
        "\n",
        "For each numerical variable:\n",
        "\n",
        "    1) Separate into train and test\n",
        "    \n",
        "    2) Divide the variable into 100 quantiles\n",
        "\n",
        "    3) Calculate the mean target within each quantile using the training set \n",
        "\n",
        "    4) Use that mean target value / bin as the prediction on the test set and calculate the roc-auc\n",
        "\n",
        "\n",
        "The authors quote the following advantages of the method:\n",
        "\n",
        "- Speed: computing mean and quantiles is direct and efficient\n",
        "- Stability respect to scale: extreme values for continuous variables do not skew the predictions\n",
        "- Comparable between categorical and numerical variables\n",
        "- Accommodation of non-linearities\n",
        "\n",
        "See my notes at the end of the notebook for a discussion on the method and the authors assumptions.\n",
        "\n",
        "You will understand better the procedure as I proceed with the demonstration. I will use the titanic dataset from Kaggle.\n",
        "\n",
        "**Reference**:\n",
        "[Predicting customer behaviour: The University of Melbourne's KDD Cup Report. Miller et al. JMLR Workshop and Conference Proceedings 7:45-55](http://www.mtome.com/Publications/CiML/CiML-v3-book.pdf)"
      ]
    },
    {
      "cell_type": "code",
      "metadata": {
        "id": "nZfPtcRImeJm",
        "colab_type": "code",
        "colab": {}
      },
      "source": [
        "import pandas as pd\n",
        "import numpy as np\n",
        "\n",
        "from sklearn.model_selection import train_test_split\n",
        "\n",
        "from sklearn.metrics import roc_auc_score"
      ],
      "execution_count": null,
      "outputs": []
    },
    {
      "cell_type": "code",
      "metadata": {
        "id": "teAV9kuFmeKC",
        "colab_type": "code",
        "colab": {
          "base_uri": "https://localhost:8080/",
          "height": 34
        },
        "outputId": "49d4d981-804a-4759-e8dd-34750ce2ce3e"
      },
      "source": [
        "# load the titanic dataset\n",
        "data = pd.read_csv('titanic_train.csv')\n",
        "data.shape"
      ],
      "execution_count": null,
      "outputs": [
        {
          "output_type": "execute_result",
          "data": {
            "text/plain": [
              "(891, 12)"
            ]
          },
          "metadata": {
            "tags": []
          },
          "execution_count": 87
        }
      ]
    },
    {
      "cell_type": "code",
      "metadata": {
        "id": "HuN1I-onmeKU",
        "colab_type": "code",
        "colab": {
          "base_uri": "https://localhost:8080/",
          "height": 345
        },
        "outputId": "0e53d20e-42c1-40bf-92a4-4b97b0cdff6b"
      },
      "source": [
        "data.head()"
      ],
      "execution_count": null,
      "outputs": [
        {
          "output_type": "execute_result",
          "data": {
            "text/html": [
              "<div>\n",
              "<style scoped>\n",
              "    .dataframe tbody tr th:only-of-type {\n",
              "        vertical-align: middle;\n",
              "    }\n",
              "\n",
              "    .dataframe tbody tr th {\n",
              "        vertical-align: top;\n",
              "    }\n",
              "\n",
              "    .dataframe thead th {\n",
              "        text-align: right;\n",
              "    }\n",
              "</style>\n",
              "<table border=\"1\" class=\"dataframe\">\n",
              "  <thead>\n",
              "    <tr style=\"text-align: right;\">\n",
              "      <th></th>\n",
              "      <th>PassengerId</th>\n",
              "      <th>Survived</th>\n",
              "      <th>Pclass</th>\n",
              "      <th>Name</th>\n",
              "      <th>Sex</th>\n",
              "      <th>Age</th>\n",
              "      <th>SibSp</th>\n",
              "      <th>Parch</th>\n",
              "      <th>Ticket</th>\n",
              "      <th>Fare</th>\n",
              "      <th>Cabin</th>\n",
              "      <th>Embarked</th>\n",
              "    </tr>\n",
              "  </thead>\n",
              "  <tbody>\n",
              "    <tr>\n",
              "      <th>0</th>\n",
              "      <td>1</td>\n",
              "      <td>0</td>\n",
              "      <td>3</td>\n",
              "      <td>Braund, Mr. Owen Harris</td>\n",
              "      <td>male</td>\n",
              "      <td>22.0</td>\n",
              "      <td>1</td>\n",
              "      <td>0</td>\n",
              "      <td>A/5 21171</td>\n",
              "      <td>7.2500</td>\n",
              "      <td>NaN</td>\n",
              "      <td>S</td>\n",
              "    </tr>\n",
              "    <tr>\n",
              "      <th>1</th>\n",
              "      <td>2</td>\n",
              "      <td>1</td>\n",
              "      <td>1</td>\n",
              "      <td>Cumings, Mrs. John Bradley (Florence Briggs Th...</td>\n",
              "      <td>female</td>\n",
              "      <td>38.0</td>\n",
              "      <td>1</td>\n",
              "      <td>0</td>\n",
              "      <td>PC 17599</td>\n",
              "      <td>71.2833</td>\n",
              "      <td>C85</td>\n",
              "      <td>C</td>\n",
              "    </tr>\n",
              "    <tr>\n",
              "      <th>2</th>\n",
              "      <td>3</td>\n",
              "      <td>1</td>\n",
              "      <td>3</td>\n",
              "      <td>Heikkinen, Miss. Laina</td>\n",
              "      <td>female</td>\n",
              "      <td>26.0</td>\n",
              "      <td>0</td>\n",
              "      <td>0</td>\n",
              "      <td>STON/O2. 3101282</td>\n",
              "      <td>7.9250</td>\n",
              "      <td>NaN</td>\n",
              "      <td>S</td>\n",
              "    </tr>\n",
              "    <tr>\n",
              "      <th>3</th>\n",
              "      <td>4</td>\n",
              "      <td>1</td>\n",
              "      <td>1</td>\n",
              "      <td>Futrelle, Mrs. Jacques Heath (Lily May Peel)</td>\n",
              "      <td>female</td>\n",
              "      <td>35.0</td>\n",
              "      <td>1</td>\n",
              "      <td>0</td>\n",
              "      <td>113803</td>\n",
              "      <td>53.1000</td>\n",
              "      <td>C123</td>\n",
              "      <td>S</td>\n",
              "    </tr>\n",
              "    <tr>\n",
              "      <th>4</th>\n",
              "      <td>5</td>\n",
              "      <td>0</td>\n",
              "      <td>3</td>\n",
              "      <td>Allen, Mr. William Henry</td>\n",
              "      <td>male</td>\n",
              "      <td>35.0</td>\n",
              "      <td>0</td>\n",
              "      <td>0</td>\n",
              "      <td>373450</td>\n",
              "      <td>8.0500</td>\n",
              "      <td>NaN</td>\n",
              "      <td>S</td>\n",
              "    </tr>\n",
              "  </tbody>\n",
              "</table>\n",
              "</div>"
            ],
            "text/plain": [
              "   PassengerId  Survived  Pclass  ...     Fare Cabin  Embarked\n",
              "0            1         0       3  ...   7.2500   NaN         S\n",
              "1            2         1       1  ...  71.2833   C85         C\n",
              "2            3         1       3  ...   7.9250   NaN         S\n",
              "3            4         1       1  ...  53.1000  C123         S\n",
              "4            5         0       3  ...   8.0500   NaN         S\n",
              "\n",
              "[5 rows x 12 columns]"
            ]
          },
          "metadata": {
            "tags": []
          },
          "execution_count": 88
        }
      ]
    },
    {
      "cell_type": "code",
      "metadata": {
        "id": "YxC4nhmCmeKh",
        "colab_type": "code",
        "colab": {
          "base_uri": "https://localhost:8080/",
          "height": 34
        },
        "outputId": "af2b08a5-6bea-404a-82d7-dda9633dd5d6"
      },
      "source": [
        "# Variable preprocessing:\n",
        "# Cabin contains missing data\n",
        "# I will replace missing data by adding a category \"Missing\"\n",
        "# then I will narrow down the different cabins by selecting only the\n",
        "# first letter, which represents the deck in which the cabin was located\n",
        "\n",
        "data['Cabin'].fillna('Missing', inplace=True)\n",
        "\n",
        "# captures first letter of string (the letter of the cabin)\n",
        "data['Cabin'] = data['Cabin'].str[0]\n",
        "data['Cabin'].unique()"
      ],
      "execution_count": null,
      "outputs": [
        {
          "output_type": "execute_result",
          "data": {
            "text/plain": [
              "array(['M', 'C', 'E', 'G', 'D', 'A', 'B', 'F', 'T'], dtype=object)"
            ]
          },
          "metadata": {
            "tags": []
          },
          "execution_count": 89
        }
      ]
    },
    {
      "cell_type": "markdown",
      "metadata": {
        "id": "Cq-7m8rOmeKu",
        "colab_type": "text"
      },
      "source": [
        "### Important\n",
        "\n",
        "In all feature selection procedures, it is good practice to select the features by examining only the training set. And this is to avoid overfit."
      ]
    },
    {
      "cell_type": "code",
      "metadata": {
        "id": "Jdaepse5meKx",
        "colab_type": "code",
        "colab": {
          "base_uri": "https://localhost:8080/",
          "height": 34
        },
        "outputId": "70a0dd48-e502-4d43-9888-1b25685aacd6"
      },
      "source": [
        "# separate train and test sets\n",
        "# I will only use the categorical variables and the target\n",
        "\n",
        "X_train, X_test, y_train, y_test = train_test_split(\n",
        "    data[['Pclass', 'Sex', 'Embarked', 'Cabin', 'Survived']],\n",
        "    data['Survived'],\n",
        "    test_size=0.3,\n",
        "    random_state=0)\n",
        "\n",
        "X_train.shape, X_test.shape"
      ],
      "execution_count": null,
      "outputs": [
        {
          "output_type": "execute_result",
          "data": {
            "text/plain": [
              "((623, 5), (268, 5))"
            ]
          },
          "metadata": {
            "tags": []
          },
          "execution_count": 90
        }
      ]
    },
    {
      "cell_type": "markdown",
      "metadata": {
        "id": "9_fDvWBqmeK8",
        "colab_type": "text"
      },
      "source": [
        "### Feature selection on categorical variables\n",
        "\n",
        "First, I will demonstrate the feature selection procedure over categorical variables. The Titanic dataset contains 4 categorical variables, which are Sex, Pclass, Cabin and Embarked.\n",
        "\n",
        "In the next cell I create a function that calculates the mean of Survival (and this is equivalent to the probability of survival) of the passenger, within each label of a categorical variable. It creates a dictionary, using the training set only, that maps each label of the training set variable, to a probability of survival.\n",
        "\n",
        "Then, the function replaces the label both in train and test set, by the probability of survival. It is like making a prediction on the outcome, by using only the label of the variable.\n",
        "\n",
        "In this way, the function replaces the original strings, by probabilities. \n",
        "\n",
        "The bottom line of this method is that we **use just the label of the variable to estimate the probability of survival of the passenger**. \n",
        "A bit like \"Tell me which one was your Cabin, and I will tell you your probability of Survival\".\n",
        "\n",
        "If the labels of a categorical variable and therefore the categorical variable are good predictors, then, we should obtain a roc-auc above 0.5 for that variable, when we evaluate those probabilities with the real outcome, which is whether the passenger survived or not."
      ]
    },
    {
      "cell_type": "code",
      "metadata": {
        "id": "qOzizbBAmeK_",
        "colab_type": "code",
        "colab": {
          "base_uri": "https://localhost:8080/",
          "height": 206
        },
        "outputId": "5bc6ad7b-3489-4b75-9f15-725da6b13ea7"
      },
      "source": [
        "def mean_encoding(df_train, df_test):\n",
        "    # temporary copy of the original dataframes\n",
        "    df_train_temp = df_train.copy()\n",
        "    df_test_temp = df_test.copy()\n",
        "    \n",
        "    for col in ['Sex', 'Cabin', 'Embarked', 'Cabin']:\n",
        "        # make a dictionary mapping labels / categories to the mean target for that label\n",
        "        risk_dict = df_train.groupby([col])['Survived'].mean().to_dict()\n",
        "        \n",
        "        # re-map the labels\n",
        "        df_train_temp[col] = df_train[col].map(risk_dict)\n",
        "        df_test_temp[col] = df_test[col].map(risk_dict)\n",
        "    \n",
        "    # drop the target\n",
        "    df_train_temp.drop(['Survived'], axis=1, inplace=True)\n",
        "    df_test_temp.drop(['Survived'], axis=1, inplace=True)        \n",
        "    return df_train_temp, df_test_temp\n",
        "        \n",
        "X_train_enc, X_test_enc = mean_encoding(X_train, X_test)\n",
        "X_train_enc.head()"
      ],
      "execution_count": null,
      "outputs": [
        {
          "output_type": "execute_result",
          "data": {
            "text/html": [
              "<div>\n",
              "<style scoped>\n",
              "    .dataframe tbody tr th:only-of-type {\n",
              "        vertical-align: middle;\n",
              "    }\n",
              "\n",
              "    .dataframe tbody tr th {\n",
              "        vertical-align: top;\n",
              "    }\n",
              "\n",
              "    .dataframe thead th {\n",
              "        text-align: right;\n",
              "    }\n",
              "</style>\n",
              "<table border=\"1\" class=\"dataframe\">\n",
              "  <thead>\n",
              "    <tr style=\"text-align: right;\">\n",
              "      <th></th>\n",
              "      <th>Pclass</th>\n",
              "      <th>Sex</th>\n",
              "      <th>Embarked</th>\n",
              "      <th>Cabin</th>\n",
              "    </tr>\n",
              "  </thead>\n",
              "  <tbody>\n",
              "    <tr>\n",
              "      <th>857</th>\n",
              "      <td>1</td>\n",
              "      <td>0.196078</td>\n",
              "      <td>0.341357</td>\n",
              "      <td>0.740741</td>\n",
              "    </tr>\n",
              "    <tr>\n",
              "      <th>52</th>\n",
              "      <td>1</td>\n",
              "      <td>0.753488</td>\n",
              "      <td>0.564815</td>\n",
              "      <td>0.692308</td>\n",
              "    </tr>\n",
              "    <tr>\n",
              "      <th>386</th>\n",
              "      <td>3</td>\n",
              "      <td>0.196078</td>\n",
              "      <td>0.341357</td>\n",
              "      <td>0.303609</td>\n",
              "    </tr>\n",
              "    <tr>\n",
              "      <th>124</th>\n",
              "      <td>1</td>\n",
              "      <td>0.196078</td>\n",
              "      <td>0.341357</td>\n",
              "      <td>0.692308</td>\n",
              "    </tr>\n",
              "    <tr>\n",
              "      <th>578</th>\n",
              "      <td>3</td>\n",
              "      <td>0.753488</td>\n",
              "      <td>0.564815</td>\n",
              "      <td>0.303609</td>\n",
              "    </tr>\n",
              "  </tbody>\n",
              "</table>\n",
              "</div>"
            ],
            "text/plain": [
              "     Pclass       Sex  Embarked     Cabin\n",
              "857       1  0.196078  0.341357  0.740741\n",
              "52        1  0.753488  0.564815  0.692308\n",
              "386       3  0.196078  0.341357  0.303609\n",
              "124       1  0.196078  0.341357  0.692308\n",
              "578       3  0.753488  0.564815  0.303609"
            ]
          },
          "metadata": {
            "tags": []
          },
          "execution_count": 91
        }
      ]
    },
    {
      "cell_type": "markdown",
      "metadata": {
        "id": "xVat1bsRmeLH",
        "colab_type": "text"
      },
      "source": [
        "The strings were replaced by probabilities."
      ]
    },
    {
      "cell_type": "code",
      "metadata": {
        "scrolled": true,
        "id": "0-648X5HmeLM",
        "colab_type": "code",
        "colab": {}
      },
      "source": [
        "# now, I calculate a roc-auc value, using the probabilities that we used to\n",
        "# replace the labels, and comparing it with the true target:\n",
        "\n",
        "roc_values = []\n",
        "for feature in ['Sex', 'Cabin', 'Embarked', 'Cabin']:\n",
        "    roc_values.append(roc_auc_score(y_test, X_test_enc[feature])) "
      ],
      "execution_count": null,
      "outputs": []
    },
    {
      "cell_type": "code",
      "metadata": {
        "id": "7jBofOtfmeLY",
        "colab_type": "code",
        "colab": {
          "base_uri": "https://localhost:8080/",
          "height": 104
        },
        "outputId": "741a3ea7-002d-476a-9d41-5cc85c39e6d9"
      },
      "source": [
        "# I make a series for easy visualisation\n",
        "m1 = pd.Series(roc_values)\n",
        "m1.index = ['Sex', 'Cabin', 'Embarked', 'Cabin']\n",
        "m1.sort_values(ascending=False)"
      ],
      "execution_count": null,
      "outputs": [
        {
          "output_type": "execute_result",
          "data": {
            "text/plain": [
              "Sex         0.771667\n",
              "Cabin       0.641637\n",
              "Cabin       0.641637\n",
              "Embarked    0.577500\n",
              "dtype: float64"
            ]
          },
          "metadata": {
            "tags": []
          },
          "execution_count": 93
        }
      ]
    },
    {
      "cell_type": "markdown",
      "metadata": {
        "id": "0Et_ndCsmeLh",
        "colab_type": "text"
      },
      "source": [
        "We can see, that all the features are important, because the roc_auc for all of them is higher than 0.5. In addition, Sex seems to be the most important feature to predict survival, as its roc_auc is the highest.\n",
        "\n",
        "As you see, this is a very powerful, yet straightforward approach to feature selection.\n",
        "\n",
        "### Feature Selection on numerical variables\n",
        "\n",
        "The procedure is exactly the same, but it requires one additional first step which is to divide the continuous variable into bins. The authors of the method divide the variable in 100 quantiles, that is 100 bins. In principle, you could divide the variable in less bins. Here I will divide the variable in 10 bins only.\n",
        "\n",
        "I will work with the numerical variables Age and Fare."
      ]
    },
    {
      "cell_type": "code",
      "metadata": {
        "id": "1RUZOun1meLj",
        "colab_type": "code",
        "colab": {
          "base_uri": "https://localhost:8080/",
          "height": 34
        },
        "outputId": "e1a04be4-040b-4007-d62d-6631b4e22b1d"
      },
      "source": [
        "# load dataset\n",
        "data = pd.read_csv('titanic_train.csv')\n",
        "data.shape"
      ],
      "execution_count": null,
      "outputs": [
        {
          "output_type": "execute_result",
          "data": {
            "text/plain": [
              "(891, 12)"
            ]
          },
          "metadata": {
            "tags": []
          },
          "execution_count": 94
        }
      ]
    },
    {
      "cell_type": "code",
      "metadata": {
        "id": "5LejlYA4meLw",
        "colab_type": "code",
        "colab": {
          "base_uri": "https://localhost:8080/",
          "height": 34
        },
        "outputId": "79f385ab-0122-4804-89ab-b135766727f3"
      },
      "source": [
        "# separate train and test sets\n",
        "X_train, X_test, y_train, y_test = train_test_split(\n",
        "    data[['Age', 'Fare', 'Survived']],\n",
        "    data['Survived'],\n",
        "    test_size=0.3,\n",
        "    random_state=0)\n",
        "\n",
        "X_train.shape, X_test.shape"
      ],
      "execution_count": null,
      "outputs": [
        {
          "output_type": "execute_result",
          "data": {
            "text/plain": [
              "((623, 3), (268, 3))"
            ]
          },
          "metadata": {
            "tags": []
          },
          "execution_count": 95
        }
      ]
    },
    {
      "cell_type": "code",
      "metadata": {
        "id": "uLFu2UEomeL4",
        "colab_type": "code",
        "colab": {
          "base_uri": "https://localhost:8080/",
          "height": 363
        },
        "outputId": "fbc8414b-0aed-4227-b763-a721e1b9a199"
      },
      "source": [
        "# I will divide Age in 10 bins. I use the qcut (quantile cut)\n",
        "# function from pandas and I indicate that I want 9 cutting points,\n",
        "# thus 10 bins.\n",
        "# retbins= True indicates that I want to capture the limits of\n",
        "# each interval (so I can then use them to cut the test set)\n",
        "\n",
        "# create 10 labels, one for each quantile\n",
        "# instead of having the quantile limits, the new variable\n",
        "# will have labels in its bins\n",
        "\n",
        "labels = ['Q' + str(i + 1) for i in range(0, 10)]\n",
        "\n",
        "X_train['Age_binned'], intervals = pd.qcut(\n",
        "    X_train.Age,\n",
        "    10,\n",
        "    labels=labels,\n",
        "    retbins=True,\n",
        "    precision=3,\n",
        "    duplicates='drop',\n",
        ")\n",
        "\n",
        "X_train[['Age_binned', 'Age']].head(10)"
      ],
      "execution_count": null,
      "outputs": [
        {
          "output_type": "execute_result",
          "data": {
            "text/html": [
              "<div>\n",
              "<style scoped>\n",
              "    .dataframe tbody tr th:only-of-type {\n",
              "        vertical-align: middle;\n",
              "    }\n",
              "\n",
              "    .dataframe tbody tr th {\n",
              "        vertical-align: top;\n",
              "    }\n",
              "\n",
              "    .dataframe thead th {\n",
              "        text-align: right;\n",
              "    }\n",
              "</style>\n",
              "<table border=\"1\" class=\"dataframe\">\n",
              "  <thead>\n",
              "    <tr style=\"text-align: right;\">\n",
              "      <th></th>\n",
              "      <th>Age_binned</th>\n",
              "      <th>Age</th>\n",
              "    </tr>\n",
              "  </thead>\n",
              "  <tbody>\n",
              "    <tr>\n",
              "      <th>857</th>\n",
              "      <td>Q10</td>\n",
              "      <td>51.0</td>\n",
              "    </tr>\n",
              "    <tr>\n",
              "      <th>52</th>\n",
              "      <td>Q9</td>\n",
              "      <td>49.0</td>\n",
              "    </tr>\n",
              "    <tr>\n",
              "      <th>386</th>\n",
              "      <td>Q1</td>\n",
              "      <td>1.0</td>\n",
              "    </tr>\n",
              "    <tr>\n",
              "      <th>124</th>\n",
              "      <td>Q10</td>\n",
              "      <td>54.0</td>\n",
              "    </tr>\n",
              "    <tr>\n",
              "      <th>578</th>\n",
              "      <td>NaN</td>\n",
              "      <td>NaN</td>\n",
              "    </tr>\n",
              "    <tr>\n",
              "      <th>549</th>\n",
              "      <td>Q1</td>\n",
              "      <td>8.0</td>\n",
              "    </tr>\n",
              "    <tr>\n",
              "      <th>118</th>\n",
              "      <td>Q4</td>\n",
              "      <td>24.0</td>\n",
              "    </tr>\n",
              "    <tr>\n",
              "      <th>12</th>\n",
              "      <td>Q3</td>\n",
              "      <td>20.0</td>\n",
              "    </tr>\n",
              "    <tr>\n",
              "      <th>157</th>\n",
              "      <td>Q6</td>\n",
              "      <td>30.0</td>\n",
              "    </tr>\n",
              "    <tr>\n",
              "      <th>127</th>\n",
              "      <td>Q4</td>\n",
              "      <td>24.0</td>\n",
              "    </tr>\n",
              "  </tbody>\n",
              "</table>\n",
              "</div>"
            ],
            "text/plain": [
              "    Age_binned   Age\n",
              "857        Q10  51.0\n",
              "52          Q9  49.0\n",
              "386         Q1   1.0\n",
              "124        Q10  54.0\n",
              "578        NaN   NaN\n",
              "549         Q1   8.0\n",
              "118         Q4  24.0\n",
              "12          Q3  20.0\n",
              "157         Q6  30.0\n",
              "127         Q4  24.0"
            ]
          },
          "metadata": {
            "tags": []
          },
          "execution_count": 96
        }
      ]
    },
    {
      "cell_type": "code",
      "metadata": {
        "id": "fRV3Pqd8meMB",
        "colab_type": "code",
        "colab": {
          "base_uri": "https://localhost:8080/",
          "height": 34
        },
        "outputId": "dfbe71cf-3b80-409e-9591-09a31b334f9a"
      },
      "source": [
        "# we can count the number of bins. It has 11 because Age contains missing data. \n",
        "# Those are kept in a separate bin (NaN)\n",
        "len(X_train.Age_binned.unique())"
      ],
      "execution_count": null,
      "outputs": [
        {
          "output_type": "execute_result",
          "data": {
            "text/plain": [
              "11"
            ]
          },
          "metadata": {
            "tags": []
          },
          "execution_count": 97
        }
      ]
    },
    {
      "cell_type": "code",
      "metadata": {
        "id": "rT6EjqwNmeMJ",
        "colab_type": "code",
        "colab": {
          "base_uri": "https://localhost:8080/",
          "height": 69
        },
        "outputId": "baf2efab-af52-40e2-b216-41aaa1221086"
      },
      "source": [
        "# here we see the NaN values\n",
        "X_train.Age_binned.unique()"
      ],
      "execution_count": null,
      "outputs": [
        {
          "output_type": "execute_result",
          "data": {
            "text/plain": [
              "[Q10, Q9, Q1, NaN, Q4, ..., Q6, Q2, Q7, Q5, Q8]\n",
              "Length: 11\n",
              "Categories (10, object): [Q1 < Q2 < Q3 < Q4 ... Q7 < Q8 < Q9 < Q10]"
            ]
          },
          "metadata": {
            "tags": []
          },
          "execution_count": 98
        }
      ]
    },
    {
      "cell_type": "code",
      "metadata": {
        "id": "0Pk4LqwGmeMS",
        "colab_type": "code",
        "colab": {
          "base_uri": "https://localhost:8080/",
          "height": 52
        },
        "outputId": "01d784d7-d146-4859-d66e-8c92b96acae8"
      },
      "source": [
        "# and these are the cutting points of the intervals\n",
        "intervals, len(intervals)"
      ],
      "execution_count": null,
      "outputs": [
        {
          "output_type": "execute_result",
          "data": {
            "text/plain": [
              "(array([ 0.67, 13.1 , 19.  , 22.  , 25.4 , 29.  , 32.  , 36.  , 41.  ,\n",
              "        49.  , 80.  ]), 11)"
            ]
          },
          "metadata": {
            "tags": []
          },
          "execution_count": 99
        }
      ]
    },
    {
      "cell_type": "code",
      "metadata": {
        "id": "EDdPYxZymeMZ",
        "colab_type": "code",
        "colab": {
          "base_uri": "https://localhost:8080/",
          "height": 363
        },
        "outputId": "6947bbaf-02e8-4866-e720-2e08353b49ad"
      },
      "source": [
        "# now I use the boundaries calculated in the previous cell to\n",
        "# bin the testing set\n",
        "\n",
        "X_test['Age_binned'] = pd.cut(x = X_test.Age, bins=intervals, labels=labels)\n",
        "X_test[['Age_binned', 'Age']].head(10)"
      ],
      "execution_count": null,
      "outputs": [
        {
          "output_type": "execute_result",
          "data": {
            "text/html": [
              "<div>\n",
              "<style scoped>\n",
              "    .dataframe tbody tr th:only-of-type {\n",
              "        vertical-align: middle;\n",
              "    }\n",
              "\n",
              "    .dataframe tbody tr th {\n",
              "        vertical-align: top;\n",
              "    }\n",
              "\n",
              "    .dataframe thead th {\n",
              "        text-align: right;\n",
              "    }\n",
              "</style>\n",
              "<table border=\"1\" class=\"dataframe\">\n",
              "  <thead>\n",
              "    <tr style=\"text-align: right;\">\n",
              "      <th></th>\n",
              "      <th>Age_binned</th>\n",
              "      <th>Age</th>\n",
              "    </tr>\n",
              "  </thead>\n",
              "  <tbody>\n",
              "    <tr>\n",
              "      <th>495</th>\n",
              "      <td>NaN</td>\n",
              "      <td>NaN</td>\n",
              "    </tr>\n",
              "    <tr>\n",
              "      <th>648</th>\n",
              "      <td>NaN</td>\n",
              "      <td>NaN</td>\n",
              "    </tr>\n",
              "    <tr>\n",
              "      <th>278</th>\n",
              "      <td>Q1</td>\n",
              "      <td>7.0</td>\n",
              "    </tr>\n",
              "    <tr>\n",
              "      <th>31</th>\n",
              "      <td>NaN</td>\n",
              "      <td>NaN</td>\n",
              "    </tr>\n",
              "    <tr>\n",
              "      <th>255</th>\n",
              "      <td>Q5</td>\n",
              "      <td>29.0</td>\n",
              "    </tr>\n",
              "    <tr>\n",
              "      <th>298</th>\n",
              "      <td>NaN</td>\n",
              "      <td>NaN</td>\n",
              "    </tr>\n",
              "    <tr>\n",
              "      <th>609</th>\n",
              "      <td>Q8</td>\n",
              "      <td>40.0</td>\n",
              "    </tr>\n",
              "    <tr>\n",
              "      <th>318</th>\n",
              "      <td>Q6</td>\n",
              "      <td>31.0</td>\n",
              "    </tr>\n",
              "    <tr>\n",
              "      <th>484</th>\n",
              "      <td>Q4</td>\n",
              "      <td>25.0</td>\n",
              "    </tr>\n",
              "    <tr>\n",
              "      <th>367</th>\n",
              "      <td>NaN</td>\n",
              "      <td>NaN</td>\n",
              "    </tr>\n",
              "  </tbody>\n",
              "</table>\n",
              "</div>"
            ],
            "text/plain": [
              "    Age_binned   Age\n",
              "495        NaN   NaN\n",
              "648        NaN   NaN\n",
              "278         Q1   7.0\n",
              "31         NaN   NaN\n",
              "255         Q5  29.0\n",
              "298        NaN   NaN\n",
              "609         Q8  40.0\n",
              "318         Q6  31.0\n",
              "484         Q4  25.0\n",
              "367        NaN   NaN"
            ]
          },
          "metadata": {
            "tags": []
          },
          "execution_count": 100
        }
      ]
    },
    {
      "cell_type": "code",
      "metadata": {
        "id": "fuOvYPgpmeMi",
        "colab_type": "code",
        "colab": {
          "base_uri": "https://localhost:8080/",
          "height": 34
        },
        "outputId": "956b2fd9-d7d8-4f92-8f6e-4153f61ef64a"
      },
      "source": [
        "# same as before, it shows 10 bins and the NaN separately.\n",
        "len(X_test.Age_binned.unique())"
      ],
      "execution_count": null,
      "outputs": [
        {
          "output_type": "execute_result",
          "data": {
            "text/plain": [
              "11"
            ]
          },
          "metadata": {
            "tags": []
          },
          "execution_count": 101
        }
      ]
    },
    {
      "cell_type": "code",
      "metadata": {
        "id": "4u7GrXpdmeMr",
        "colab_type": "code",
        "colab": {
          "base_uri": "https://localhost:8080/",
          "height": 69
        },
        "outputId": "c4723ba0-23bc-4c5d-bb92-ee7b4a31f2f8"
      },
      "source": [
        "# here we see the NaN values\n",
        "X_test.Age_binned.unique()"
      ],
      "execution_count": null,
      "outputs": [
        {
          "output_type": "execute_result",
          "data": {
            "text/plain": [
              "[NaN, Q1, Q5, Q8, Q6, ..., Q2, Q7, Q3, Q10, Q9]\n",
              "Length: 11\n",
              "Categories (10, object): [Q1 < Q2 < Q3 < Q4 ... Q7 < Q8 < Q9 < Q10]"
            ]
          },
          "metadata": {
            "tags": []
          },
          "execution_count": 102
        }
      ]
    },
    {
      "cell_type": "code",
      "metadata": {
        "id": "KK_YpsK1meMz",
        "colab_type": "code",
        "colab": {
          "base_uri": "https://localhost:8080/",
          "height": 69
        },
        "outputId": "cf5190f5-67ae-4f93-a946-4fdb3773adc4"
      },
      "source": [
        "# and here we count the NaN values\n",
        "X_train[['Age_binned']].isnull().sum(), X_test[['Age_binned']].isnull().sum()"
      ],
      "execution_count": null,
      "outputs": [
        {
          "output_type": "execute_result",
          "data": {
            "text/plain": [
              "(Age_binned    121\n",
              " dtype: int64, Age_binned    57\n",
              " dtype: int64)"
            ]
          },
          "metadata": {
            "tags": []
          },
          "execution_count": 103
        }
      ]
    },
    {
      "cell_type": "code",
      "metadata": {
        "id": "tTvILlrAmeM6",
        "colab_type": "code",
        "colab": {}
      },
      "source": [
        "# in order to replace the NaN values by a new category\n",
        "# called \"Missing\", first I need to recast the variables as\n",
        "# objects\n",
        "\n",
        "X_train['Age_binned'] = X_train['Age_binned'].astype('O')\n",
        "X_test['Age_binned'] = X_test['Age_binned'].astype('O')"
      ],
      "execution_count": null,
      "outputs": []
    },
    {
      "cell_type": "code",
      "metadata": {
        "id": "hGCUSHKRmeNC",
        "colab_type": "code",
        "colab": {}
      },
      "source": [
        "# and now I replace the missing values with a new category\n",
        "X_train['Age_binned'].fillna('Missing', inplace=True)\n",
        "X_test['Age_binned'].fillna('Missing', inplace=True)"
      ],
      "execution_count": null,
      "outputs": []
    },
    {
      "cell_type": "code",
      "metadata": {
        "id": "TEWnlh_SmeNJ",
        "colab_type": "code",
        "colab": {
          "base_uri": "https://localhost:8080/",
          "height": 121
        },
        "outputId": "76481b1b-5559-47cf-a9a9-d2aea8ed8799"
      },
      "source": [
        "# I create a dictionary that maps the bins to the mean of survival\n",
        "risk_dict = X_train.groupby(['Age_binned'])['Survived'].mean().to_dict()\n",
        "\n",
        "# re-map the labels, I replace the bins by the probability of survival\n",
        "X_train['Age_binned'] = X_train['Age_binned'].map(risk_dict)\n",
        "X_test['Age_binned'] = X_test['Age_binned'].map(risk_dict)\n",
        "\n",
        "X_train['Age_binned'].head()"
      ],
      "execution_count": null,
      "outputs": [
        {
          "output_type": "execute_result",
          "data": {
            "text/plain": [
              "857    0.360000\n",
              "52     0.360000\n",
              "386    0.568627\n",
              "124    0.360000\n",
              "578    0.305785\n",
              "Name: Age_binned, dtype: float64"
            ]
          },
          "metadata": {
            "tags": []
          },
          "execution_count": 106
        }
      ]
    },
    {
      "cell_type": "code",
      "metadata": {
        "id": "LD7Pn7X2meNR",
        "colab_type": "code",
        "colab": {
          "base_uri": "https://localhost:8080/",
          "height": 34
        },
        "outputId": "13bc0e4b-73bb-437e-9132-13aa385b34b0"
      },
      "source": [
        "# now, I calculate a roc-auc value, using the probabilities that we used to\n",
        "# replace the labels, and comparing it with the true target:\n",
        "\n",
        "roc_auc_score(y_test, X_test['Age_binned'])"
      ],
      "execution_count": null,
      "outputs": [
        {
          "output_type": "execute_result",
          "data": {
            "text/plain": [
              "0.5723809523809524"
            ]
          },
          "metadata": {
            "tags": []
          },
          "execution_count": 107
        }
      ]
    },
    {
      "cell_type": "markdown",
      "metadata": {
        "id": "7r8x7ZswmeNY",
        "colab_type": "text"
      },
      "source": [
        "It is higher than 0.5, so in principle Age does have some predictive power, although it seems worse than any of the categorical variables we evaluated before.\n",
        "\n",
        "Let's do the same quickly for Fare:\n",
        "\n",
        "#### Fare"
      ]
    },
    {
      "cell_type": "code",
      "metadata": {
        "id": "APWxC6YlmeNZ",
        "colab_type": "code",
        "colab": {}
      },
      "source": [
        "# separate the Fare values into 10 bins\n",
        "\n",
        "labels = ['Q' + str(i + 1) for i in range(0, 10)]\n",
        "\n",
        "# train\n",
        "X_train['Fare_binned'], intervals = pd.qcut(\n",
        "    X_train.Fare,\n",
        "    10,\n",
        "    labels=labels,\n",
        "    retbins=True,\n",
        "    precision=3,\n",
        "    duplicates='drop',\n",
        ")\n",
        "\n",
        "# test\n",
        "X_test['Fare_binned'] = pd.cut(x = X_test.Fare, bins=intervals, labels=labels)"
      ],
      "execution_count": null,
      "outputs": []
    },
    {
      "cell_type": "code",
      "metadata": {
        "id": "Vts0oLd2meNf",
        "colab_type": "code",
        "colab": {
          "base_uri": "https://localhost:8080/",
          "height": 34
        },
        "outputId": "3fc8a641-35ce-4515-fada-300644f2c481"
      },
      "source": [
        "# test shows some missing data. These appear when the Fare values can't\n",
        "# be allocated to any of the calculated bins\n",
        "\n",
        "X_test['Fare_binned'].isnull().sum(), X_train['Fare_binned'].isnull().sum()"
      ],
      "execution_count": null,
      "outputs": [
        {
          "output_type": "execute_result",
          "data": {
            "text/plain": [
              "(8, 0)"
            ]
          },
          "metadata": {
            "tags": []
          },
          "execution_count": 109
        }
      ]
    },
    {
      "cell_type": "code",
      "metadata": {
        "id": "1IXCy5h7meNs",
        "colab_type": "code",
        "colab": {}
      },
      "source": [
        "# parse as categorical variables\n",
        "\n",
        "X_train['Fare_binned'] = X_train['Fare_binned'].astype('O')\n",
        "X_test['Faree_binned'] = X_test['Fare_binned'].astype('category')"
      ],
      "execution_count": null,
      "outputs": []
    },
    {
      "cell_type": "code",
      "metadata": {
        "id": "pEBocmdvmeNx",
        "colab_type": "code",
        "colab": {
          "base_uri": "https://localhost:8080/",
          "height": 121
        },
        "outputId": "17000cb4-b71e-4dc7-f39e-ee4135d015b7"
      },
      "source": [
        "# I create a dictionary that maps the bins to the mean of survival\n",
        "risk_dict = X_train.groupby(['Fare_binned'])['Survived'].mean().to_dict()\n",
        "\n",
        "# re-map the labels, I replace the bins by the probability of survival\n",
        "X_train['Fare_binned'] = X_train['Fare_binned'].map(risk_dict)\n",
        "X_test['Fare_binned'] = X_test['Fare_binned'].map(risk_dict)\n",
        "\n",
        "X_train['Fare_binned'].head()\n"
      ],
      "execution_count": null,
      "outputs": [
        {
          "output_type": "execute_result",
          "data": {
            "text/plain": [
              "857    0.492063\n",
              "52     0.533333\n",
              "386    0.354839\n",
              "124    0.730159\n",
              "578    0.396825\n",
              "Name: Fare_binned, dtype: float64"
            ]
          },
          "metadata": {
            "tags": []
          },
          "execution_count": 111
        }
      ]
    },
    {
      "cell_type": "code",
      "metadata": {
        "id": "Mb6c10ZzmeN2",
        "colab_type": "code",
        "colab": {}
      },
      "source": [
        "# now, I calculate a roc-auc value, using the probabilities that we used to\n",
        "# replace the labels, and comparing it with the true target:\n",
        "\n",
        "# first I estimate a survival probability of zero for the missing data\n",
        "X_test['Fare_binned']=X_test['Fare_binned'].cat.add_categories(0)\n",
        "X_test['Fare_binned']=X_test['Fare_binned'].fillna(0, inplace=True)\n",
        "\n",
        "# then I calcualte the roc_auc\n",
        "roc_auc_score(y_test, X_test['Fare_binned'])\n",
        "y_test,X_test['Fare_binned']"
      ],
      "execution_count": null,
      "outputs": []
    },
    {
      "cell_type": "markdown",
      "metadata": {
        "id": "tRWqV_rameOB",
        "colab_type": "text"
      },
      "source": [
        "Fare, is a much better predictor of Survival.\n",
        "\n",
        "The authors mention that by using this method, you are able to compare directly numerical with categorical variables. In a sense this is true, however we need to keep in mind, that categorical variables may or may not (and typically they will not) show the same percentage of observations per label. However, when we divide a numerical variable into quantile bins, we guarantee that each bin shows the same percentage of observations.\n",
        "\n",
        "Alternatively, instead of binning into quantiles, we can bin into equal-distance bins.The way to do this, is to calculate the max value - min value range and divide that distance into the amount of bins we want to construct. That would determine the cut-points for the bins.\n",
        "\n",
        "To learn more on discretisation, visit my course \"Feature Engineering for Machine Learning\" also in Udemy. Get more details in the Final section of this course."
      ]
    },
    {
      "cell_type": "markdown",
      "metadata": {
        "id": "LlWr16g9meOD",
        "colab_type": "text"
      },
      "source": [
        "That is all for this lecture, I hope you enjoyed it and see you in the next one!"
      ]
    }
  ]
}