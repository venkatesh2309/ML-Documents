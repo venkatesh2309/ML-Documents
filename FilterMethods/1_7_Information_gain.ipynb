{
  "nbformat": 4,
  "nbformat_minor": 0,
  "metadata": {
    "kernelspec": {
      "display_name": "Python 3",
      "language": "python",
      "name": "python3"
    },
    "language_info": {
      "codemirror_mode": {
        "name": "ipython",
        "version": 3
      },
      "file_extension": ".py",
      "mimetype": "text/x-python",
      "name": "python",
      "nbconvert_exporter": "python",
      "pygments_lexer": "ipython3",
      "version": "3.6.1"
    },
    "toc": {
      "nav_menu": {},
      "number_sections": true,
      "sideBar": true,
      "skip_h1_title": false,
      "toc_cell": false,
      "toc_position": {},
      "toc_section_display": "block",
      "toc_window_display": true
    },
    "colab": {
      "name": "1.7 Information_gain.ipynb",
      "provenance": [],
      "toc_visible": true
    }
  },
  "cells": [
    {
      "cell_type": "markdown",
      "metadata": {
        "id": "XGBBOeoXLPVj",
        "colab_type": "text"
      },
      "source": [
        "## Information gain - mutual information\n",
        "\n",
        "Mutual information measures how much information the presence/absence of a feature contributes to making the correct prediction on Y.\n",
        "\n",
        "As extracted from [wikipedia](https://en.wikipedia.org/wiki/Mutual_information):\n",
        "\n",
        "Mutual information measures the information that X and Y share: It measures how much knowing one of these variables reduces uncertainty about the other. For example, if X and Y are independent, then knowing X does not give any information about Y and vice versa, so their mutual information is zero. At the other extreme, if X is a deterministic function of Y and Y is a deterministic function of X then all information conveyed by X is shared with Y: knowing X determines the value of Y and vice versa. As a result, in this case the mutual information is the same as the uncertainty contained in Y (or X) alone, namely the entropy of Y (or X). Moreover, this mutual information is the same as the entropy of X and as the entropy of Y. (A very special case of this is when X and Y are the same random variable.)\n",
        "\n",
        "I will demonstrate how to select features based on mutual information using sklearn on a regression and classification problem. For classification I will use the Paribas claims dataset from Kaggle. For regression, the House Price dataset from Kaggle."
      ]
    },
    {
      "cell_type": "code",
      "metadata": {
        "id": "kNq2w_MVx_rs",
        "colab_type": "code",
        "colab": {
          "base_uri": "https://localhost:8080/",
          "height": 225
        },
        "outputId": "2297d6ea-c2c4-41d9-af03-367074711dcf"
      },
      "source": [
        "!pip install --user kaggle\n",
        "!mkdir .kaggle\n",
        "import json\n",
        "token = {\"username\":\"####\",\"key\":\"#####\"}\n",
        "with open('/content/.kaggle/kaggle.json', 'w') as file:\n",
        "    json.dump(token, file)\n",
        "!cp /content/.kaggle/kaggle.json ~/.kaggle/kaggle.json\n",
        "!chmod 600 /root/.kaggle/kaggle.json\n",
        "!kaggle competitions download -c bnp-paribas-cardif-claims-management\n",
        "!unzip train.csv.zip\n",
        "\n",
        "\n",
        "\n"
      ],
      "execution_count": null,
      "outputs": [
        {
          "output_type": "stream",
          "text": [
            "Warning: Looks like you're using an outdated API Version, please consider updating (server 1.5.6 / client 1.5.4)\n",
            "Downloading sample_submission.csv.zip to /content\n",
            "  0% 0.00/162k [00:00<?, ?B/s]\n",
            "100% 162k/162k [00:00<00:00, 60.9MB/s]\n",
            "Downloading test.csv.zip to /content\n",
            " 97% 48.0M/49.4M [00:00<00:00, 39.7MB/s]\n",
            "100% 49.4M/49.4M [00:00<00:00, 77.8MB/s]\n",
            "Downloading train.csv.zip to /content\n",
            " 79% 39.0M/49.4M [00:00<00:00, 35.9MB/s]\n",
            "100% 49.4M/49.4M [00:00<00:00, 72.1MB/s]\n",
            "Archive:  train.csv.zip\n",
            "  inflating: train.csv               \n"
          ],
          "name": "stdout"
        }
      ]
    },
    {
      "cell_type": "code",
      "metadata": {
        "id": "ZFUAQi0iLPVq",
        "colab_type": "code",
        "colab": {}
      },
      "source": [
        "import pandas as pd\n",
        "import numpy as np\n",
        "\n",
        "import matplotlib.pyplot as plt\n",
        "import seaborn as sns\n",
        "%matplotlib inline\n",
        "\n",
        "from sklearn.model_selection import train_test_split\n",
        "\n",
        "from sklearn.feature_selection import mutual_info_classif, mutual_info_regression\n",
        "from sklearn.feature_selection import SelectKBest, SelectPercentile"
      ],
      "execution_count": null,
      "outputs": []
    },
    {
      "cell_type": "code",
      "metadata": {
        "id": "VSayh78nLPWI",
        "colab_type": "code",
        "colab": {
          "base_uri": "https://localhost:8080/",
          "height": 34
        },
        "outputId": "ca881ca1-5c99-46c2-b267-1357a379f34c"
      },
      "source": [
        "# load dataset\n",
        "data = pd.read_csv('train.csv', nrows=50000)\n",
        "data.shape"
      ],
      "execution_count": null,
      "outputs": [
        {
          "output_type": "execute_result",
          "data": {
            "text/plain": [
              "(50000, 133)"
            ]
          },
          "metadata": {
            "tags": []
          },
          "execution_count": 4
        }
      ]
    },
    {
      "cell_type": "code",
      "metadata": {
        "id": "AvdCXNsaLPWk",
        "colab_type": "code",
        "colab": {},
        "outputId": "5563ce40-caa8-4bba-a67a-2a14bb59f956"
      },
      "source": [
        "data.head()"
      ],
      "execution_count": null,
      "outputs": [
        {
          "output_type": "execute_result",
          "data": {
            "text/html": [
              "<div>\n",
              "<style>\n",
              "    .dataframe thead tr:only-child th {\n",
              "        text-align: right;\n",
              "    }\n",
              "\n",
              "    .dataframe thead th {\n",
              "        text-align: left;\n",
              "    }\n",
              "\n",
              "    .dataframe tbody tr th {\n",
              "        vertical-align: top;\n",
              "    }\n",
              "</style>\n",
              "<table border=\"1\" class=\"dataframe\">\n",
              "  <thead>\n",
              "    <tr style=\"text-align: right;\">\n",
              "      <th></th>\n",
              "      <th>ID</th>\n",
              "      <th>target</th>\n",
              "      <th>v1</th>\n",
              "      <th>v2</th>\n",
              "      <th>v3</th>\n",
              "      <th>v4</th>\n",
              "      <th>v5</th>\n",
              "      <th>v6</th>\n",
              "      <th>v7</th>\n",
              "      <th>v8</th>\n",
              "      <th>...</th>\n",
              "      <th>v122</th>\n",
              "      <th>v123</th>\n",
              "      <th>v124</th>\n",
              "      <th>v125</th>\n",
              "      <th>v126</th>\n",
              "      <th>v127</th>\n",
              "      <th>v128</th>\n",
              "      <th>v129</th>\n",
              "      <th>v130</th>\n",
              "      <th>v131</th>\n",
              "    </tr>\n",
              "  </thead>\n",
              "  <tbody>\n",
              "    <tr>\n",
              "      <th>0</th>\n",
              "      <td>3</td>\n",
              "      <td>1</td>\n",
              "      <td>1.335739</td>\n",
              "      <td>8.727474</td>\n",
              "      <td>C</td>\n",
              "      <td>3.921026</td>\n",
              "      <td>7.915266</td>\n",
              "      <td>2.599278</td>\n",
              "      <td>3.176895</td>\n",
              "      <td>0.012941</td>\n",
              "      <td>...</td>\n",
              "      <td>8.000000</td>\n",
              "      <td>1.989780</td>\n",
              "      <td>0.035754</td>\n",
              "      <td>AU</td>\n",
              "      <td>1.804126</td>\n",
              "      <td>3.113719</td>\n",
              "      <td>2.024285</td>\n",
              "      <td>0</td>\n",
              "      <td>0.636365</td>\n",
              "      <td>2.857144</td>\n",
              "    </tr>\n",
              "    <tr>\n",
              "      <th>1</th>\n",
              "      <td>4</td>\n",
              "      <td>1</td>\n",
              "      <td>NaN</td>\n",
              "      <td>NaN</td>\n",
              "      <td>C</td>\n",
              "      <td>NaN</td>\n",
              "      <td>9.191265</td>\n",
              "      <td>NaN</td>\n",
              "      <td>NaN</td>\n",
              "      <td>2.301630</td>\n",
              "      <td>...</td>\n",
              "      <td>NaN</td>\n",
              "      <td>NaN</td>\n",
              "      <td>0.598896</td>\n",
              "      <td>AF</td>\n",
              "      <td>NaN</td>\n",
              "      <td>NaN</td>\n",
              "      <td>1.957825</td>\n",
              "      <td>0</td>\n",
              "      <td>NaN</td>\n",
              "      <td>NaN</td>\n",
              "    </tr>\n",
              "    <tr>\n",
              "      <th>2</th>\n",
              "      <td>5</td>\n",
              "      <td>1</td>\n",
              "      <td>0.943877</td>\n",
              "      <td>5.310079</td>\n",
              "      <td>C</td>\n",
              "      <td>4.410969</td>\n",
              "      <td>5.326159</td>\n",
              "      <td>3.979592</td>\n",
              "      <td>3.928571</td>\n",
              "      <td>0.019645</td>\n",
              "      <td>...</td>\n",
              "      <td>9.333333</td>\n",
              "      <td>2.477596</td>\n",
              "      <td>0.013452</td>\n",
              "      <td>AE</td>\n",
              "      <td>1.773709</td>\n",
              "      <td>3.922193</td>\n",
              "      <td>1.120468</td>\n",
              "      <td>2</td>\n",
              "      <td>0.883118</td>\n",
              "      <td>1.176472</td>\n",
              "    </tr>\n",
              "    <tr>\n",
              "      <th>3</th>\n",
              "      <td>6</td>\n",
              "      <td>1</td>\n",
              "      <td>0.797415</td>\n",
              "      <td>8.304757</td>\n",
              "      <td>C</td>\n",
              "      <td>4.225930</td>\n",
              "      <td>11.627438</td>\n",
              "      <td>2.097700</td>\n",
              "      <td>1.987549</td>\n",
              "      <td>0.171947</td>\n",
              "      <td>...</td>\n",
              "      <td>7.018256</td>\n",
              "      <td>1.812795</td>\n",
              "      <td>0.002267</td>\n",
              "      <td>CJ</td>\n",
              "      <td>1.415230</td>\n",
              "      <td>2.954381</td>\n",
              "      <td>1.990847</td>\n",
              "      <td>1</td>\n",
              "      <td>1.677108</td>\n",
              "      <td>1.034483</td>\n",
              "    </tr>\n",
              "    <tr>\n",
              "      <th>4</th>\n",
              "      <td>8</td>\n",
              "      <td>1</td>\n",
              "      <td>NaN</td>\n",
              "      <td>NaN</td>\n",
              "      <td>C</td>\n",
              "      <td>NaN</td>\n",
              "      <td>NaN</td>\n",
              "      <td>NaN</td>\n",
              "      <td>NaN</td>\n",
              "      <td>NaN</td>\n",
              "      <td>...</td>\n",
              "      <td>NaN</td>\n",
              "      <td>NaN</td>\n",
              "      <td>NaN</td>\n",
              "      <td>Z</td>\n",
              "      <td>NaN</td>\n",
              "      <td>NaN</td>\n",
              "      <td>NaN</td>\n",
              "      <td>0</td>\n",
              "      <td>NaN</td>\n",
              "      <td>NaN</td>\n",
              "    </tr>\n",
              "  </tbody>\n",
              "</table>\n",
              "<p>5 rows × 133 columns</p>\n",
              "</div>"
            ],
            "text/plain": [
              "   ID  target        v1        v2 v3        v4         v5        v6        v7  \\\n",
              "0   3       1  1.335739  8.727474  C  3.921026   7.915266  2.599278  3.176895   \n",
              "1   4       1       NaN       NaN  C       NaN   9.191265       NaN       NaN   \n",
              "2   5       1  0.943877  5.310079  C  4.410969   5.326159  3.979592  3.928571   \n",
              "3   6       1  0.797415  8.304757  C  4.225930  11.627438  2.097700  1.987549   \n",
              "4   8       1       NaN       NaN  C       NaN        NaN       NaN       NaN   \n",
              "\n",
              "         v8    ...         v122      v123      v124  v125      v126      v127  \\\n",
              "0  0.012941    ...     8.000000  1.989780  0.035754    AU  1.804126  3.113719   \n",
              "1  2.301630    ...          NaN       NaN  0.598896    AF       NaN       NaN   \n",
              "2  0.019645    ...     9.333333  2.477596  0.013452    AE  1.773709  3.922193   \n",
              "3  0.171947    ...     7.018256  1.812795  0.002267    CJ  1.415230  2.954381   \n",
              "4       NaN    ...          NaN       NaN       NaN     Z       NaN       NaN   \n",
              "\n",
              "       v128  v129      v130      v131  \n",
              "0  2.024285     0  0.636365  2.857144  \n",
              "1  1.957825     0       NaN       NaN  \n",
              "2  1.120468     2  0.883118  1.176472  \n",
              "3  1.990847     1  1.677108  1.034483  \n",
              "4       NaN     0       NaN       NaN  \n",
              "\n",
              "[5 rows x 133 columns]"
            ]
          },
          "metadata": {
            "tags": []
          },
          "execution_count": 3
        }
      ]
    },
    {
      "cell_type": "code",
      "metadata": {
        "id": "cjOY2kOPLPW3",
        "colab_type": "code",
        "colab": {
          "base_uri": "https://localhost:8080/",
          "height": 34
        },
        "outputId": "794e9ec3-0719-4bc0-d063-197de2b50f16"
      },
      "source": [
        "# In practice, feature selection should be done after data pre-processing,\n",
        "# so ideally, all the categorical variables are encoded into numbers,\n",
        "# and then you can assess how deterministic they are of the target\n",
        "\n",
        "# here for simplicity I will use only numerical variables\n",
        "# select numerical columns:\n",
        "\n",
        "numerics = ['int16', 'int32', 'int64', 'float16', 'float32', 'float64']\n",
        "numerical_vars = list(data.select_dtypes(include=numerics).columns)\n",
        "data = data[numerical_vars]\n",
        "data.shape"
      ],
      "execution_count": null,
      "outputs": [
        {
          "output_type": "execute_result",
          "data": {
            "text/plain": [
              "(50000, 114)"
            ]
          },
          "metadata": {
            "tags": []
          },
          "execution_count": 5
        }
      ]
    },
    {
      "cell_type": "markdown",
      "metadata": {
        "id": "5YhxQmmrLPXN",
        "colab_type": "text"
      },
      "source": [
        "### Important\n",
        "\n",
        "In all feature selection procedures, it is good practice to select the features by examining only the training set. And this is to avoid overfit."
      ]
    },
    {
      "cell_type": "code",
      "metadata": {
        "id": "IdYogNZPLPXU",
        "colab_type": "code",
        "colab": {
          "base_uri": "https://localhost:8080/",
          "height": 34
        },
        "outputId": "f00768cb-81c4-4210-9926-d3fc9c03629b"
      },
      "source": [
        "# separate train and test sets\n",
        "X_train, X_test, y_train, y_test = train_test_split(\n",
        "    data.drop(labels=['target', 'ID'], axis=1),\n",
        "    data['target'],\n",
        "    test_size=0.3,\n",
        "    random_state=0)\n",
        "\n",
        "X_train.shape, X_test.shape"
      ],
      "execution_count": null,
      "outputs": [
        {
          "output_type": "execute_result",
          "data": {
            "text/plain": [
              "((35000, 112), (15000, 112))"
            ]
          },
          "metadata": {
            "tags": []
          },
          "execution_count": 6
        }
      ]
    },
    {
      "cell_type": "code",
      "metadata": {
        "id": "9Ts7LtzcLPXl",
        "colab_type": "code",
        "colab": {
          "base_uri": "https://localhost:8080/",
          "height": 416
        },
        "outputId": "baf335c5-f8c3-4ed6-b9ef-8c6e3352157d"
      },
      "source": [
        "# calculate the mutual information between the variables and the target\n",
        "# this returns the mutual information value of each feature\n",
        "# the smaller the value the less information the feature has about the\n",
        "# target\n",
        "mi = mutual_info_classif(X_train.fillna(0), y_train)\n",
        "mi"
      ],
      "execution_count": null,
      "outputs": [
        {
          "output_type": "execute_result",
          "data": {
            "text/plain": [
              "array([0.00115198, 0.00376259, 0.0021028 , 0.00580978, 0.00389876,\n",
              "       0.00730514, 0.0060715 , 0.00398941, 0.02531472, 0.00382227,\n",
              "       0.01729754, 0.00410407, 0.02190276, 0.00546927, 0.00698981,\n",
              "       0.00182952, 0.00268688, 0.00587079, 0.00141783, 0.01152996,\n",
              "       0.        , 0.00833319, 0.00688801, 0.00273175, 0.00170287,\n",
              "       0.00301399, 0.00397183, 0.00756928, 0.00850403, 0.00579929,\n",
              "       0.00695341, 0.00286358, 0.00644633, 0.00358314, 0.00708205,\n",
              "       0.00518723, 0.00696718, 0.0030938 , 0.00580988, 0.00398148,\n",
              "       0.0058243 , 0.00550992, 0.00298061, 0.03904274, 0.00681155,\n",
              "       0.00538938, 0.00459796, 0.00220275, 0.00381278, 0.00264295,\n",
              "       0.00304132, 0.00277539, 0.00555115, 0.01796731, 0.00346292,\n",
              "       0.00258301, 0.0055244 , 0.00245425, 0.00161655, 0.00554659,\n",
              "       0.00379221, 0.00512408, 0.00400008, 0.00394685, 0.00612917,\n",
              "       0.00289201, 0.00138187, 0.00387584, 0.00718362, 0.        ,\n",
              "       0.00638617, 0.00557069, 0.00473925, 0.        , 0.00481182,\n",
              "       0.005481  , 0.00152006, 0.00075428, 0.00643287, 0.00215902,\n",
              "       0.00102959, 0.00293227, 0.        , 0.00332065, 0.00427705,\n",
              "       0.00798371, 0.00964198, 0.        , 0.00669879, 0.00298323,\n",
              "       0.0058093 , 0.00484688, 0.00416174, 0.00410081, 0.00109935,\n",
              "       0.00986338, 0.        , 0.0039357 , 0.00389195, 0.00618538,\n",
              "       0.00484561, 0.00744864, 0.00175694, 0.00417476, 0.00590689,\n",
              "       0.00129474, 0.00788617, 0.00494155, 0.00481115, 0.0147756 ,\n",
              "       0.00745841, 0.00475299])"
            ]
          },
          "metadata": {
            "tags": []
          },
          "execution_count": 7
        }
      ]
    },
    {
      "cell_type": "code",
      "metadata": {
        "scrolled": true,
        "id": "5n5FE3vaLPXy",
        "colab_type": "code",
        "colab": {
          "base_uri": "https://localhost:8080/",
          "height": 225
        },
        "outputId": "ec13bdbe-f6d3-4a0a-e537-149b4b039b95"
      },
      "source": [
        "# let's add the variable names and order the features\n",
        "# according to the MI for clearer visualisation\n",
        "mi = pd.Series(mi)\n",
        "mi.index = X_train.columns\n",
        "mi.sort_values(ascending=False)"
      ],
      "execution_count": null,
      "outputs": [
        {
          "output_type": "execute_result",
          "data": {
            "text/plain": [
              "v50     0.039043\n",
              "v10     0.025315\n",
              "v14     0.021903\n",
              "v62     0.017967\n",
              "v12     0.017298\n",
              "          ...   \n",
              "v102    0.000000\n",
              "v115    0.000000\n",
              "v23     0.000000\n",
              "v87     0.000000\n",
              "v83     0.000000\n",
              "Length: 112, dtype: float64"
            ]
          },
          "metadata": {
            "tags": []
          },
          "execution_count": 8
        }
      ]
    },
    {
      "cell_type": "code",
      "metadata": {
        "id": "cuhcZOf0LPYB",
        "colab_type": "code",
        "colab": {
          "base_uri": "https://localhost:8080/",
          "height": 535
        },
        "outputId": "33d4351c-dec1-4560-e73f-69191354321f"
      },
      "source": [
        "# and now let's plot the ordered MI values per feature\n",
        "mi.sort_values(ascending=False).plot.bar(figsize=(20, 8))"
      ],
      "execution_count": null,
      "outputs": [
        {
          "output_type": "execute_result",
          "data": {
            "text/plain": [
              "<matplotlib.axes._subplots.AxesSubplot at 0x7ffa50ed52b0>"
            ]
          },
          "metadata": {
            "tags": []
          },
          "execution_count": 9
        },
        {
          "output_type": "display_data",
          "data": {
            "image/png": "[encoded data removed]",
            "text/plain": [
              "<Figure size 1440x576 with 1 Axes>"
            ]
          },
          "metadata": {
            "tags": []
          }
        }
      ]
    },
    {
      "cell_type": "markdown",
      "metadata": {
        "id": "aEjVXncPLPYQ",
        "colab_type": "text"
      },
      "source": [
        "Comparatively, we can see that there are a few features (left of the plot) that seem to contribute the most to predicting the target.There are also a few features with almost zero MI values on the right of the plot.\n",
        "\n",
        "As I explained in the previous lecture, where to put the cut-off to select features is arbitrary. One could choose a certain value of MI after studying the plot above. An alternative and most frequent way of selecting features is to select the top 10, or top 20 features, or the features in the the top 10th percentile of the MI value distribution.\n",
        "\n",
        "To do this, you can use mutual info in combination with SelectKBest or SelectPercentile from sklearn. SelectKBest allows you to determine how many features, and SelectPercentile the features within a certain percentile. See below."
      ]
    },
    {
      "cell_type": "code",
      "metadata": {
        "id": "WS4GgkSSLPYX",
        "colab_type": "code",
        "colab": {
          "base_uri": "https://localhost:8080/",
          "height": 69
        },
        "outputId": "5e522ae7-780e-4a37-af40-7f2d1201081c"
      },
      "source": [
        "# here I will select the top 10 features\n",
        "# which are shown below\n",
        "sel_ = SelectKBest(mutual_info_classif, k=10).fit(X_train.fillna(0), y_train)\n",
        "X_train.columns[sel_.get_support()]"
      ],
      "execution_count": null,
      "outputs": [
        {
          "output_type": "execute_result",
          "data": {
            "text/plain": [
              "Index(['v10', 'v12', 'v14', 'v21', 'v34', 'v50', 'v62', 'v101', 'v114',\n",
              "       'v129'],\n",
              "      dtype='object')"
            ]
          },
          "metadata": {
            "tags": []
          },
          "execution_count": 10
        }
      ]
    },
    {
      "cell_type": "markdown",
      "metadata": {
        "id": "IJPbIQ3YLPYm",
        "colab_type": "text"
      },
      "source": [
        "### Regression"
      ]
    },
    {
      "cell_type": "code",
      "metadata": {
        "id": "7GuqBkYxLPYq",
        "colab_type": "code",
        "colab": {
          "base_uri": "https://localhost:8080/",
          "height": 34
        },
        "outputId": "a470855d-e8e8-4626-fc90-6a6bb0e63248"
      },
      "source": [
        "# load dataset\n",
        "data = pd.read_csv('houseprice_train.csv')\n",
        "data.shape"
      ],
      "execution_count": null,
      "outputs": [
        {
          "output_type": "execute_result",
          "data": {
            "text/plain": [
              "(1460, 81)"
            ]
          },
          "metadata": {
            "tags": []
          },
          "execution_count": 11
        }
      ]
    },
    {
      "cell_type": "code",
      "metadata": {
        "id": "l7YPBpThLPY6",
        "colab_type": "code",
        "colab": {
          "base_uri": "https://localhost:8080/",
          "height": 34
        },
        "outputId": "b1225f33-29ab-4fec-95fd-c87cc54eb742"
      },
      "source": [
        "# In practice, feature selection should be done after data pre-processing,\n",
        "# so ideally, all the categorical variables are encoded into numbers,\n",
        "# and then you can assess how deterministic they are of the target\n",
        "\n",
        "# here for simplicity I will use only numerical variables\n",
        "# select numerical columns:\n",
        "\n",
        "numerics = ['int16', 'int32', 'int64', 'float16', 'float32', 'float64']\n",
        "numerical_vars = list(data.select_dtypes(include=numerics).columns)\n",
        "data = data[numerical_vars]\n",
        "data.shape"
      ],
      "execution_count": null,
      "outputs": [
        {
          "output_type": "execute_result",
          "data": {
            "text/plain": [
              "(1460, 38)"
            ]
          },
          "metadata": {
            "tags": []
          },
          "execution_count": 12
        }
      ]
    },
    {
      "cell_type": "code",
      "metadata": {
        "id": "Jo-7o3MaLPZL",
        "colab_type": "code",
        "colab": {}
      },
      "source": [
        "# separate train and test sets\n",
        "X_train, X_test, y_train, y_test = train_test_split(\n",
        "    data.drop(labels=['SalePrice'], axis=1),\n",
        "    data['SalePrice'],\n",
        "    test_size=0.3,\n",
        "    random_state=0)\n",
        "\n",
        "X_train.shape, X_test.shape"
      ],
      "execution_count": null,
      "outputs": []
    },
    {
      "cell_type": "code",
      "metadata": {
        "scrolled": true,
        "id": "EecxcUsdLPZZ",
        "colab_type": "code",
        "colab": {},
        "outputId": "84f56169-7d0c-45c2-8676-557eb33b5288"
      },
      "source": [
        "# determine the mutual information\n",
        "mi = mutual_info_regression(X_train.fillna(0), y_train)\n",
        "mi = pd.Series(mi)\n",
        "mi.index = X_train.columns\n",
        "mi.sort_values(ascending=False)"
      ],
      "execution_count": null,
      "outputs": [
        {
          "output_type": "stream",
          "text": [
            "C:\\Users\\Sole\\Anaconda3\\lib\\site-packages\\sklearn\\utils\\validation.py:429: DataConversionWarning: Data with input dtype int64 was converted to float64 by the scale function.\n",
            "  warnings.warn(msg, _DataConversionWarning)\n"
          ],
          "name": "stderr"
        },
        {
          "output_type": "execute_result",
          "data": {
            "text/plain": [
              "OverallQual      0.525141\n",
              "GrLivArea        0.481472\n",
              "TotalBsmtSF      0.382593\n",
              "GarageCars       0.369725\n",
              "GarageArea       0.369349\n",
              "YearBuilt        0.351175\n",
              "1stFlrSF         0.312771\n",
              "GarageYrBlt      0.265837\n",
              "MSSubClass       0.262575\n",
              "FullBath         0.260961\n",
              "YearRemodAdd     0.251298\n",
              "2ndFlrSF         0.222845\n",
              "LotFrontage      0.207203\n",
              "Fireplaces       0.185952\n",
              "TotRmsAbvGrd     0.182605\n",
              "OpenPorchSF      0.178707\n",
              "LotArea          0.166051\n",
              "BsmtFinSF1       0.162564\n",
              "OverallCond      0.117834\n",
              "BsmtUnfSF        0.111998\n",
              "MasVnrArea       0.100211\n",
              "HalfBath         0.081581\n",
              "WoodDeckSF       0.077299\n",
              "BedroomAbvGr     0.052164\n",
              "BsmtFullBath     0.035035\n",
              "ScreenPorch      0.021924\n",
              "KitchenAbvGr     0.021352\n",
              "EnclosedPorch    0.010106\n",
              "PoolArea         0.007475\n",
              "MiscVal          0.004594\n",
              "3SsnPorch        0.003181\n",
              "LowQualFinSF     0.001269\n",
              "YrSold           0.000000\n",
              "BsmtHalfBath     0.000000\n",
              "BsmtFinSF2       0.000000\n",
              "MoSold           0.000000\n",
              "Id               0.000000\n",
              "dtype: float64"
            ]
          },
          "metadata": {
            "tags": []
          },
          "execution_count": 14
        }
      ]
    },
    {
      "cell_type": "code",
      "metadata": {
        "id": "skx8WKr4LPZo",
        "colab_type": "code",
        "colab": {
          "base_uri": "https://localhost:8080/",
          "height": 535
        },
        "outputId": "362b6441-43c9-4276-8e79-22a7d0b31a1d"
      },
      "source": [
        "mi.sort_values(ascending=False).plot.bar(figsize=(20,8))"
      ],
      "execution_count": null,
      "outputs": [
        {
          "output_type": "execute_result",
          "data": {
            "text/plain": [
              "<matplotlib.axes._subplots.AxesSubplot at 0x7ffa5056a630>"
            ]
          },
          "metadata": {
            "tags": []
          },
          "execution_count": 14
        },
        {
          "output_type": "display_data",
          "data": {
            "image/png": "[encoded data removed]",
            "text/plain": [
              "<Figure size 1440x576 with 1 Axes>"
            ]
          },
          "metadata": {
            "tags": []
          }
        }
      ]
    },
    {
      "cell_type": "code",
      "metadata": {
        "id": "pcZhEqIvLPZy",
        "colab_type": "code",
        "colab": {
          "base_uri": "https://localhost:8080/",
          "height": 34
        },
        "outputId": "c233ca27-12b4-440a-a67d-6b801f0ae200"
      },
      "source": [
        "# here I will select the top 10 percentile\n",
        "sel_ = SelectPercentile(mutual_info_regression, percentile=10).fit(X_train.fillna(0), y_train)\n",
        "X_train.columns[sel_.get_support()]"
      ],
      "execution_count": null,
      "outputs": [
        {
          "output_type": "execute_result",
          "data": {
            "text/plain": [
              "Index(['OverallQual', 'TotalBsmtSF', 'GrLivArea', 'GarageCars'], dtype='object')"
            ]
          },
          "metadata": {
            "tags": []
          },
          "execution_count": 15
        }
      ]
    },
    {
      "cell_type": "markdown",
      "metadata": {
        "id": "guhlL4yyLPZ8",
        "colab_type": "text"
      },
      "source": [
        "I have not personally used mutual information in any of my projects. However, there is some value in the method. See for example:\n",
        "\n",
        "Comparison between univariate and mutual information selection in [sklean website](http://scikit-learn.org/stable/auto_examples/feature_selection/plot_f_test_vs_mi.html#sphx-glr-auto-examples-feature-selection-plot-f-test-vs-mi-py)\n",
        "\n",
        "In addition, mutual information has been widely covered, if anything else from a theoretical perspective, in several articles that I share in the additional reading resources section. Therefore I wanted to have it covered in the course, and I leave it up to you to explore it and see if you find any use in it.\n",
        "\n",
        "That is all for this lecture, I hope you enjoyed it and see you in the next one!"
      ]
    },
    {
      "cell_type": "code",
      "metadata": {
        "id": "2GblTk0uLPaA",
        "colab_type": "code",
        "colab": {}
      },
      "source": [
        ""
      ],
      "execution_count": null,
      "outputs": []
    }
  ]
}