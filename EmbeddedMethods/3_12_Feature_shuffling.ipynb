{
  "nbformat": 4,
  "nbformat_minor": 0,
  "metadata": {
    "kernelspec": {
      "display_name": "Python 3",
      "language": "python",
      "name": "python3"
    },
    "language_info": {
      "codemirror_mode": {
        "name": "ipython",
        "version": 3
      },
      "file_extension": ".py",
      "mimetype": "text/x-python",
      "name": "python",
      "nbconvert_exporter": "python",
      "pygments_lexer": "ipython3",
      "version": "3.6.1"
    },
    "toc": {
      "nav_menu": {},
      "number_sections": true,
      "sideBar": true,
      "skip_h1_title": false,
      "toc_cell": false,
      "toc_position": {},
      "toc_section_display": "block",
      "toc_window_display": true
    },
    "colab": {
      "name": "3.12 Feature_shuffling.ipynb",
      "provenance": []
    }
  },
  "cells": [
    {
      "cell_type": "markdown",
      "metadata": {
        "id": "08acMe68g_7l",
        "colab_type": "text"
      },
      "source": [
        "## Feature selection by random shuffling\n",
        "\n",
        "A popular method of feature selection consists in random shuffling the values of a specific variable and determining how that permutation affects the performance metric of the machine learning algorithm. In other words, the idea is to permute the values of each feature, one at the time, and measure how much the permutation decreases the accuracy, or the roc_auc, or the mse of the machine learning model. If the variables are important, this is, highly predictive, a random permutation of their values will decrease dramatically any of these metrics. Contrarily, non-important / non-predictive variables, should have little to no effect on the model performance metric we are assessing.\n",
        "\n",
        "I will demonstrate how to select features based on random shuffling using on a regression and classification problem. For classification I will use the Paribas claims dataset from Kaggle. For regression, the House Price dataset from Kaggle.\n",
        "\n",
        "**Note** For the demonstration, I will continue to use Random Forests, but this method is useful for any machine learning algorithm. In fact, the importance of the features are determined specifically for the algorithm used. Therefore, different algorithms may return different subsets of important features.\n"
      ]
    },
    {
      "cell_type": "code",
      "metadata": {
        "id": "IxFcodUPE5gt",
        "colab_type": "code",
        "colab": {
          "base_uri": "https://localhost:8080/",
          "height": 241
        },
        "outputId": "d763ce42-4627-4dec-a2eb-97efd9637160"
      },
      "source": [
        "!pip install --user kaggle\n",
        "!mkdir .kaggle\n",
        "import json\n",
        "token = {\"username\":\"####\",\"key\":\"####\"}\n",
        "with open('/content/.kaggle/kaggle.json', 'w') as file:\n",
        "    json.dump(token, file)"
      ],
      "execution_count": null,
      "outputs": [
        {
          "output_type": "stream",
          "text": [
            "Requirement already satisfied: kaggle in /usr/local/lib/python3.6/dist-packages (1.5.6)\n",
            "Requirement already satisfied: python-slugify in /usr/local/lib/python3.6/dist-packages (from kaggle) (4.0.0)\n",
            "Requirement already satisfied: requests in /usr/local/lib/python3.6/dist-packages (from kaggle) (2.21.0)\n",
            "Requirement already satisfied: six>=1.10 in /usr/local/lib/python3.6/dist-packages (from kaggle) (1.12.0)\n",
            "Requirement already satisfied: urllib3<1.25,>=1.21.1 in /usr/local/lib/python3.6/dist-packages (from kaggle) (1.24.3)\n",
            "Requirement already satisfied: certifi in /usr/local/lib/python3.6/dist-packages (from kaggle) (2019.11.28)\n",
            "Requirement already satisfied: python-dateutil in /usr/local/lib/python3.6/dist-packages (from kaggle) (2.6.1)\n",
            "Requirement already satisfied: tqdm in /usr/local/lib/python3.6/dist-packages (from kaggle) (4.28.1)\n",
            "Requirement already satisfied: text-unidecode>=1.3 in /usr/local/lib/python3.6/dist-packages (from python-slugify->kaggle) (1.3)\n",
            "Requirement already satisfied: idna<2.9,>=2.5 in /usr/local/lib/python3.6/dist-packages (from requests->kaggle) (2.8)\n",
            "Requirement already satisfied: chardet<3.1.0,>=3.0.2 in /usr/local/lib/python3.6/dist-packages (from requests->kaggle) (3.0.4)\n",
            "mkdir: cannot create directory ‘.kaggle’: File exists\n"
          ],
          "name": "stdout"
        }
      ]
    },
    {
      "cell_type": "code",
      "metadata": {
        "id": "bAzuH-voFJbH",
        "colab_type": "code",
        "colab": {
          "base_uri": "https://localhost:8080/",
          "height": 221
        },
        "outputId": "3e8dadbd-6408-47e8-c5e0-c0798526d3f7"
      },
      "source": [
        "!cp /content/.kaggle/kaggle.json ~/.kaggle/kaggle.json\n",
        "\n",
        "!chmod 600 /root/.kaggle/kaggle.json\n",
        "!kaggle competitions download -c bnp-paribas-cardif-claims-management\n",
        "!unzip train.csv.zip"
      ],
      "execution_count": null,
      "outputs": [
        {
          "output_type": "stream",
          "text": [
            "Warning: Looks like you're using an outdated API Version, please consider updating (server 1.5.6 / client 1.5.4)\n",
            "Downloading test.csv.zip to /content\n",
            " 97% 48.0M/49.4M [00:00<00:00, 45.3MB/s]\n",
            "100% 49.4M/49.4M [00:00<00:00, 84.1MB/s]\n",
            "Downloading sample_submission.csv.zip to /content\n",
            "  0% 0.00/162k [00:00<?, ?B/s]\n",
            "100% 162k/162k [00:00<00:00, 165MB/s]\n",
            "Downloading train.csv.zip to /content\n",
            " 75% 37.0M/49.4M [00:00<00:00, 32.8MB/s]\n",
            "100% 49.4M/49.4M [00:01<00:00, 50.9MB/s]\n",
            "Archive:  train.csv.zip\n",
            "  inflating: train.csv               \n"
          ],
          "name": "stdout"
        }
      ]
    },
    {
      "cell_type": "code",
      "metadata": {
        "id": "g3iMmoVUg_7r",
        "colab_type": "code",
        "colab": {}
      },
      "source": [
        "import pandas as pd\n",
        "import numpy as np\n",
        "\n",
        "import matplotlib.pyplot as plt\n",
        "import seaborn as sns\n",
        "%matplotlib inline\n",
        "\n",
        "from sklearn.model_selection import train_test_split\n",
        "\n",
        "from sklearn.ensemble import RandomForestClassifier, RandomForestRegressor\n",
        "from sklearn.metrics import roc_auc_score, mean_squared_error"
      ],
      "execution_count": null,
      "outputs": []
    },
    {
      "cell_type": "code",
      "metadata": {
        "id": "BQIAIg6yg_72",
        "colab_type": "code",
        "colab": {
          "base_uri": "https://localhost:8080/",
          "height": 34
        },
        "outputId": "7bdda197-d4ab-44f1-8bcb-e6bc445e641e"
      },
      "source": [
        "# load dataset\n",
        "data = pd.read_csv('train.csv', nrows=50000)\n",
        "data.shape"
      ],
      "execution_count": null,
      "outputs": [
        {
          "output_type": "execute_result",
          "data": {
            "text/plain": [
              "(50000, 133)"
            ]
          },
          "metadata": {
            "tags": []
          },
          "execution_count": 6
        }
      ]
    },
    {
      "cell_type": "code",
      "metadata": {
        "id": "F7ippO2Xg_7-",
        "colab_type": "code",
        "colab": {},
        "outputId": "6e311944-42fc-4d9b-a1e7-3497fc58c9f5"
      },
      "source": [
        "data.head()"
      ],
      "execution_count": null,
      "outputs": [
        {
          "output_type": "execute_result",
          "data": {
            "text/html": [
              "<div>\n",
              "<style>\n",
              "    .dataframe thead tr:only-child th {\n",
              "        text-align: right;\n",
              "    }\n",
              "\n",
              "    .dataframe thead th {\n",
              "        text-align: left;\n",
              "    }\n",
              "\n",
              "    .dataframe tbody tr th {\n",
              "        vertical-align: top;\n",
              "    }\n",
              "</style>\n",
              "<table border=\"1\" class=\"dataframe\">\n",
              "  <thead>\n",
              "    <tr style=\"text-align: right;\">\n",
              "      <th></th>\n",
              "      <th>ID</th>\n",
              "      <th>target</th>\n",
              "      <th>v1</th>\n",
              "      <th>v2</th>\n",
              "      <th>v3</th>\n",
              "      <th>v4</th>\n",
              "      <th>v5</th>\n",
              "      <th>v6</th>\n",
              "      <th>v7</th>\n",
              "      <th>v8</th>\n",
              "      <th>...</th>\n",
              "      <th>v122</th>\n",
              "      <th>v123</th>\n",
              "      <th>v124</th>\n",
              "      <th>v125</th>\n",
              "      <th>v126</th>\n",
              "      <th>v127</th>\n",
              "      <th>v128</th>\n",
              "      <th>v129</th>\n",
              "      <th>v130</th>\n",
              "      <th>v131</th>\n",
              "    </tr>\n",
              "  </thead>\n",
              "  <tbody>\n",
              "    <tr>\n",
              "      <th>0</th>\n",
              "      <td>3</td>\n",
              "      <td>1</td>\n",
              "      <td>1.335739</td>\n",
              "      <td>8.727474</td>\n",
              "      <td>C</td>\n",
              "      <td>3.921026</td>\n",
              "      <td>7.915266</td>\n",
              "      <td>2.599278</td>\n",
              "      <td>3.176895</td>\n",
              "      <td>0.012941</td>\n",
              "      <td>...</td>\n",
              "      <td>8.000000</td>\n",
              "      <td>1.989780</td>\n",
              "      <td>0.035754</td>\n",
              "      <td>AU</td>\n",
              "      <td>1.804126</td>\n",
              "      <td>3.113719</td>\n",
              "      <td>2.024285</td>\n",
              "      <td>0</td>\n",
              "      <td>0.636365</td>\n",
              "      <td>2.857144</td>\n",
              "    </tr>\n",
              "    <tr>\n",
              "      <th>1</th>\n",
              "      <td>4</td>\n",
              "      <td>1</td>\n",
              "      <td>NaN</td>\n",
              "      <td>NaN</td>\n",
              "      <td>C</td>\n",
              "      <td>NaN</td>\n",
              "      <td>9.191265</td>\n",
              "      <td>NaN</td>\n",
              "      <td>NaN</td>\n",
              "      <td>2.301630</td>\n",
              "      <td>...</td>\n",
              "      <td>NaN</td>\n",
              "      <td>NaN</td>\n",
              "      <td>0.598896</td>\n",
              "      <td>AF</td>\n",
              "      <td>NaN</td>\n",
              "      <td>NaN</td>\n",
              "      <td>1.957825</td>\n",
              "      <td>0</td>\n",
              "      <td>NaN</td>\n",
              "      <td>NaN</td>\n",
              "    </tr>\n",
              "    <tr>\n",
              "      <th>2</th>\n",
              "      <td>5</td>\n",
              "      <td>1</td>\n",
              "      <td>0.943877</td>\n",
              "      <td>5.310079</td>\n",
              "      <td>C</td>\n",
              "      <td>4.410969</td>\n",
              "      <td>5.326159</td>\n",
              "      <td>3.979592</td>\n",
              "      <td>3.928571</td>\n",
              "      <td>0.019645</td>\n",
              "      <td>...</td>\n",
              "      <td>9.333333</td>\n",
              "      <td>2.477596</td>\n",
              "      <td>0.013452</td>\n",
              "      <td>AE</td>\n",
              "      <td>1.773709</td>\n",
              "      <td>3.922193</td>\n",
              "      <td>1.120468</td>\n",
              "      <td>2</td>\n",
              "      <td>0.883118</td>\n",
              "      <td>1.176472</td>\n",
              "    </tr>\n",
              "    <tr>\n",
              "      <th>3</th>\n",
              "      <td>6</td>\n",
              "      <td>1</td>\n",
              "      <td>0.797415</td>\n",
              "      <td>8.304757</td>\n",
              "      <td>C</td>\n",
              "      <td>4.225930</td>\n",
              "      <td>11.627438</td>\n",
              "      <td>2.097700</td>\n",
              "      <td>1.987549</td>\n",
              "      <td>0.171947</td>\n",
              "      <td>...</td>\n",
              "      <td>7.018256</td>\n",
              "      <td>1.812795</td>\n",
              "      <td>0.002267</td>\n",
              "      <td>CJ</td>\n",
              "      <td>1.415230</td>\n",
              "      <td>2.954381</td>\n",
              "      <td>1.990847</td>\n",
              "      <td>1</td>\n",
              "      <td>1.677108</td>\n",
              "      <td>1.034483</td>\n",
              "    </tr>\n",
              "    <tr>\n",
              "      <th>4</th>\n",
              "      <td>8</td>\n",
              "      <td>1</td>\n",
              "      <td>NaN</td>\n",
              "      <td>NaN</td>\n",
              "      <td>C</td>\n",
              "      <td>NaN</td>\n",
              "      <td>NaN</td>\n",
              "      <td>NaN</td>\n",
              "      <td>NaN</td>\n",
              "      <td>NaN</td>\n",
              "      <td>...</td>\n",
              "      <td>NaN</td>\n",
              "      <td>NaN</td>\n",
              "      <td>NaN</td>\n",
              "      <td>Z</td>\n",
              "      <td>NaN</td>\n",
              "      <td>NaN</td>\n",
              "      <td>NaN</td>\n",
              "      <td>0</td>\n",
              "      <td>NaN</td>\n",
              "      <td>NaN</td>\n",
              "    </tr>\n",
              "  </tbody>\n",
              "</table>\n",
              "<p>5 rows × 133 columns</p>\n",
              "</div>"
            ],
            "text/plain": [
              "   ID  target        v1        v2 v3        v4         v5        v6        v7  \\\n",
              "0   3       1  1.335739  8.727474  C  3.921026   7.915266  2.599278  3.176895   \n",
              "1   4       1       NaN       NaN  C       NaN   9.191265       NaN       NaN   \n",
              "2   5       1  0.943877  5.310079  C  4.410969   5.326159  3.979592  3.928571   \n",
              "3   6       1  0.797415  8.304757  C  4.225930  11.627438  2.097700  1.987549   \n",
              "4   8       1       NaN       NaN  C       NaN        NaN       NaN       NaN   \n",
              "\n",
              "         v8    ...         v122      v123      v124  v125      v126      v127  \\\n",
              "0  0.012941    ...     8.000000  1.989780  0.035754    AU  1.804126  3.113719   \n",
              "1  2.301630    ...          NaN       NaN  0.598896    AF       NaN       NaN   \n",
              "2  0.019645    ...     9.333333  2.477596  0.013452    AE  1.773709  3.922193   \n",
              "3  0.171947    ...     7.018256  1.812795  0.002267    CJ  1.415230  2.954381   \n",
              "4       NaN    ...          NaN       NaN       NaN     Z       NaN       NaN   \n",
              "\n",
              "       v128  v129      v130      v131  \n",
              "0  2.024285     0  0.636365  2.857144  \n",
              "1  1.957825     0       NaN       NaN  \n",
              "2  1.120468     2  0.883118  1.176472  \n",
              "3  1.990847     1  1.677108  1.034483  \n",
              "4       NaN     0       NaN       NaN  \n",
              "\n",
              "[5 rows x 133 columns]"
            ]
          },
          "metadata": {
            "tags": []
          },
          "execution_count": 3
        }
      ]
    },
    {
      "cell_type": "code",
      "metadata": {
        "id": "xOKnuCV0g_8L",
        "colab_type": "code",
        "colab": {
          "base_uri": "https://localhost:8080/",
          "height": 34
        },
        "outputId": "7c545f95-32f5-42b6-f230-676cde28fd8c"
      },
      "source": [
        "# In practice, feature selection should be done after data pre-processing,\n",
        "# so ideally, all the categorical variables are encoded into numbers,\n",
        "# and then you can assess how deterministic they are of the target\n",
        "\n",
        "# here for simplicity I will use only numerical variables\n",
        "# select numerical columns:\n",
        "\n",
        "numerics = ['int16', 'int32', 'int64', 'float16', 'float32', 'float64']\n",
        "numerical_vars = list(data.select_dtypes(include=numerics).columns)\n",
        "data = data[numerical_vars]\n",
        "data.shape"
      ],
      "execution_count": null,
      "outputs": [
        {
          "output_type": "execute_result",
          "data": {
            "text/plain": [
              "(50000, 114)"
            ]
          },
          "metadata": {
            "tags": []
          },
          "execution_count": 7
        }
      ]
    },
    {
      "cell_type": "markdown",
      "metadata": {
        "id": "y-wBKzXog_8T",
        "colab_type": "text"
      },
      "source": [
        "### Important\n",
        "\n",
        "In all feature selection procedures, it is good practice to select the features by examining only the training set. And this is to avoid overfit."
      ]
    },
    {
      "cell_type": "code",
      "metadata": {
        "id": "Hx7PQJN9g_8V",
        "colab_type": "code",
        "colab": {
          "base_uri": "https://localhost:8080/",
          "height": 34
        },
        "outputId": "e42ebace-f8ec-44ae-edf8-97cebfc284eb"
      },
      "source": [
        "# separate train and test sets\n",
        "X_train, X_test, y_train, y_test = train_test_split(\n",
        "    data.drop(labels=['target', 'ID'], axis=1),\n",
        "    data['target'],\n",
        "    test_size=0.3,\n",
        "    random_state=0)\n",
        "\n",
        "X_train.shape, X_test.shape"
      ],
      "execution_count": null,
      "outputs": [
        {
          "output_type": "execute_result",
          "data": {
            "text/plain": [
              "((35000, 112), (15000, 112))"
            ]
          },
          "metadata": {
            "tags": []
          },
          "execution_count": 8
        }
      ]
    },
    {
      "cell_type": "code",
      "metadata": {
        "scrolled": true,
        "id": "tkN2rIiAg_8b",
        "colab_type": "code",
        "colab": {
          "base_uri": "https://localhost:8080/",
          "height": 51
        },
        "outputId": "2b5f8542-355b-4e75-8f2a-7faf3468c556"
      },
      "source": [
        "# The first step to determine feature importance by feature shuffling\n",
        "# is to build the machine learning model for which we want to \n",
        "# select features\n",
        "\n",
        "# In this case, I will build Random Forests, but remember that \n",
        "# you can use this procedure for any other machine learning algorithm\n",
        "\n",
        "# I build few and shallow trees to avoid overfitting\n",
        "rf = RandomForestClassifier(\n",
        "    n_estimators=50, max_depth=2, random_state=2909, n_jobs=4)\n",
        "\n",
        "rf.fit(X_train.fillna(0), y_train)\n",
        "\n",
        "# print roc-auc in train and testing sets\n",
        "print('train auc score: ',\n",
        "      roc_auc_score(y_train, (rf.predict_proba(X_train.fillna(0)))[:, 1]))\n",
        "print('test auc score: ',\n",
        "      roc_auc_score(y_test, (rf.predict_proba(X_test.fillna(0)))[:, 1]))"
      ],
      "execution_count": null,
      "outputs": [
        {
          "output_type": "stream",
          "text": [
            "train auc score:  0.6861741003488592\n",
            "test auc score:  0.6761687228790215\n"
          ],
          "name": "stdout"
        }
      ]
    },
    {
      "cell_type": "code",
      "metadata": {
        "id": "L_R539SNg_8o",
        "colab_type": "code",
        "colab": {}
      },
      "source": [
        "# in this cell, I will shuffle one by one, each feature of the dataset\n",
        "# and then use the dataset with the shuffled variable to make predictions\n",
        "# using the random forests I trained in the previous cell\n",
        "\n",
        "# overall train roc-auc: using all the features\n",
        "train_auc = roc_auc_score(y_train, (rf.predict_proba(X_train.fillna(0)))[:, 1])\n",
        "\n",
        "# dictionary to capture the features and the drop in auc that they\n",
        "# cause when shuffled\n",
        "feature_dict = {}\n",
        "\n",
        "# selection  logic\n",
        "for feature in X_train.columns:\n",
        "    X_train_c = X_train.copy()\n",
        "    \n",
        "    # shuffle individual feature\n",
        "    X_train_c[feature] = X_train_c[feature].sample(frac=1).reset_index(\n",
        "        drop=True)\n",
        "    \n",
        "    # make prediction with shuffled feature and calculate roc-auc\n",
        "    shuff_auc = roc_auc_score(y_train,\n",
        "                              (rf.predict_proba(X_train_c.fillna(0)))[:, 1])\n",
        "    \n",
        "    # save the drop in roc-auc\n",
        "    feature_dict[feature] = (train_auc - shuff_auc)"
      ],
      "execution_count": null,
      "outputs": []
    },
    {
      "cell_type": "code",
      "metadata": {
        "id": "9zJ0f3b2g_8v",
        "colab_type": "code",
        "colab": {
          "base_uri": "https://localhost:8080/",
          "height": 1000
        },
        "outputId": "0ca7c3c3-51f3-4a4b-bf87-0ff29ebae68d"
      },
      "source": [
        "# let's have a look at the generated dictionary\n",
        "feature_dict"
      ],
      "execution_count": null,
      "outputs": [
        {
          "output_type": "execute_result",
          "data": {
            "text/plain": [
              "{'v1': 0.0,\n",
              " 'v10': 0.0037030625952859664,\n",
              " 'v100': 0.0,\n",
              " 'v101': 0.0001284334742758242,\n",
              " 'v102': 0.0,\n",
              " 'v103': 0.0,\n",
              " 'v104': 0.0,\n",
              " 'v105': 0.0,\n",
              " 'v106': 0.0,\n",
              " 'v108': 0.0,\n",
              " 'v109': 0.0,\n",
              " 'v11': 6.750338969474523e-05,\n",
              " 'v111': -0.00020414398342993856,\n",
              " 'v114': 0.0025901284059903773,\n",
              " 'v115': 0.0,\n",
              " 'v116': 0.0,\n",
              " 'v117': 9.391522954715903e-05,\n",
              " 'v118': 0.0,\n",
              " 'v119': -0.0009167242769002604,\n",
              " 'v12': -7.868494650375979e-05,\n",
              " 'v120': 0.0,\n",
              " 'v121': -7.132606764315153e-05,\n",
              " 'v122': -0.00017706742733003544,\n",
              " 'v123': 1.0091601211237311e-05,\n",
              " 'v124': 0.0,\n",
              " 'v126': 0.0,\n",
              " 'v127': 0.0,\n",
              " 'v128': 0.0,\n",
              " 'v129': 0.010323625229380795,\n",
              " 'v13': 0.0,\n",
              " 'v130': 0.0,\n",
              " 'v131': 0.0,\n",
              " 'v14': 0.0019452148836492933,\n",
              " 'v15': -0.00041078121231319376,\n",
              " 'v16': 0.0,\n",
              " 'v17': 0.0,\n",
              " 'v18': 8.099466760591589e-05,\n",
              " 'v19': -0.0004474368443022625,\n",
              " 'v2': 0.0,\n",
              " 'v20': 0.0,\n",
              " 'v21': 0.0019821771355909013,\n",
              " 'v23': 0.0,\n",
              " 'v25': 0.0,\n",
              " 'v26': 0.0,\n",
              " 'v27': 0.00012120664342396559,\n",
              " 'v28': 0.0,\n",
              " 'v29': 0.0,\n",
              " 'v32': -0.0006977439163512456,\n",
              " 'v33': -0.00015669846245447427,\n",
              " 'v34': 0.0005841893431294265,\n",
              " 'v35': 0.0,\n",
              " 'v36': -0.0009254439216815902,\n",
              " 'v37': 0.0,\n",
              " 'v38': 0.0010483962845431183,\n",
              " 'v39': 0.00022999182161764775,\n",
              " 'v4': 2.3934261112024124e-05,\n",
              " 'v40': 0.0017769051488319976,\n",
              " 'v41': 0.0,\n",
              " 'v42': 0.0,\n",
              " 'v43': 8.255910079446593e-05,\n",
              " 'v44': 0.0,\n",
              " 'v45': -0.00013561554309093893,\n",
              " 'v46': 0.0,\n",
              " 'v48': -0.0009460635539636497,\n",
              " 'v49': 0.0,\n",
              " 'v5': 0.0,\n",
              " 'v50': 0.0703044301041601,\n",
              " 'v51': 8.121623968837532e-05,\n",
              " 'v53': 0.0,\n",
              " 'v54': 0.0,\n",
              " 'v55': -0.00024442757850684504,\n",
              " 'v57': 0.0,\n",
              " 'v58': 2.2157208248274607e-05,\n",
              " 'v59': 0.0,\n",
              " 'v6': 0.0,\n",
              " 'v60': 0.0,\n",
              " 'v61': 0.0,\n",
              " 'v62': 0.006609750364089839,\n",
              " 'v63': 0.0,\n",
              " 'v64': 0.0,\n",
              " 'v65': 0.0,\n",
              " 'v67': 0.0,\n",
              " 'v68': -0.00041337964855314713,\n",
              " 'v69': 0.0,\n",
              " 'v7': 0.0,\n",
              " 'v70': 0.0,\n",
              " 'v72': 0.0013293407327248374,\n",
              " 'v73': -0.0009518669520431899,\n",
              " 'v76': 0.0,\n",
              " 'v77': 0.0,\n",
              " 'v78': 0.0,\n",
              " 'v8': -0.00016316881488342982,\n",
              " 'v80': -0.00023861075181619285,\n",
              " 'v81': 4.1315360026716874e-05,\n",
              " 'v82': -0.0003155365502710561,\n",
              " 'v83': -4.339008043541259e-05,\n",
              " 'v84': 0.0,\n",
              " 'v85': 0.0001394225543261962,\n",
              " 'v86': 0.0,\n",
              " 'v87': 0.0,\n",
              " 'v88': 0.0,\n",
              " 'v89': -0.00027550586070235195,\n",
              " 'v9': 0.0,\n",
              " 'v90': 3.578724847375092e-05,\n",
              " 'v92': 0.0,\n",
              " 'v93': 0.0,\n",
              " 'v94': 0.0,\n",
              " 'v95': 0.0,\n",
              " 'v96': 0.0,\n",
              " 'v97': 0.0,\n",
              " 'v98': 0.00025244445930938664,\n",
              " 'v99': 0.00023393535706561774}"
            ]
          },
          "metadata": {
            "tags": []
          },
          "execution_count": 12
        }
      ]
    },
    {
      "cell_type": "code",
      "metadata": {
        "id": "MQPVjLfug_85",
        "colab_type": "code",
        "colab": {
          "base_uri": "https://localhost:8080/",
          "height": 204
        },
        "outputId": "ee4f5058-19dd-4b21-e224-26dc20aad8e2"
      },
      "source": [
        "# Now I will transform the dictionary into a pandas dataframe\n",
        "# for easy manipulation\n",
        "\n",
        "feature_importance = pd.Series(feature_dict).reset_index()\n",
        "feature_importance.columns = ['feature', 'auc_drop']\n",
        "feature_importance.head()"
      ],
      "execution_count": null,
      "outputs": [
        {
          "output_type": "execute_result",
          "data": {
            "text/html": [
              "<div>\n",
              "<style scoped>\n",
              "    .dataframe tbody tr th:only-of-type {\n",
              "        vertical-align: middle;\n",
              "    }\n",
              "\n",
              "    .dataframe tbody tr th {\n",
              "        vertical-align: top;\n",
              "    }\n",
              "\n",
              "    .dataframe thead th {\n",
              "        text-align: right;\n",
              "    }\n",
              "</style>\n",
              "<table border=\"1\" class=\"dataframe\">\n",
              "  <thead>\n",
              "    <tr style=\"text-align: right;\">\n",
              "      <th></th>\n",
              "      <th>feature</th>\n",
              "      <th>auc_drop</th>\n",
              "    </tr>\n",
              "  </thead>\n",
              "  <tbody>\n",
              "    <tr>\n",
              "      <th>0</th>\n",
              "      <td>v1</td>\n",
              "      <td>0.000000</td>\n",
              "    </tr>\n",
              "    <tr>\n",
              "      <th>1</th>\n",
              "      <td>v2</td>\n",
              "      <td>0.000000</td>\n",
              "    </tr>\n",
              "    <tr>\n",
              "      <th>2</th>\n",
              "      <td>v4</td>\n",
              "      <td>0.000024</td>\n",
              "    </tr>\n",
              "    <tr>\n",
              "      <th>3</th>\n",
              "      <td>v5</td>\n",
              "      <td>0.000000</td>\n",
              "    </tr>\n",
              "    <tr>\n",
              "      <th>4</th>\n",
              "      <td>v6</td>\n",
              "      <td>0.000000</td>\n",
              "    </tr>\n",
              "  </tbody>\n",
              "</table>\n",
              "</div>"
            ],
            "text/plain": [
              "  feature  auc_drop\n",
              "0      v1  0.000000\n",
              "1      v2  0.000000\n",
              "2      v4  0.000024\n",
              "3      v5  0.000000\n",
              "4      v6  0.000000"
            ]
          },
          "metadata": {
            "tags": []
          },
          "execution_count": 14
        }
      ]
    },
    {
      "cell_type": "code",
      "metadata": {
        "scrolled": true,
        "id": "8aGidNAug_9B",
        "colab_type": "code",
        "colab": {}
      },
      "source": [
        "# Now I will sort the dataframe according to the drop in performance\n",
        "# caused by feature shuffling\n",
        "\n",
        "feature_importance.sort_values(by=['auc_drop'], ascending=False, inplace=True)"
      ],
      "execution_count": null,
      "outputs": []
    },
    {
      "cell_type": "code",
      "metadata": {
        "id": "ZV8SXu3Ag_9L",
        "colab_type": "code",
        "colab": {
          "base_uri": "https://localhost:8080/",
          "height": 359
        },
        "outputId": "1b2fbe37-a52c-4f7d-aad9-7388021ab576"
      },
      "source": [
        "# visualise the top 10 features that caused the major drop\n",
        "# in roc-auc (aka model performance)\n",
        "\n",
        "feature_importance.head(10)"
      ],
      "execution_count": null,
      "outputs": [
        {
          "output_type": "execute_result",
          "data": {
            "text/html": [
              "<div>\n",
              "<style scoped>\n",
              "    .dataframe tbody tr th:only-of-type {\n",
              "        vertical-align: middle;\n",
              "    }\n",
              "\n",
              "    .dataframe tbody tr th {\n",
              "        vertical-align: top;\n",
              "    }\n",
              "\n",
              "    .dataframe thead th {\n",
              "        text-align: right;\n",
              "    }\n",
              "</style>\n",
              "<table border=\"1\" class=\"dataframe\">\n",
              "  <thead>\n",
              "    <tr style=\"text-align: right;\">\n",
              "      <th></th>\n",
              "      <th>feature</th>\n",
              "      <th>auc_drop</th>\n",
              "    </tr>\n",
              "  </thead>\n",
              "  <tbody>\n",
              "    <tr>\n",
              "      <th>43</th>\n",
              "      <td>v50</td>\n",
              "      <td>0.070304</td>\n",
              "    </tr>\n",
              "    <tr>\n",
              "      <th>109</th>\n",
              "      <td>v129</td>\n",
              "      <td>0.010324</td>\n",
              "    </tr>\n",
              "    <tr>\n",
              "      <th>53</th>\n",
              "      <td>v62</td>\n",
              "      <td>0.006610</td>\n",
              "    </tr>\n",
              "    <tr>\n",
              "      <th>8</th>\n",
              "      <td>v10</td>\n",
              "      <td>0.003703</td>\n",
              "    </tr>\n",
              "    <tr>\n",
              "      <th>95</th>\n",
              "      <td>v114</td>\n",
              "      <td>0.002590</td>\n",
              "    </tr>\n",
              "    <tr>\n",
              "      <th>19</th>\n",
              "      <td>v21</td>\n",
              "      <td>0.001982</td>\n",
              "    </tr>\n",
              "    <tr>\n",
              "      <th>12</th>\n",
              "      <td>v14</td>\n",
              "      <td>0.001945</td>\n",
              "    </tr>\n",
              "    <tr>\n",
              "      <th>34</th>\n",
              "      <td>v40</td>\n",
              "      <td>0.001777</td>\n",
              "    </tr>\n",
              "    <tr>\n",
              "      <th>61</th>\n",
              "      <td>v72</td>\n",
              "      <td>0.001329</td>\n",
              "    </tr>\n",
              "    <tr>\n",
              "      <th>32</th>\n",
              "      <td>v38</td>\n",
              "      <td>0.001048</td>\n",
              "    </tr>\n",
              "  </tbody>\n",
              "</table>\n",
              "</div>"
            ],
            "text/plain": [
              "    feature  auc_drop\n",
              "43      v50  0.070304\n",
              "109    v129  0.010324\n",
              "53      v62  0.006610\n",
              "8       v10  0.003703\n",
              "95     v114  0.002590\n",
              "19      v21  0.001982\n",
              "12      v14  0.001945\n",
              "34      v40  0.001777\n",
              "61      v72  0.001329\n",
              "32      v38  0.001048"
            ]
          },
          "metadata": {
            "tags": []
          },
          "execution_count": 19
        }
      ]
    },
    {
      "cell_type": "code",
      "metadata": {
        "id": "bN3NcZxxg_9Q",
        "colab_type": "code",
        "colab": {
          "base_uri": "https://localhost:8080/",
          "height": 359
        },
        "outputId": "fc83a280-680d-49a8-afcf-66c1f797fc57"
      },
      "source": [
        "# visualise the features that caused virtually \n",
        "# no drop in performance\n",
        "\n",
        "feature_importance.tail(10)"
      ],
      "execution_count": null,
      "outputs": [
        {
          "output_type": "execute_result",
          "data": {
            "text/html": [
              "<div>\n",
              "<style scoped>\n",
              "    .dataframe tbody tr th:only-of-type {\n",
              "        vertical-align: middle;\n",
              "    }\n",
              "\n",
              "    .dataframe tbody tr th {\n",
              "        vertical-align: top;\n",
              "    }\n",
              "\n",
              "    .dataframe thead th {\n",
              "        text-align: right;\n",
              "    }\n",
              "</style>\n",
              "<table border=\"1\" class=\"dataframe\">\n",
              "  <thead>\n",
              "    <tr style=\"text-align: right;\">\n",
              "      <th></th>\n",
              "      <th>feature</th>\n",
              "      <th>auc_drop</th>\n",
              "    </tr>\n",
              "  </thead>\n",
              "  <tbody>\n",
              "    <tr>\n",
              "      <th>75</th>\n",
              "      <td>v89</td>\n",
              "      <td>-0.000276</td>\n",
              "    </tr>\n",
              "    <tr>\n",
              "      <th>68</th>\n",
              "      <td>v82</td>\n",
              "      <td>-0.000316</td>\n",
              "    </tr>\n",
              "    <tr>\n",
              "      <th>13</th>\n",
              "      <td>v15</td>\n",
              "      <td>-0.000411</td>\n",
              "    </tr>\n",
              "    <tr>\n",
              "      <th>58</th>\n",
              "      <td>v68</td>\n",
              "      <td>-0.000413</td>\n",
              "    </tr>\n",
              "    <tr>\n",
              "      <th>17</th>\n",
              "      <td>v19</td>\n",
              "      <td>-0.000447</td>\n",
              "    </tr>\n",
              "    <tr>\n",
              "      <th>26</th>\n",
              "      <td>v32</td>\n",
              "      <td>-0.000698</td>\n",
              "    </tr>\n",
              "    <tr>\n",
              "      <th>100</th>\n",
              "      <td>v119</td>\n",
              "      <td>-0.000917</td>\n",
              "    </tr>\n",
              "    <tr>\n",
              "      <th>30</th>\n",
              "      <td>v36</td>\n",
              "      <td>-0.000925</td>\n",
              "    </tr>\n",
              "    <tr>\n",
              "      <th>41</th>\n",
              "      <td>v48</td>\n",
              "      <td>-0.000946</td>\n",
              "    </tr>\n",
              "    <tr>\n",
              "      <th>62</th>\n",
              "      <td>v73</td>\n",
              "      <td>-0.000952</td>\n",
              "    </tr>\n",
              "  </tbody>\n",
              "</table>\n",
              "</div>"
            ],
            "text/plain": [
              "    feature  auc_drop\n",
              "75      v89 -0.000276\n",
              "68      v82 -0.000316\n",
              "13      v15 -0.000411\n",
              "58      v68 -0.000413\n",
              "17      v19 -0.000447\n",
              "26      v32 -0.000698\n",
              "100    v119 -0.000917\n",
              "30      v36 -0.000925\n",
              "41      v48 -0.000946\n",
              "62      v73 -0.000952"
            ]
          },
          "metadata": {
            "tags": []
          },
          "execution_count": 20
        }
      ]
    },
    {
      "cell_type": "code",
      "metadata": {
        "id": "8rCsNuLVg_9Z",
        "colab_type": "code",
        "colab": {
          "base_uri": "https://localhost:8080/",
          "height": 34
        },
        "outputId": "afcb5e93-718f-413c-8fe9-de2b01895e01"
      },
      "source": [
        "# original number of features (rows in this case)\n",
        "feature_importance.shape[0]"
      ],
      "execution_count": null,
      "outputs": [
        {
          "output_type": "execute_result",
          "data": {
            "text/plain": [
              "112"
            ]
          },
          "metadata": {
            "tags": []
          },
          "execution_count": 21
        }
      ]
    },
    {
      "cell_type": "code",
      "metadata": {
        "id": "TcMRc1zNg_9f",
        "colab_type": "code",
        "colab": {
          "base_uri": "https://localhost:8080/",
          "height": 34
        },
        "outputId": "51a263ed-d3ea-4616-a577-bb0447bf1e40"
      },
      "source": [
        "# number of features that cause a drop in performance\n",
        "# when shuffled\n",
        "\n",
        "feature_importance[feature_importance.auc_drop>0].shape[0]"
      ],
      "execution_count": null,
      "outputs": [
        {
          "output_type": "execute_result",
          "data": {
            "text/plain": [
              "27"
            ]
          },
          "metadata": {
            "tags": []
          },
          "execution_count": 22
        }
      ]
    },
    {
      "cell_type": "markdown",
      "metadata": {
        "id": "s-b43ASZg_9n",
        "colab_type": "text"
      },
      "source": [
        "Only 26 out of the 110 features caused a drop in the performance of the random forests when their values were permuted. This means that we could select those features and discard the rest, and should keep the original random forest performance.  "
      ]
    },
    {
      "cell_type": "code",
      "metadata": {
        "id": "NOUaob1Lg_9q",
        "colab_type": "code",
        "colab": {
          "base_uri": "https://localhost:8080/",
          "height": 420
        },
        "outputId": "7d4a5f5d-1bbd-4259-8bc5-d024c6fe037f"
      },
      "source": [
        "# and now let's plot the distribution of importances\n",
        "# for those features that are actually important\n",
        "\n",
        "# capture the important features in a series for visualisation\n",
        "temp = pd.Series(feature_importance[feature_importance.auc_drop>0]['auc_drop'])\n",
        "temp.index = pd.Series(feature_importance[feature_importance.auc_drop>0]['feature'])\n",
        "\n",
        "pd.Series(temp).plot.bar(figsize=(15,6))"
      ],
      "execution_count": null,
      "outputs": [
        {
          "output_type": "execute_result",
          "data": {
            "text/plain": [
              "<matplotlib.axes._subplots.AxesSubplot at 0x7f3c89668550>"
            ]
          },
          "metadata": {
            "tags": []
          },
          "execution_count": 23
        },
        {
          "output_type": "display_data",
          "data": {
            "image/png": "[encoded data removed]",
            "text/plain": [
              "<Figure size 1080x432 with 1 Axes>"
            ]
          },
          "metadata": {
            "tags": []
          }
        }
      ]
    },
    {
      "cell_type": "code",
      "metadata": {
        "id": "EY1bY6z3g_9w",
        "colab_type": "code",
        "colab": {
          "base_uri": "https://localhost:8080/",
          "height": 51
        },
        "outputId": "2a3cd462-6085-40ca-e6d3-ee7cae92c560"
      },
      "source": [
        "# Now let's build a random forests only with the 26 selected features\n",
        "\n",
        "# capture the 26 selected features\n",
        "selected_features = feature_importance[feature_importance.auc_drop>0]['feature']\n",
        "\n",
        "# train a new random forests using only the selected features\n",
        "rf = RandomForestClassifier(\n",
        "    n_estimators=50, max_depth=2, random_state=2909, n_jobs=4)\n",
        "\n",
        "rf.fit(X_train[selected_features].fillna(0), y_train)\n",
        "\n",
        "# print roc-auc in train and testing sets\n",
        "print('train auc score: ',\n",
        "      roc_auc_score(y_train, (rf.predict_proba(X_train[selected_features].fillna(0)))[:, 1]))\n",
        "print('test auc score: ',\n",
        "      roc_auc_score(y_test, (rf.predict_proba(X_test[selected_features].fillna(0)))[:, 1]))"
      ],
      "execution_count": null,
      "outputs": [
        {
          "output_type": "stream",
          "text": [
            "train auc score:  0.7013500870415712\n",
            "test auc score:  0.6895027652510979\n"
          ],
          "name": "stdout"
        }
      ]
    },
    {
      "cell_type": "markdown",
      "metadata": {
        "id": "9cESZOvng_92",
        "colab_type": "text"
      },
      "source": [
        "As you can see, the random forests with the selected features show a similar performance to the random forests built using all of the features. And yet, provides a simpler, faster and more reliable model, for implementation in a live scenario."
      ]
    },
    {
      "cell_type": "markdown",
      "metadata": {
        "id": "R560f-Rmg_96",
        "colab_type": "text"
      },
      "source": [
        "### Regression"
      ]
    },
    {
      "cell_type": "code",
      "metadata": {
        "id": "K2okHpeSg_98",
        "colab_type": "code",
        "colab": {
          "base_uri": "https://localhost:8080/",
          "height": 34
        },
        "outputId": "a6fa1113-419c-4a90-8e56-5591d58a4aef"
      },
      "source": [
        "# load dataset\n",
        "data = pd.read_csv('houseprice_train.csv', nrows=50000)\n",
        "data.shape"
      ],
      "execution_count": null,
      "outputs": [
        {
          "output_type": "execute_result",
          "data": {
            "text/plain": [
              "(1460, 81)"
            ]
          },
          "metadata": {
            "tags": []
          },
          "execution_count": 25
        }
      ]
    },
    {
      "cell_type": "code",
      "metadata": {
        "id": "xriTaEphg_-C",
        "colab_type": "code",
        "colab": {
          "base_uri": "https://localhost:8080/",
          "height": 34
        },
        "outputId": "9f6b314a-ffb3-4fdb-9c4b-1f4bd6b2e5b2"
      },
      "source": [
        "# In practice, feature selection should be done after data pre-processing,\n",
        "# so ideally, all the categorical variables are encoded into numbers,\n",
        "# and then you can assess how deterministic they are of the target\n",
        "\n",
        "# here for simplicity I will use only numerical variables\n",
        "# select numerical columns:\n",
        "\n",
        "numerics = ['int16', 'int32', 'int64', 'float16', 'float32', 'float64']\n",
        "numerical_vars = list(data.select_dtypes(include=numerics).columns)\n",
        "data = data[numerical_vars]\n",
        "data.shape"
      ],
      "execution_count": null,
      "outputs": [
        {
          "output_type": "execute_result",
          "data": {
            "text/plain": [
              "(1460, 38)"
            ]
          },
          "metadata": {
            "tags": []
          },
          "execution_count": 26
        }
      ]
    },
    {
      "cell_type": "code",
      "metadata": {
        "id": "vlDcyL7Vg_-K",
        "colab_type": "code",
        "colab": {
          "base_uri": "https://localhost:8080/",
          "height": 34
        },
        "outputId": "7e328b00-3b98-4896-a68a-2d5e56e8ce67"
      },
      "source": [
        "# separate train and test sets\n",
        "X_train, X_test, y_train, y_test = train_test_split(\n",
        "    data.drop(labels=['Id', 'SalePrice'], axis=1),\n",
        "    data['SalePrice'],\n",
        "    test_size=0.3,\n",
        "    random_state=0)\n",
        "\n",
        "X_train.shape, X_test.shape"
      ],
      "execution_count": null,
      "outputs": [
        {
          "output_type": "execute_result",
          "data": {
            "text/plain": [
              "((1022, 36), (438, 36))"
            ]
          },
          "metadata": {
            "tags": []
          },
          "execution_count": 27
        }
      ]
    },
    {
      "cell_type": "code",
      "metadata": {
        "scrolled": true,
        "id": "mV6bwg4Yg_-Q",
        "colab_type": "code",
        "colab": {
          "base_uri": "https://localhost:8080/",
          "height": 51
        },
        "outputId": "864e4c03-2851-41c5-889b-3aabe2db1564"
      },
      "source": [
        "# The first step to determine feature importance by feature shuffling\n",
        "# is to build the machine learning model for which we want to \n",
        "# select features\n",
        "\n",
        "# In this case, I will build Random Forests, but remember that \n",
        "# you can use this procedure for any other machine learning algorithm\n",
        "\n",
        "# I build few and shallow trees to avoid overfitting\n",
        "rf = RandomForestRegressor(\n",
        "    n_estimators=100, max_depth=3, random_state=2909, n_jobs=4)\n",
        "\n",
        "rf.fit(X_train.fillna(0), y_train)\n",
        "\n",
        "# print roc-auc in train and testing sets\n",
        "print('train rmse: ',\n",
        "      np.sqrt(mean_squared_error(y_train, (rf.predict(X_train.fillna(0))))))\n",
        "print('test rmse: ',\n",
        "      np.sqrt(mean_squared_error(y_test, (rf.predict(X_test.fillna(0))))))"
      ],
      "execution_count": null,
      "outputs": [
        {
          "output_type": "stream",
          "text": [
            "train rmse:  34125.46855017603\n",
            "test rmse:  39164.18326517837\n"
          ],
          "name": "stdout"
        }
      ]
    },
    {
      "cell_type": "code",
      "metadata": {
        "id": "fySlWgHog_-V",
        "colab_type": "code",
        "colab": {}
      },
      "source": [
        "# in this cell, I will shuffle one by one, each feature of the dataset\n",
        "# and then use the dataset with the shuffled variable to make predictions\n",
        "# using the random forests I trained in the previous cell\n",
        "\n",
        "# overall train rmse: using all the features\n",
        "train_rmse = np.sqrt(\n",
        "    mean_squared_error(y_train, (rf.predict(X_train.fillna(0)))))\n",
        "\n",
        "# dictionary to capture the features, and the drop in rmse that they\n",
        "# cause when shuffled\n",
        "feature_dict = {}\n",
        "\n",
        "# selection  logic\n",
        "for feature in X_train.columns:\n",
        "    X_train_c = X_train.copy()\n",
        "\n",
        "    # shuffle individual feature\n",
        "    X_train_c[feature] = X_train_c[feature].sample(frac=1).reset_index(\n",
        "        drop=True)\n",
        "\n",
        "    # make prediction with shuffled feature and calculate roc-auc\n",
        "    shuff_rmse = np.sqrt(\n",
        "        mean_squared_error(y_train, (rf.predict(X_train_c.fillna(0)))))\n",
        "\n",
        "    # store the drop in roc-auc\n",
        "    feature_dict[feature] = (train_rmse - shuff_rmse)"
      ],
      "execution_count": null,
      "outputs": []
    },
    {
      "cell_type": "code",
      "metadata": {
        "scrolled": true,
        "id": "Y8Lf8RQLg_-a",
        "colab_type": "code",
        "colab": {
          "base_uri": "https://localhost:8080/",
          "height": 204
        },
        "outputId": "c977a9cb-c14e-4a87-96ce-a05f9efba365"
      },
      "source": [
        "# Now I will transform the dictionary into a pandas dataframe\n",
        "# for easy manipulation\n",
        "\n",
        "feature_importance = pd.Series(feature_dict).reset_index()\n",
        "feature_importance.columns = ['feature', 'rmse_drop']\n",
        "feature_importance.head()"
      ],
      "execution_count": null,
      "outputs": [
        {
          "output_type": "execute_result",
          "data": {
            "text/html": [
              "<div>\n",
              "<style scoped>\n",
              "    .dataframe tbody tr th:only-of-type {\n",
              "        vertical-align: middle;\n",
              "    }\n",
              "\n",
              "    .dataframe tbody tr th {\n",
              "        vertical-align: top;\n",
              "    }\n",
              "\n",
              "    .dataframe thead th {\n",
              "        text-align: right;\n",
              "    }\n",
              "</style>\n",
              "<table border=\"1\" class=\"dataframe\">\n",
              "  <thead>\n",
              "    <tr style=\"text-align: right;\">\n",
              "      <th></th>\n",
              "      <th>feature</th>\n",
              "      <th>rmse_drop</th>\n",
              "    </tr>\n",
              "  </thead>\n",
              "  <tbody>\n",
              "    <tr>\n",
              "      <th>0</th>\n",
              "      <td>MSSubClass</td>\n",
              "      <td>0.000000</td>\n",
              "    </tr>\n",
              "    <tr>\n",
              "      <th>1</th>\n",
              "      <td>LotFrontage</td>\n",
              "      <td>-46.698306</td>\n",
              "    </tr>\n",
              "    <tr>\n",
              "      <th>2</th>\n",
              "      <td>LotArea</td>\n",
              "      <td>-400.163796</td>\n",
              "    </tr>\n",
              "    <tr>\n",
              "      <th>3</th>\n",
              "      <td>OverallQual</td>\n",
              "      <td>-41518.029574</td>\n",
              "    </tr>\n",
              "    <tr>\n",
              "      <th>4</th>\n",
              "      <td>OverallCond</td>\n",
              "      <td>-6.967475</td>\n",
              "    </tr>\n",
              "  </tbody>\n",
              "</table>\n",
              "</div>"
            ],
            "text/plain": [
              "       feature     rmse_drop\n",
              "0   MSSubClass      0.000000\n",
              "1  LotFrontage    -46.698306\n",
              "2      LotArea   -400.163796\n",
              "3  OverallQual -41518.029574\n",
              "4  OverallCond     -6.967475"
            ]
          },
          "metadata": {
            "tags": []
          },
          "execution_count": 30
        }
      ]
    },
    {
      "cell_type": "code",
      "metadata": {
        "id": "7hxDEQJag_-f",
        "colab_type": "code",
        "colab": {}
      },
      "source": [
        "# Now I will sort the dataframe according to the drop in performance\n",
        "# caused by feature shuffling\n",
        "\n",
        "feature_importance.sort_values(by=['rmse_drop'], ascending=False, inplace=True)"
      ],
      "execution_count": null,
      "outputs": []
    },
    {
      "cell_type": "code",
      "metadata": {
        "id": "zLzGDq0kg_-j",
        "colab_type": "code",
        "colab": {
          "base_uri": "https://localhost:8080/",
          "height": 359
        },
        "outputId": "226f758e-2cff-4f77-d816-b6080e551aaf"
      },
      "source": [
        "# visualise the most predictive features\n",
        "\n",
        "feature_importance.head(10)"
      ],
      "execution_count": null,
      "outputs": [
        {
          "output_type": "execute_result",
          "data": {
            "text/html": [
              "<div>\n",
              "<style scoped>\n",
              "    .dataframe tbody tr th:only-of-type {\n",
              "        vertical-align: middle;\n",
              "    }\n",
              "\n",
              "    .dataframe tbody tr th {\n",
              "        vertical-align: top;\n",
              "    }\n",
              "\n",
              "    .dataframe thead th {\n",
              "        text-align: right;\n",
              "    }\n",
              "</style>\n",
              "<table border=\"1\" class=\"dataframe\">\n",
              "  <thead>\n",
              "    <tr style=\"text-align: right;\">\n",
              "      <th></th>\n",
              "      <th>feature</th>\n",
              "      <th>rmse_drop</th>\n",
              "    </tr>\n",
              "  </thead>\n",
              "  <tbody>\n",
              "    <tr>\n",
              "      <th>17</th>\n",
              "      <td>BsmtHalfBath</td>\n",
              "      <td>40.323204</td>\n",
              "    </tr>\n",
              "    <tr>\n",
              "      <th>34</th>\n",
              "      <td>MoSold</td>\n",
              "      <td>36.182700</td>\n",
              "    </tr>\n",
              "    <tr>\n",
              "      <th>35</th>\n",
              "      <td>YrSold</td>\n",
              "      <td>16.380107</td>\n",
              "    </tr>\n",
              "    <tr>\n",
              "      <th>21</th>\n",
              "      <td>KitchenAbvGr</td>\n",
              "      <td>0.000000</td>\n",
              "    </tr>\n",
              "    <tr>\n",
              "      <th>9</th>\n",
              "      <td>BsmtFinSF2</td>\n",
              "      <td>0.000000</td>\n",
              "    </tr>\n",
              "    <tr>\n",
              "      <th>19</th>\n",
              "      <td>HalfBath</td>\n",
              "      <td>0.000000</td>\n",
              "    </tr>\n",
              "    <tr>\n",
              "      <th>0</th>\n",
              "      <td>MSSubClass</td>\n",
              "      <td>0.000000</td>\n",
              "    </tr>\n",
              "    <tr>\n",
              "      <th>30</th>\n",
              "      <td>3SsnPorch</td>\n",
              "      <td>0.000000</td>\n",
              "    </tr>\n",
              "    <tr>\n",
              "      <th>32</th>\n",
              "      <td>PoolArea</td>\n",
              "      <td>0.000000</td>\n",
              "    </tr>\n",
              "    <tr>\n",
              "      <th>33</th>\n",
              "      <td>MiscVal</td>\n",
              "      <td>0.000000</td>\n",
              "    </tr>\n",
              "  </tbody>\n",
              "</table>\n",
              "</div>"
            ],
            "text/plain": [
              "         feature  rmse_drop\n",
              "17  BsmtHalfBath  40.323204\n",
              "34        MoSold  36.182700\n",
              "35        YrSold  16.380107\n",
              "21  KitchenAbvGr   0.000000\n",
              "9     BsmtFinSF2   0.000000\n",
              "19      HalfBath   0.000000\n",
              "0     MSSubClass   0.000000\n",
              "30     3SsnPorch   0.000000\n",
              "32      PoolArea   0.000000\n",
              "33       MiscVal   0.000000"
            ]
          },
          "metadata": {
            "tags": []
          },
          "execution_count": 33
        }
      ]
    },
    {
      "cell_type": "markdown",
      "metadata": {
        "id": "QvcCU30sg_-p",
        "colab_type": "text"
      },
      "source": [
        "There seem to be only 2 predictive features in this dataset!!"
      ]
    },
    {
      "cell_type": "markdown",
      "metadata": {
        "id": "7oJGp4tag_-q",
        "colab_type": "text"
      },
      "source": [
        "That is all for this lecture, I hope you enjoyed it and see you in the next one!"
      ]
    },
    {
      "cell_type": "code",
      "metadata": {
        "id": "Qd-Ip2FVg_-r",
        "colab_type": "code",
        "colab": {}
      },
      "source": [
        ""
      ],
      "execution_count": null,
      "outputs": []
    }
  ]
}