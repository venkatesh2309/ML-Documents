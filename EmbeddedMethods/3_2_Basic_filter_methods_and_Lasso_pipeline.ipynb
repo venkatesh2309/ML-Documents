{
  "nbformat": 4,
  "nbformat_minor": 0,
  "metadata": {
    "kernelspec": {
      "display_name": "Python 3",
      "language": "python",
      "name": "python3"
    },
    "language_info": {
      "codemirror_mode": {
        "name": "ipython",
        "version": 3
      },
      "file_extension": ".py",
      "mimetype": "text/x-python",
      "name": "python",
      "nbconvert_exporter": "python",
      "pygments_lexer": "ipython3",
      "version": "3.6.1"
    },
    "toc": {
      "nav_menu": {},
      "number_sections": true,
      "sideBar": true,
      "skip_h1_title": false,
      "toc_cell": false,
      "toc_position": {},
      "toc_section_display": "block",
      "toc_window_display": true
    },
    "colab": {
      "name": "3.2_Basic_filter_methods_and_Lasso_pipeline.ipynb",
      "provenance": []
    }
  },
  "cells": [
    {
      "cell_type": "markdown",
      "metadata": {
        "id": "96no_lghhoAz",
        "colab_type": "text"
      },
      "source": [
        "## Basic Filter Methods plus LASSO pipeline\n",
        "### Putting it all together"
      ]
    },
    {
      "cell_type": "code",
      "metadata": {
        "id": "9yjcgRkel54j",
        "colab_type": "code",
        "colab": {
          "base_uri": "https://localhost:8080/",
          "height": 245
        },
        "outputId": "b2da4d1c-06bf-4bd4-c162-3bd6a30647fb"
      },
      "source": [
        "!pip install --user kaggle\n",
        "!mkdir .kaggle\n",
        "import json\n",
        "token = {\"username\":\"#####\",\"key\":\"######\"}\n",
        "with open('/content/.kaggle/kaggle.json', 'w') as file:\n",
        "    json.dump(token, file)\n",
        "#kaggle competitions download -c santander-customer-satisfaction"
      ],
      "execution_count": null,
      "outputs": [
        {
          "output_type": "stream",
          "text": [
            "Requirement already satisfied: kaggle in /usr/local/lib/python3.6/dist-packages (1.5.6)\n",
            "Requirement already satisfied: python-slugify in /usr/local/lib/python3.6/dist-packages (from kaggle) (4.0.0)\n",
            "Requirement already satisfied: certifi in /usr/local/lib/python3.6/dist-packages (from kaggle) (2019.11.28)\n",
            "Requirement already satisfied: requests in /usr/local/lib/python3.6/dist-packages (from kaggle) (2.21.0)\n",
            "Requirement already satisfied: six>=1.10 in /usr/local/lib/python3.6/dist-packages (from kaggle) (1.12.0)\n",
            "Requirement already satisfied: tqdm in /usr/local/lib/python3.6/dist-packages (from kaggle) (4.28.1)\n",
            "Requirement already satisfied: urllib3<1.25,>=1.21.1 in /usr/local/lib/python3.6/dist-packages (from kaggle) (1.24.3)\n",
            "Requirement already satisfied: python-dateutil in /usr/local/lib/python3.6/dist-packages (from kaggle) (2.6.1)\n",
            "Requirement already satisfied: text-unidecode>=1.3 in /usr/local/lib/python3.6/dist-packages (from python-slugify->kaggle) (1.3)\n",
            "Requirement already satisfied: idna<2.9,>=2.5 in /usr/local/lib/python3.6/dist-packages (from requests->kaggle) (2.8)\n",
            "Requirement already satisfied: chardet<3.1.0,>=3.0.2 in /usr/local/lib/python3.6/dist-packages (from requests->kaggle) (3.0.4)\n",
            "mkdir: cannot create directory ‘.kaggle’: File exists\n"
          ],
          "name": "stdout"
        }
      ]
    },
    {
      "cell_type": "code",
      "metadata": {
        "id": "oHGBOTvQplfp",
        "colab_type": "code",
        "colab": {
          "base_uri": "https://localhost:8080/",
          "height": 225
        },
        "outputId": "b0af472f-db7d-4133-abaa-7fa4080ace24"
      },
      "source": [
        "!cp /content/.kaggle/kaggle.json ~/.kaggle/kaggle.json\n",
        "\n",
        "!chmod 600 /root/.kaggle/kaggle.json\n",
        "!kaggle competitions download -c santander-customer-satisfaction\n",
        "!unzip train.csv.zip\n"
      ],
      "execution_count": null,
      "outputs": [
        {
          "output_type": "stream",
          "text": [
            "Warning: Looks like you're using an outdated API Version, please consider updating (server 1.5.6 / client 1.5.4)\n",
            "Downloading train.csv.zip to /content\n",
            "  0% 0.00/4.05M [00:00<?, ?B/s]\n",
            "100% 4.05M/4.05M [00:00<00:00, 66.0MB/s]\n",
            "Downloading test.csv.zip to /content\n",
            "  0% 0.00/4.02M [00:00<?, ?B/s]\n",
            "100% 4.02M/4.02M [00:00<00:00, 36.9MB/s]\n",
            "Downloading sample_submission.csv to /content\n",
            "  0% 0.00/612k [00:00<?, ?B/s]\n",
            "100% 612k/612k [00:00<00:00, 84.5MB/s]\n",
            "Archive:  train.csv.zip\n",
            "  inflating: train.csv               \n"
          ],
          "name": "stdout"
        }
      ]
    },
    {
      "cell_type": "code",
      "metadata": {
        "id": "Y33zGulGhoA8",
        "colab_type": "code",
        "colab": {}
      },
      "source": [
        "import pandas as pd\n",
        "import numpy as np\n",
        "\n",
        "import matplotlib.pyplot as plt\n",
        "import seaborn as sns\n",
        "%matplotlib inline\n",
        "\n",
        "from sklearn.model_selection import train_test_split\n",
        "from sklearn.feature_selection import VarianceThreshold\n",
        "\n",
        "from sklearn.preprocessing import StandardScaler\n",
        "from sklearn.linear_model import LogisticRegression\n",
        "from sklearn.ensemble import RandomForestClassifier\n",
        "from sklearn.tree import DecisionTreeClassifier\n",
        "from sklearn.feature_selection import SelectFromModel\n",
        "from sklearn.metrics import roc_auc_score\n",
        "from sklearn.preprocessing import StandardScaler"
      ],
      "execution_count": null,
      "outputs": []
    },
    {
      "cell_type": "code",
      "metadata": {
        "id": "3LSRXajehoBW",
        "colab_type": "code",
        "colab": {
          "base_uri": "https://localhost:8080/",
          "height": 34
        },
        "outputId": "165babd6-62dd-4e62-f5c3-e25a9e941e63"
      },
      "source": [
        "# load the Santander customer satisfaction dataset from Kaggle\n",
        "\n",
        "data = pd.read_csv('train.csv')\n",
        "data.shape"
      ],
      "execution_count": null,
      "outputs": [
        {
          "output_type": "execute_result",
          "data": {
            "text/plain": [
              "(76020, 371)"
            ]
          },
          "metadata": {
            "tags": []
          },
          "execution_count": 8
        }
      ]
    },
    {
      "cell_type": "code",
      "metadata": {
        "id": "Pbjopk5rhoBq",
        "colab_type": "code",
        "colab": {
          "base_uri": "https://localhost:8080/",
          "height": 34
        },
        "outputId": "8253025d-0e74-4da7-86ca-51ebe73e2c4e"
      },
      "source": [
        "# separate dataset into train and test\n",
        "X_train, X_test, y_train, y_test = train_test_split(\n",
        "    data.drop(labels=['TARGET'], axis=1),\n",
        "    data['TARGET'],\n",
        "    test_size=0.3,\n",
        "    random_state=0)\n",
        "\n",
        "X_train.shape, X_test.shape"
      ],
      "execution_count": null,
      "outputs": [
        {
          "output_type": "execute_result",
          "data": {
            "text/plain": [
              "((53214, 370), (22806, 370))"
            ]
          },
          "metadata": {
            "tags": []
          },
          "execution_count": 9
        }
      ]
    },
    {
      "cell_type": "code",
      "metadata": {
        "id": "iZUbvuXyhoB5",
        "colab_type": "code",
        "colab": {}
      },
      "source": [
        "# I keep a copy of the dataset with all the variables\n",
        "# to measure the performance of machine learning models\n",
        "# at the end of the notebook\n",
        "\n",
        "X_train_original = X_train.copy()\n",
        "X_test_original = X_test.copy()"
      ],
      "execution_count": null,
      "outputs": []
    },
    {
      "cell_type": "markdown",
      "metadata": {
        "id": "4XBiaUtYhoCH",
        "colab_type": "text"
      },
      "source": [
        "### Remove constant features"
      ]
    },
    {
      "cell_type": "code",
      "metadata": {
        "id": "mUjoJZpIhoCK",
        "colab_type": "code",
        "colab": {
          "base_uri": "https://localhost:8080/",
          "height": 34
        },
        "outputId": "e14e94e0-6bc7-4415-b496-a83d0578045e"
      },
      "source": [
        "# remove constant features\n",
        "constant_features = [\n",
        "    feat for feat in X_train.columns if X_train[feat].std() == 0\n",
        "]\n",
        "\n",
        "X_train.drop(labels=constant_features, axis=1, inplace=True)\n",
        "X_test.drop(labels=constant_features, axis=1, inplace=True)\n",
        "\n",
        "X_train.shape, X_test.shape"
      ],
      "execution_count": null,
      "outputs": [
        {
          "output_type": "execute_result",
          "data": {
            "text/plain": [
              "((53214, 332), (22806, 332))"
            ]
          },
          "metadata": {
            "tags": []
          },
          "execution_count": 11
        }
      ]
    },
    {
      "cell_type": "markdown",
      "metadata": {
        "id": "ctrspixnhoCV",
        "colab_type": "text"
      },
      "source": [
        "### Remove quasi-constant features"
      ]
    },
    {
      "cell_type": "code",
      "metadata": {
        "id": "YgPzJyEVhoCX",
        "colab_type": "code",
        "colab": {
          "base_uri": "https://localhost:8080/",
          "height": 34
        },
        "outputId": "82a757eb-e31d-46a4-9c04-deed4429b3bc"
      },
      "source": [
        "# remove quasi-constant features\n",
        "sel = VarianceThreshold(\n",
        "    threshold=0.01)  # 0.1 indicates 99% of observations approximately\n",
        "\n",
        "sel.fit(X_train)  # fit finds the features with low variance\n",
        "\n",
        "sum(sel.get_support()) # how many not quasi-constant?"
      ],
      "execution_count": null,
      "outputs": [
        {
          "output_type": "execute_result",
          "data": {
            "text/plain": [
              "268"
            ]
          },
          "metadata": {
            "tags": []
          },
          "execution_count": 12
        }
      ]
    },
    {
      "cell_type": "code",
      "metadata": {
        "id": "4P44xEh-hoCi",
        "colab_type": "code",
        "colab": {}
      },
      "source": [
        "features_to_keep = X_train.columns[sel.get_support()]"
      ],
      "execution_count": null,
      "outputs": []
    },
    {
      "cell_type": "code",
      "metadata": {
        "id": "dL-OsxcUhoCv",
        "colab_type": "code",
        "colab": {
          "base_uri": "https://localhost:8080/",
          "height": 34
        },
        "outputId": "e6ba80dd-1326-46bd-b28d-fd54fd8be2df"
      },
      "source": [
        "# we can then remove the features like this\n",
        "X_train = sel.transform(X_train)\n",
        "X_test = sel.transform(X_test)\n",
        "\n",
        "X_train.shape, X_test.shape"
      ],
      "execution_count": null,
      "outputs": [
        {
          "output_type": "execute_result",
          "data": {
            "text/plain": [
              "((53214, 268), (22806, 268))"
            ]
          },
          "metadata": {
            "tags": []
          },
          "execution_count": 14
        }
      ]
    },
    {
      "cell_type": "code",
      "metadata": {
        "id": "-cO1yMithoC4",
        "colab_type": "code",
        "colab": {}
      },
      "source": [
        "# sklearn transformations lead to numpy arrays\n",
        "# here I transform the arrays back to dataframes\n",
        "# please be mindful of getting the columns assigned\n",
        "# correctly\n",
        "\n",
        "X_train= pd.DataFrame(X_train)\n",
        "X_train.columns = features_to_keep\n",
        "\n",
        "X_test= pd.DataFrame(X_test)\n",
        "X_test.columns = features_to_keep"
      ],
      "execution_count": null,
      "outputs": []
    },
    {
      "cell_type": "markdown",
      "metadata": {
        "id": "yXHmJGxhhoDE",
        "colab_type": "text"
      },
      "source": [
        "### Remove duplicated features"
      ]
    },
    {
      "cell_type": "code",
      "metadata": {
        "scrolled": true,
        "id": "y_fYxYhXhoDI",
        "colab_type": "code",
        "colab": {
          "base_uri": "https://localhost:8080/",
          "height": 503
        },
        "outputId": "d8018e2e-9b57-4af7-d527-eb2b466385f0"
      },
      "source": [
        "# check for duplicated features in the training set\n",
        "duplicated_feat = []\n",
        "for i in range(0, len(X_train.columns)):\n",
        "    if i % 10 == 0:  # this helps me understand how the loop is going\n",
        "        print(i)\n",
        "\n",
        "    col_1 = X_train.columns[i]\n",
        "\n",
        "    for col_2 in X_train.columns[i + 1:]:\n",
        "        if X_train[col_1].equals(X_train[col_2]):\n",
        "            duplicated_feat.append(col_2)\n",
        "            \n",
        "len(duplicated_feat)"
      ],
      "execution_count": null,
      "outputs": [
        {
          "output_type": "stream",
          "text": [
            "0\n",
            "10\n",
            "20\n",
            "30\n",
            "40\n",
            "50\n",
            "60\n",
            "70\n",
            "80\n",
            "90\n",
            "100\n",
            "110\n",
            "120\n",
            "130\n",
            "140\n",
            "150\n",
            "160\n",
            "170\n",
            "180\n",
            "190\n",
            "200\n",
            "210\n",
            "220\n",
            "230\n",
            "240\n",
            "250\n",
            "260\n"
          ],
          "name": "stdout"
        },
        {
          "output_type": "execute_result",
          "data": {
            "text/plain": [
              "16"
            ]
          },
          "metadata": {
            "tags": []
          },
          "execution_count": 16
        }
      ]
    },
    {
      "cell_type": "code",
      "metadata": {
        "id": "iQi5jQYDhoDU",
        "colab_type": "code",
        "colab": {}
      },
      "source": [
        "# remove duplicated features\n",
        "X_train.drop(labels=duplicated_feat, axis=1, inplace=True)\n",
        "X_test.drop(labels=duplicated_feat, axis=1, inplace=True)\n",
        "\n",
        "X_train.shape, X_test.shape"
      ],
      "execution_count": null,
      "outputs": []
    },
    {
      "cell_type": "code",
      "metadata": {
        "id": "Uz-kiXZuhoDv",
        "colab_type": "code",
        "colab": {}
      },
      "source": [
        "# I keep a copy of the dataset except constant and duplicated variables\n",
        "# to measure the performance of machine learning models\n",
        "# at the end of the notebook\n",
        "\n",
        "X_train_basic_filter = X_train.copy()\n",
        "X_test_basic_filter = X_test.copy()"
      ],
      "execution_count": null,
      "outputs": []
    },
    {
      "cell_type": "markdown",
      "metadata": {
        "id": "WuCX-sirhoD2",
        "colab_type": "text"
      },
      "source": [
        "### Remove correlated features"
      ]
    },
    {
      "cell_type": "code",
      "metadata": {
        "id": "skFzDpMzhoD5",
        "colab_type": "code",
        "colab": {
          "base_uri": "https://localhost:8080/",
          "height": 34
        },
        "outputId": "f59c8dc2-772b-422c-89c1-f583e0cd9e9b"
      },
      "source": [
        "# find and remove correlated features\n",
        "def correlation(dataset, threshold):\n",
        "    col_corr = set()  # Set of all the names of correlated columns\n",
        "    corr_matrix = dataset.corr()\n",
        "    for i in range(len(corr_matrix.columns)):\n",
        "        for j in range(i):\n",
        "            if abs(corr_matrix.iloc[i, j]) > threshold: # we are interested in absolute coeff value\n",
        "                colname = corr_matrix.columns[i]  # getting the name of column\n",
        "                col_corr.add(colname)\n",
        "    return col_corr\n",
        "\n",
        "corr_features = correlation(X_train, 0.8)\n",
        "print('correlated features: ', len(set(corr_features)) )"
      ],
      "execution_count": null,
      "outputs": [
        {
          "output_type": "stream",
          "text": [
            "correlated features:  133\n"
          ],
          "name": "stdout"
        }
      ]
    },
    {
      "cell_type": "code",
      "metadata": {
        "id": "oSqfDH9DhoED",
        "colab_type": "code",
        "colab": {
          "base_uri": "https://localhost:8080/",
          "height": 34
        },
        "outputId": "5f0e5c29-72f4-42b2-b53f-2f068c3a655c"
      },
      "source": [
        "# removed correlated  features\n",
        "X_train.drop(labels=corr_features, axis=1, inplace=True)\n",
        "X_test.drop(labels=corr_features, axis=1, inplace=True)\n",
        "\n",
        "X_train.shape, X_test.shape"
      ],
      "execution_count": null,
      "outputs": [
        {
          "output_type": "execute_result",
          "data": {
            "text/plain": [
              "((53214, 119), (22806, 119))"
            ]
          },
          "metadata": {
            "tags": []
          },
          "execution_count": 20
        }
      ]
    },
    {
      "cell_type": "code",
      "metadata": {
        "id": "9MfM6Lx3hoEK",
        "colab_type": "code",
        "colab": {}
      },
      "source": [
        "# keep a copy of the dataset at  this stage\n",
        "X_train_corr = X_train.copy()\n",
        "X_test_corr = X_test.copy()"
      ],
      "execution_count": null,
      "outputs": []
    },
    {
      "cell_type": "markdown",
      "metadata": {
        "id": "QJIa6fxbhoES",
        "colab_type": "text"
      },
      "source": [
        "### Remove features using univariate ROC-AUC"
      ]
    },
    {
      "cell_type": "code",
      "metadata": {
        "id": "wUfLQWR0hoEV",
        "colab_type": "code",
        "colab": {}
      },
      "source": [
        "# find important features using univariate roc-auc\n",
        "\n",
        "# loop to build a tree, make predictions and get the roc-auc\n",
        "# for each feature of the train set\n",
        "\n",
        "roc_values = []\n",
        "for feature in X_train.columns:\n",
        "    clf = DecisionTreeClassifier()\n",
        "    clf.fit(X_train[feature].fillna(0).to_frame(), y_train)\n",
        "    y_scored = clf.predict_proba(X_test[feature].fillna(0).to_frame())\n",
        "    roc_values.append(roc_auc_score(y_test, y_scored[:, 1]))"
      ],
      "execution_count": null,
      "outputs": []
    },
    {
      "cell_type": "code",
      "metadata": {
        "id": "24BVomeuhoEb",
        "colab_type": "code",
        "colab": {
          "base_uri": "https://localhost:8080/",
          "height": 672
        },
        "outputId": "b3d98d1e-a9ab-423f-b164-bbb0f475c569"
      },
      "source": [
        "# let's add the variable names and order it for clearer visualisation\n",
        "roc_values = pd.Series(roc_values)\n",
        "roc_values.index = X_train.columns\n",
        "roc_values.sort_values(ascending=False).plot.bar(figsize=(20, 8))"
      ],
      "execution_count": null,
      "outputs": [
        {
          "output_type": "execute_result",
          "data": {
            "text/plain": [
              "<matplotlib.axes._subplots.AxesSubplot at 0x7f0175535080>"
            ]
          },
          "metadata": {
            "tags": []
          },
          "execution_count": 26
        },
        {
          "output_type": "display_data",
          "data": {
            "image/png": "[encoded data removed]",
            "text/plain": [
              "<Figure size 1440x576 with 1 Axes>"
            ]
          },
          "metadata": {
            "tags": []
          }
        }
      ]
    },
    {
      "cell_type": "code",
      "metadata": {
        "id": "57pePZ0whoEm",
        "colab_type": "code",
        "colab": {
          "base_uri": "https://localhost:8080/",
          "height": 34
        },
        "outputId": "5101c908-89c3-4220-cf87-ec2316c788bc"
      },
      "source": [
        "# by removing features with univariate roc_auc == 0.5\n",
        "# we remove another 30 features\n",
        "\n",
        "selected_feat = roc_values[roc_values>0.5]\n",
        "len(selected_feat), X_train.shape[1]"
      ],
      "execution_count": null,
      "outputs": [
        {
          "output_type": "execute_result",
          "data": {
            "text/plain": [
              "(90, 119)"
            ]
          },
          "metadata": {
            "tags": []
          },
          "execution_count": 27
        }
      ]
    },
    {
      "cell_type": "markdown",
      "metadata": {
        "id": "-k1lSyW2hoEx",
        "colab_type": "text"
      },
      "source": [
        "### Remove features using Lasso"
      ]
    },
    {
      "cell_type": "code",
      "metadata": {
        "id": "dFQltwgohoEy",
        "colab_type": "code",
        "colab": {
          "base_uri": "https://localhost:8080/",
          "height": 34
        },
        "outputId": "4b9a99bf-4a1e-4ea9-ad94-920cb4590d67"
      },
      "source": [
        "scaler = StandardScaler()\n",
        "scaler.fit(X_train)"
      ],
      "execution_count": null,
      "outputs": [
        {
          "output_type": "execute_result",
          "data": {
            "text/plain": [
              "StandardScaler(copy=True, with_mean=True, with_std=True)"
            ]
          },
          "metadata": {
            "tags": []
          },
          "execution_count": 28
        }
      ]
    },
    {
      "cell_type": "code",
      "metadata": {
        "id": "cEksa26ehoE7",
        "colab_type": "code",
        "colab": {
          "base_uri": "https://localhost:8080/",
          "height": 176
        },
        "outputId": "57ac6454-9a8e-407f-bd16-7a478a804f78"
      },
      "source": [
        "# fit a lasso and selet features, make sure to select l1\n",
        "sel_ = SelectFromModel(LogisticRegression(C=1, penalty='l2'))\n",
        "sel_.fit(scaler.transform(X_train), y_train)\n",
        "\n",
        "# remove features with zero coefficient from dataset\n",
        "# and parse again as dataframe (output of sklearn is\n",
        "# numpy array)\n",
        "X_train_lasso = pd.DataFrame(sel_.transform(X_train))\n",
        "X_test_lasso = pd.DataFrame(sel_.transform(X_test))\n",
        "\n",
        "# add the columns name\n",
        "X_train_lasso.columns = X_train.columns[(sel_.get_support())]\n",
        "X_test_lasso.columns = X_train.columns[(sel_.get_support())]"
      ],
      "execution_count": null,
      "outputs": [
        {
          "output_type": "stream",
          "text": [
            "/usr/local/lib/python3.6/dist-packages/sklearn/linear_model/_logistic.py:940: ConvergenceWarning: lbfgs failed to converge (status=1):\n",
            "STOP: TOTAL NO. of ITERATIONS REACHED LIMIT.\n",
            "\n",
            "Increase the number of iterations (max_iter) or scale the data as shown in:\n",
            "    https://scikit-learn.org/stable/modules/preprocessing.html\n",
            "Please also refer to the documentation for alternative solver options:\n",
            "    https://scikit-learn.org/stable/modules/linear_model.html#logistic-regression\n",
            "  extra_warning_msg=_LOGISTIC_SOLVER_CONVERGENCE_MSG)\n"
          ],
          "name": "stderr"
        }
      ]
    },
    {
      "cell_type": "code",
      "metadata": {
        "id": "6YQpMLtphoFB",
        "colab_type": "code",
        "colab": {
          "base_uri": "https://localhost:8080/",
          "height": 243
        },
        "outputId": "7e629e66-1b67-45f8-c31d-7dda8d3e8a44"
      },
      "source": [
        "X_train_lasso.shape, X_test_lasso.shape\n",
        "X_train_lasso.columns"
      ],
      "execution_count": null,
      "outputs": [
        {
          "output_type": "execute_result",
          "data": {
            "text/plain": [
              "Index(['var15', 'ind_var5', 'ind_var12_0', 'ind_var13_0', 'num_var4',\n",
              "       'num_var20_0', 'num_op_var40_hace2', 'num_op_var40_ult1', 'num_var30_0',\n",
              "       'num_var33_0', 'num_var44_0', 'saldo_var5', 'saldo_var8', 'saldo_var12',\n",
              "       'saldo_var13_corto', 'saldo_var13_largo', 'saldo_var30', 'var36',\n",
              "       'delta_imp_aport_var13_1y3', 'delta_imp_compra_var44_1y3',\n",
              "       'delta_imp_venta_var44_1y3', 'imp_aport_var13_ult1',\n",
              "       'imp_var7_recib_ult1', 'imp_reemb_var13_ult1', 'imp_var43_emit_ult1',\n",
              "       'num_aport_var13_hace3', 'num_aport_var13_ult1',\n",
              "       'num_compra_var44_ult1', 'num_op_var40_comer_ult1',\n",
              "       'saldo_medio_var5_hace2', 'saldo_medio_var5_hace3',\n",
              "       'saldo_medio_var8_hace2', 'saldo_medio_var12_hace3',\n",
              "       'saldo_medio_var13_largo_hace2', 'saldo_medio_var17_hace2', 'var38'],\n",
              "      dtype='object')"
            ]
          },
          "metadata": {
            "tags": []
          },
          "execution_count": 41
        }
      ]
    },
    {
      "cell_type": "markdown",
      "metadata": {
        "id": "BBNE5vkihoFM",
        "colab_type": "text"
      },
      "source": [
        "### Compare the performance in machine learning algorithms"
      ]
    },
    {
      "cell_type": "code",
      "metadata": {
        "id": "9KmRbXqdhoFO",
        "colab_type": "code",
        "colab": {}
      },
      "source": [
        "# create a function to build random forests and compare performance in train and test set\n",
        "\n",
        "def run_randomForests(X_train, X_test, y_train, y_test):\n",
        "    rf = RandomForestClassifier(n_estimators=200, random_state=39, max_depth=4)\n",
        "    rf.fit(X_train, y_train)\n",
        "    print('Train set')\n",
        "    pred = rf.predict_proba(X_train)\n",
        "    print('Random Forests roc-auc: {}'.format(roc_auc_score(y_train, pred[:,1])))\n",
        "    print('Test set')\n",
        "    pred = rf.predict_proba(X_test)\n",
        "    print('Random Forests roc-auc: {}'.format(roc_auc_score(y_test, pred[:,1])))"
      ],
      "execution_count": null,
      "outputs": []
    },
    {
      "cell_type": "code",
      "metadata": {
        "id": "gpzSBAAFhoFT",
        "colab_type": "code",
        "colab": {
          "base_uri": "https://localhost:8080/",
          "height": 86
        },
        "outputId": "60f7e2d3-33c5-4321-b8a1-fd7c386755b1"
      },
      "source": [
        "# original\n",
        "run_randomForests(X_train_original.drop(labels=['ID'], axis=1),\n",
        "                  X_test_original.drop(labels=['ID'], axis=1),\n",
        "                  y_train, y_test)"
      ],
      "execution_count": null,
      "outputs": [
        {
          "output_type": "stream",
          "text": [
            "Train set\n",
            "Random Forests roc-auc: 0.8012314741948454\n",
            "Test set\n",
            "Random Forests roc-auc: 0.7900499757912425\n"
          ],
          "name": "stdout"
        }
      ]
    },
    {
      "cell_type": "code",
      "metadata": {
        "id": "HhBkQ532hoFb",
        "colab_type": "code",
        "colab": {
          "base_uri": "https://localhost:8080/",
          "height": 86
        },
        "outputId": "5a82fe2f-90c7-4e6a-8818-420cb384ab0b"
      },
      "source": [
        "# filter methods - basic\n",
        "run_randomForests(X_train_basic_filter.drop(labels=['ID'], axis=1),\n",
        "                  X_test_basic_filter.drop(labels=['ID'], axis=1),\n",
        "                  y_train, y_test)"
      ],
      "execution_count": null,
      "outputs": [
        {
          "output_type": "stream",
          "text": [
            "Train set\n",
            "Random Forests roc-auc: 0.8016577097093865\n",
            "Test set\n",
            "Random Forests roc-auc: 0.791033019265853\n"
          ],
          "name": "stdout"
        }
      ]
    },
    {
      "cell_type": "code",
      "metadata": {
        "id": "P8d7IiKDhoFh",
        "colab_type": "code",
        "colab": {
          "base_uri": "https://localhost:8080/",
          "height": 86
        },
        "outputId": "c38c463b-b7b5-467b-8339-2d9430ed8eec"
      },
      "source": [
        "# filter methods - correlation\n",
        "run_randomForests(X_train_corr.drop(labels=['ID'], axis=1),\n",
        "                  X_test_corr.drop(labels=['ID'], axis=1),\n",
        "                  y_train, y_test)"
      ],
      "execution_count": null,
      "outputs": [
        {
          "output_type": "stream",
          "text": [
            "Train set\n",
            "Random Forests roc-auc: 0.8073914001626228\n",
            "Test set\n",
            "Random Forests roc-auc: 0.7937667747098247\n"
          ],
          "name": "stdout"
        }
      ]
    },
    {
      "cell_type": "code",
      "metadata": {
        "id": "MQgRPM_lhoFp",
        "colab_type": "code",
        "colab": {
          "base_uri": "https://localhost:8080/",
          "height": 86
        },
        "outputId": "fef945bf-4730-4746-8b7c-b4afdf72edf6"
      },
      "source": [
        "# filter methods - univariate roc-auc\n",
        "run_randomForests(X_train[selected_feat.index],\n",
        "                  X_test_corr[selected_feat.index],\n",
        "                  y_train, y_test)"
      ],
      "execution_count": null,
      "outputs": [
        {
          "output_type": "stream",
          "text": [
            "Train set\n",
            "Random Forests roc-auc: 0.8105671870819526\n",
            "Test set\n",
            "Random Forests roc-auc: 0.7985492537265694\n"
          ],
          "name": "stdout"
        }
      ]
    },
    {
      "cell_type": "code",
      "metadata": {
        "id": "95Lf6vv0hoFz",
        "colab_type": "code",
        "colab": {
          "base_uri": "https://localhost:8080/",
          "height": 86
        },
        "outputId": "ba18a37a-4ac5-43e3-e62c-bd3b61582e71"
      },
      "source": [
        "# embedded methods - Lasso\n",
        "#run_randomForests(X_train_lasso.drop(labels=['ID'], axis=1),\n",
        "#                  X_test_lasso.drop(labels=['ID'], axis=1),\n",
        "#                  y_train, y_test)\n",
        "\n",
        "run_randomForests(X_train_lasso,X_test_lasso,y_train, y_test)"
      ],
      "execution_count": null,
      "outputs": [
        {
          "output_type": "stream",
          "text": [
            "Train set\n",
            "Random Forests roc-auc: 0.8130322934369456\n",
            "Test set\n",
            "Random Forests roc-auc: 0.7998181144676413\n"
          ],
          "name": "stdout"
        }
      ]
    },
    {
      "cell_type": "markdown",
      "metadata": {
        "id": "9XJWICT8hoF3",
        "colab_type": "text"
      },
      "source": [
        "Selecting features using Lasso or univariate feature selection using the roc-auc lead to very similar results:\n",
        "\n",
        "univariate: 0.7985\n",
        "\n",
        "Lasso: 0.7981\n",
        "\n",
        "The difference is in the 4th decimal, which is likely within the error (remember that all models have an error, which you could estimate doing cross-validation).\n",
        "\n",
        "Therefore, for this dataset, any of the 2 approaches would lead to a similar result in terms of performance and final number of features used (90 and 91 respectively).\n",
        "\n",
        "Let's have a look at the performance of logistic regression."
      ]
    },
    {
      "cell_type": "code",
      "metadata": {
        "id": "OH0n8cUZhoF5",
        "colab_type": "code",
        "colab": {}
      },
      "source": [
        "# create a function to build logistic regression and compare performance in train and test set\n",
        "\n",
        "def run_logistic(X_train, X_test, y_train, y_test):\n",
        "    # function to train and test the performance of logistic regression\n",
        "    logit = LogisticRegression(random_state=44)\n",
        "    logit.fit(X_train, y_train)\n",
        "    print('Train set')\n",
        "    pred = logit.predict_proba(X_train)\n",
        "    print('Logistic Regression roc-auc: {}'.format(roc_auc_score(y_train, pred[:,1])))\n",
        "    print('Test set')\n",
        "    pred = logit.predict_proba(X_test)\n",
        "    print('Logistic Regression roc-auc: {}'.format(roc_auc_score(y_test, pred[:,1])))"
      ],
      "execution_count": null,
      "outputs": []
    },
    {
      "cell_type": "code",
      "metadata": {
        "id": "T_VwaOLuhoF-",
        "colab_type": "code",
        "colab": {
          "base_uri": "https://localhost:8080/",
          "height": 245
        },
        "outputId": "d562fb39-5dfa-4b48-aad5-31a0a693d4fb"
      },
      "source": [
        "# original\n",
        "scaler = StandardScaler().fit(X_train_original.drop(labels=['ID'], axis=1))\n",
        "\n",
        "run_logistic(scaler.transform(X_train_original.drop(labels=['ID'], axis=1)),\n",
        "             scaler.transform(X_test_original.drop(labels=['ID'], axis=1)),\n",
        "                  y_train, y_test)"
      ],
      "execution_count": null,
      "outputs": [
        {
          "output_type": "stream",
          "text": [
            "Train set\n",
            "Logistic Regression roc-auc: 0.8068058302056849\n",
            "Test set\n",
            "Logistic Regression roc-auc: 0.7948755847784289\n"
          ],
          "name": "stdout"
        },
        {
          "output_type": "stream",
          "text": [
            "/usr/local/lib/python3.6/dist-packages/sklearn/linear_model/_logistic.py:940: ConvergenceWarning: lbfgs failed to converge (status=1):\n",
            "STOP: TOTAL NO. of ITERATIONS REACHED LIMIT.\n",
            "\n",
            "Increase the number of iterations (max_iter) or scale the data as shown in:\n",
            "    https://scikit-learn.org/stable/modules/preprocessing.html\n",
            "Please also refer to the documentation for alternative solver options:\n",
            "    https://scikit-learn.org/stable/modules/linear_model.html#logistic-regression\n",
            "  extra_warning_msg=_LOGISTIC_SOLVER_CONVERGENCE_MSG)\n"
          ],
          "name": "stderr"
        }
      ]
    },
    {
      "cell_type": "code",
      "metadata": {
        "id": "K7GeQZNUhoGE",
        "colab_type": "code",
        "colab": {
          "base_uri": "https://localhost:8080/",
          "height": 245
        },
        "outputId": "4a523eaf-174e-4595-f620-24bbbf5fb928"
      },
      "source": [
        "# filter methods - basic\n",
        "scaler = StandardScaler().fit(X_train_basic_filter.drop(labels=['ID'], axis=1))\n",
        "\n",
        "run_logistic(scaler.transform(X_train_basic_filter.drop(labels=['ID'], axis=1)),\n",
        "             scaler.transform(X_test_basic_filter.drop(labels=['ID'], axis=1)),\n",
        "                  y_train, y_test)"
      ],
      "execution_count": null,
      "outputs": [
        {
          "output_type": "stream",
          "text": [
            "Train set\n",
            "Logistic Regression roc-auc: 0.8057705860547986\n",
            "Test set\n",
            "Logistic Regression roc-auc: 0.7951899887692155\n"
          ],
          "name": "stdout"
        },
        {
          "output_type": "stream",
          "text": [
            "/usr/local/lib/python3.6/dist-packages/sklearn/linear_model/_logistic.py:940: ConvergenceWarning: lbfgs failed to converge (status=1):\n",
            "STOP: TOTAL NO. of ITERATIONS REACHED LIMIT.\n",
            "\n",
            "Increase the number of iterations (max_iter) or scale the data as shown in:\n",
            "    https://scikit-learn.org/stable/modules/preprocessing.html\n",
            "Please also refer to the documentation for alternative solver options:\n",
            "    https://scikit-learn.org/stable/modules/linear_model.html#logistic-regression\n",
            "  extra_warning_msg=_LOGISTIC_SOLVER_CONVERGENCE_MSG)\n"
          ],
          "name": "stderr"
        }
      ]
    },
    {
      "cell_type": "code",
      "metadata": {
        "id": "6PcBDl0RhoGL",
        "colab_type": "code",
        "colab": {
          "base_uri": "https://localhost:8080/",
          "height": 245
        },
        "outputId": "eaeb10ae-ed08-4b20-e3f9-5229e5108491"
      },
      "source": [
        "# filter methods - correlation\n",
        "scaler = StandardScaler().fit(X_train_corr.drop(labels=['ID'], axis=1))\n",
        "\n",
        "run_logistic(scaler.transform(X_train_corr.drop(labels=['ID'], axis=1)),\n",
        "             scaler.transform(X_test_corr.drop(labels=['ID'], axis=1)),\n",
        "                  y_train, y_test)"
      ],
      "execution_count": null,
      "outputs": [
        {
          "output_type": "stream",
          "text": [
            "Train set\n",
            "Logistic Regression roc-auc: 0.7966160581765025\n",
            "Test set\n",
            "Logistic Regression roc-auc: 0.7931114290523482\n"
          ],
          "name": "stdout"
        },
        {
          "output_type": "stream",
          "text": [
            "/usr/local/lib/python3.6/dist-packages/sklearn/linear_model/_logistic.py:940: ConvergenceWarning: lbfgs failed to converge (status=1):\n",
            "STOP: TOTAL NO. of ITERATIONS REACHED LIMIT.\n",
            "\n",
            "Increase the number of iterations (max_iter) or scale the data as shown in:\n",
            "    https://scikit-learn.org/stable/modules/preprocessing.html\n",
            "Please also refer to the documentation for alternative solver options:\n",
            "    https://scikit-learn.org/stable/modules/linear_model.html#logistic-regression\n",
            "  extra_warning_msg=_LOGISTIC_SOLVER_CONVERGENCE_MSG)\n"
          ],
          "name": "stderr"
        }
      ]
    },
    {
      "cell_type": "code",
      "metadata": {
        "id": "UMJf7SrPhoGR",
        "colab_type": "code",
        "colab": {
          "base_uri": "https://localhost:8080/",
          "height": 245
        },
        "outputId": "08a5644d-75dd-4a31-f5c9-27f58f8b0f46"
      },
      "source": [
        "# filter methods - univariate roc-auc\n",
        "scaler = StandardScaler().fit(X_train[selected_feat.index])\n",
        "\n",
        "run_logistic(scaler.transform(X_train[selected_feat.index]),\n",
        "             scaler.transform(X_test_corr[selected_feat.index]),\n",
        "                  y_train, y_test)"
      ],
      "execution_count": null,
      "outputs": [
        {
          "output_type": "stream",
          "text": [
            "Train set\n",
            "Logistic Regression roc-auc: 0.7930112658867351\n",
            "Test set\n",
            "Logistic Regression roc-auc: 0.794774206858335\n"
          ],
          "name": "stdout"
        },
        {
          "output_type": "stream",
          "text": [
            "/usr/local/lib/python3.6/dist-packages/sklearn/linear_model/_logistic.py:940: ConvergenceWarning: lbfgs failed to converge (status=1):\n",
            "STOP: TOTAL NO. of ITERATIONS REACHED LIMIT.\n",
            "\n",
            "Increase the number of iterations (max_iter) or scale the data as shown in:\n",
            "    https://scikit-learn.org/stable/modules/preprocessing.html\n",
            "Please also refer to the documentation for alternative solver options:\n",
            "    https://scikit-learn.org/stable/modules/linear_model.html#logistic-regression\n",
            "  extra_warning_msg=_LOGISTIC_SOLVER_CONVERGENCE_MSG)\n"
          ],
          "name": "stderr"
        }
      ]
    },
    {
      "cell_type": "code",
      "metadata": {
        "id": "pjku5RqhhoGW",
        "colab_type": "code",
        "colab": {
          "base_uri": "https://localhost:8080/",
          "height": 86
        },
        "outputId": "524f999f-5eac-4a03-ec27-192c9a1cfb15"
      },
      "source": [
        "# embedded methods - Lasso\n",
        "run_randomForests(X_train_lasso,X_test_lasso,y_train, y_test)"
      ],
      "execution_count": null,
      "outputs": [
        {
          "output_type": "stream",
          "text": [
            "Train set\n",
            "Random Forests roc-auc: 0.8130322934369456\n",
            "Test set\n",
            "Random Forests roc-auc: 0.7998181144676413\n"
          ],
          "name": "stdout"
        }
      ]
    },
    {
      "cell_type": "markdown",
      "metadata": {
        "id": "PLlfLdqkhoGa",
        "colab_type": "text"
      },
      "source": [
        "For logistic regression, Lasso provides a better selection of features:\n",
        "\n",
        "univariate: 0.7946\n",
        "\n",
        "Lasso: 0.7981\n",
        "\n",
        "In fact, Lasso feature selection renders the same performance for both random forests and logistic regressions, whereas the univariate roc-auc selects a subset of features that produces a less performing logistic regression model. So if your final model is a logistic regression for its simplicity and interpretability, the features selected by Lasso are the ones to be used.\n",
        "\n",
        "This is not surprising, because Lasso is a regularisation for linear models. Then, it is expected that the feature space selected is the optimal for a linear algorithm.\n",
        "\n",
        "Having said this, 90 features are still a lot of features, so stay tuned in the course to see if we can reduce this further.\n",
        "\n",
        "That is all for this lecture. I hope you enjoyed it!"
      ]
    },
    {
      "cell_type": "code",
      "metadata": {
        "id": "cFcJY4lihoGc",
        "colab_type": "code",
        "colab": {}
      },
      "source": [
        ""
      ],
      "execution_count": null,
      "outputs": []
    }
  ]
}